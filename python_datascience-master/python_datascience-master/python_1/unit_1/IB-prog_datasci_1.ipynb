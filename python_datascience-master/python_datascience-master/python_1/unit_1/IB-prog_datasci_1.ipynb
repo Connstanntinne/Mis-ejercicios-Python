{
 "metadata": {
  "name": "",
  "signature": "sha256:2401cffc320e2ac3cd3c12baeea605c90637454bcadbee453563efc35def3905"
 },
 "nbformat": 3,
 "nbformat_minor": 0,
 "worksheets": [
  {
   "cells": [
    {
     "cell_type": "heading",
     "level": 1,
     "metadata": {},
     "source": [
      "Programaci\u00f3n para *Data Science*"
     ]
    },
    {
     "cell_type": "markdown",
     "metadata": {},
     "source": [
      "Unidad 1: Instalaci\u00f3n y configuraci\u00f3n del entorno de programaci\u00f3n Python\n",
      "--------------------------------------------"
     ]
    },
    {
     "cell_type": "markdown",
     "metadata": {},
     "source": [
      "## \u00a1Funciona!"
     ]
    }
   ],
   "metadata": {}
  }
 ]
}