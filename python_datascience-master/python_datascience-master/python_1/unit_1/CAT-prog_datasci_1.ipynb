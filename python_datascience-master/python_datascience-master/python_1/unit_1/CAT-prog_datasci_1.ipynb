{
 "metadata": {
  "name": "",
  "signature": "sha256:c456630b60002f8f9b4ca835e9bcb71a237983510c785c514754d604a27812aa"
 },
 "nbformat": 3,
 "nbformat_minor": 0,
 "worksheets": [
  {
   "cells": [
    {
     "cell_type": "heading",
     "level": 1,
     "metadata": {},
     "source": [
      "Programaci\u00f3 per a *Data Science*"
     ]
    },
    {
     "cell_type": "markdown",
     "metadata": {},
     "source": [
      "Unitat 1: Instal\u00b7laci\u00f3 i configuraci\u00f3 de l'entorn de programaci\u00f3 Python\n",
      "--------------------------------------------"
     ]
    },
    {
     "cell_type": "markdown",
     "metadata": {},
     "source": [
      "## Funciona!"
     ]
    }
   ],
   "metadata": {}
  }
 ]
}