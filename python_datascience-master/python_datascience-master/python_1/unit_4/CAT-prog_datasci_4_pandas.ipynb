{
 "cells": [
  {
   "cell_type": "markdown",
   "metadata": {},
   "source": [
    "Programació per a *Data Science*\n",
    "============================\n",
    "\n",
    "Unitat 4: Llibreries científiques en Python - pandas\n",
    "--------------------------------------------------\n",
    "\n",
    "Instruccions d'ús\n",
    "-----------------\n",
    "\n",
    "A continuació es presentaran explicacions i exemples d'ús de la\n",
    "llibreria pandas. Recordeu que podeu anar executant els exemples per\n",
    "obtenir-ne els resultats.\n",
    "\n",
    "Introducció\n",
    "-----------\n",
    "\n",
    "Pandas és una llibreria de Python que ens ofereix una interfície d'alt\n",
    "nivell per manipular i analitzar dades. Podeu trobar-ne la documentació\n",
    "completa al següent\n",
    "[enllaç](http://pandas.pydata.org/pandas-docs/stable/).\n",
    "\n",
    "### Primers passos\n",
    "\n",
    "Per poder utilitzar la llibreria, en primer lloc cal importar-la:"
   ]
  },
  {
   "cell_type": "code",
   "execution_count": 1,
   "metadata": {
    "attributes": {
     "classes": [
      "sourceCode"
     ],
     "id": ""
    }
   },
   "outputs": [],
   "source": [
    "# A la línia següent, importem pandas i li donem un nom més curt \n",
    "# perquè ens sigui més còmode fer les crides.\n",
    "import pandas as pd\n",
    "# Importem també NumPy, ja que la farem servir en algun dels exemples.\n",
    "import numpy as np"
   ]
  },
  {
   "cell_type": "markdown",
   "metadata": {},
   "source": [
    "### Estructures de dades bàsiques\n",
    "\n",
    "Pandas proveeix de tres estructures de dades: la sèrie, el _dataframe_ i\n",
    "antigament el panell (ara, els _dataframes_ i les _sèries_ amb índexs multinivell). Vegem les característiques de cadascuna.\n",
    "\n",
    "Una **sèrie** és un vector **unidimensional** amb **etiquetes** als eixos i\n",
    "dades **homogènies**.\n",
    "\n",
    "Repassem què impliquen cadascuna d'aquestes característiques amb uns\n",
    "exemples.\n",
    "\n",
    "La sèrie ens permet representar un conjunt de dades unidimensionals,\n",
    "per exemple, una llista d'enters, decimals o de cadenes de caràcters:"
   ]
  },
  {
   "cell_type": "code",
   "execution_count": 2,
   "metadata": {
    "attributes": {
     "classes": [
      "sourceCode"
     ],
     "id": ""
    }
   },
   "outputs": [
    {
     "name": "stdout",
     "output_type": "stream",
     "text": [
      "0    1\n",
      "1    1\n",
      "2    2\n",
      "3    3\n",
      "4    5\n",
      "dtype: int64\n"
     ]
    }
   ],
   "source": [
    "print(pd.Series([1, 1, 2, 3, 5]))"
   ]
  },
  {
   "cell_type": "code",
   "execution_count": 3,
   "metadata": {
    "attributes": {
     "classes": [
      "sourceCode"
     ],
     "id": ""
    }
   },
   "outputs": [
    {
     "name": "stdout",
     "output_type": "stream",
     "text": [
      "0    1.50\n",
      "1    3.50\n",
      "2    4.75\n",
      "dtype: float64\n"
     ]
    }
   ],
   "source": [
    "print(pd.Series([1.5, 3.5, 4.75]))"
   ]
  },
  {
   "cell_type": "markdown",
   "metadata": {},
   "source": [
    "Les dades d'una sèrie han de ser homogènies, és a dir, han de ser del\n",
    "mateix tipus. Als exemples anteriors, la primera sèrie estava formada\n",
    "per enters (int64), mentre que la segona contenia nombres en punt flotant\n",
    "(float).\n",
    "\n",
    "De totes maneres, si intentem crear una sèrie amb dades de diferents\n",
    "tipus, podrem fer-ho, ja que pandas crearà una sèrie amb el tipus més\n",
    "general:"
   ]
  },
  {
   "cell_type": "code",
   "execution_count": 4,
   "metadata": {
    "attributes": {
     "classes": [
      "sourceCode"
     ],
     "id": ""
    }
   },
   "outputs": [
    {
     "name": "stdout",
     "output_type": "stream",
     "text": [
      "0    1.0\n",
      "1    2.0\n",
      "2    3.5\n",
      "dtype: float64\n"
     ]
    }
   ],
   "source": [
    "# Barregem enters i 'floats', la sèrie és de tipus 'float'.\n",
    "print(pd.Series([1, 2, 3.5]))"
   ]
  },
  {
   "cell_type": "code",
   "execution_count": 5,
   "metadata": {
    "attributes": {
     "classes": [
      "sourceCode"
     ],
     "id": ""
    }
   },
   "outputs": [
    {
     "name": "stdout",
     "output_type": "stream",
     "text": [
      "0       1\n",
      "1     4.3\n",
      "2    data\n",
      "dtype: object\n"
     ]
    }
   ],
   "source": [
    "# Barregem enters, 'floats' i 'strings', la sèrie és de tipus 'object'.\n",
    "print(pd.Series([1, 4.3, \"data\"]))"
   ]
  },
  {
   "cell_type": "markdown",
   "metadata": {},
   "source": [
    "Finalment, la sèrie pot tenir etiquetes, de manera que podem accedir\n",
    "als elements d'una sèrie tant a partir del seu índex com de la seva\n",
    "etiqueta."
   ]
  },
  {
   "cell_type": "code",
   "execution_count": 6,
   "metadata": {
    "attributes": {
     "classes": [
      "sourceCode"
     ],
     "id": ""
    }
   },
   "outputs": [
    {
     "name": "stdout",
     "output_type": "stream",
     "text": [
      "alice    2\n",
      "bob      3\n",
      "eve      5\n",
      "dtype: int64\n",
      "2\n",
      "2\n"
     ]
    }
   ],
   "source": [
    "# Creem una sèrie etiquetada a partir d'un diccionari.\n",
    "s = pd.Series({\"alice\" : 2, \"bob\": 3, \"eve\": 5})\n",
    "print(s)\n",
    "\n",
    "# Accedim als elements de la sèrie a partir de la seva etiqueta.\n",
    "print(s[\"alice\"])\n",
    "\n",
    "# Accedim als elements de la sèrie a partir del seu índex.\n",
    "print(s[0])"
   ]
  },
  {
   "cell_type": "code",
   "execution_count": 7,
   "metadata": {
    "attributes": {
     "classes": [
      "sourceCode"
     ],
     "id": ""
    }
   },
   "outputs": [
    {
     "name": "stdout",
     "output_type": "stream",
     "text": [
      "alice    2\n",
      "bob      3\n",
      "eve      5\n",
      "dtype: int64\n"
     ]
    }
   ],
   "source": [
    "# Creem una sèrie etiquetada a partir de dos vectors, un amb les dades i un altre amb les etiquetes.\n",
    "print(pd.Series([2, 3, 5], index = [\"alice\", \"bob\", \"eve\"]))"
   ]
  },
  {
   "cell_type": "markdown",
   "metadata": {},
   "source": [
    "La segona estructura de dades de pandas que presentarem és el _dataframe_.\n",
    "\n",
    "Un _**dataframe**_ és una taula **bidimensional** amb **etiquetes** als eixos\n",
    "i dades potencialment **heterogènies**. El _dataframe_ és l' estructura\n",
    "principal de treball amb la llibreria pandas.\n",
    "\n",
    "Vegem les característiques principals d'un _dataframe_ amb alguns\n",
    "exemples.\n",
    "\n",
    "A diferència d'una sèrie, un _dataframe_ és bidimensional:"
   ]
  },
  {
   "cell_type": "code",
   "execution_count": 8,
   "metadata": {
    "attributes": {
     "classes": [
      "sourceCode"
     ],
     "id": ""
    }
   },
   "outputs": [
    {
     "name": "stdout",
     "output_type": "stream",
     "text": [
      "   0  1  2\n",
      "0  1  2  3\n",
      "1  4  5  6\n"
     ]
    }
   ],
   "source": [
    "print(pd.DataFrame([[1, 2, 3], [4, 5, 6]]))"
   ]
  },
  {
   "cell_type": "markdown",
   "metadata": {},
   "source": [
    "Igual que la sèrie, el _dataframe_ pot tenir etiquetes als eixos i podem\n",
    "utilitzar diferents sintaxis per incloure les etiquetes al _dataframe_."
   ]
  },
  {
   "cell_type": "code",
   "execution_count": 9,
   "metadata": {
    "attributes": {
     "classes": [
      "sourceCode"
     ],
     "id": ""
    }
   },
   "outputs": [
    {
     "name": "stdout",
     "output_type": "stream",
     "text": [
      "       alice   bob   eve\n",
      "year    1953  1955  2011\n",
      "month     12    11    10\n",
      "day        3    24    10\n"
     ]
    }
   ],
   "source": [
    "# Fem servir un diccionari per definir cada columna i una llista per indicar les etiquetes de les files.\n",
    "d = {\"alice\" : [1953, 12, 3], \"bob\" : [1955, 11, 24], \"eve\" : [2011, 10, 10]}\n",
    "print(pd.DataFrame(d, index=[\"year\", \"month\", \"day\"]))"
   ]
  },
  {
   "cell_type": "code",
   "execution_count": 10,
   "metadata": {
    "attributes": {
     "classes": [
      "sourceCode"
     ],
     "id": ""
    }
   },
   "outputs": [
    {
     "name": "stdout",
     "output_type": "stream",
     "text": [
      "       year  month  day\n",
      "alice  1953     12    3\n",
      "bob    1955     11   24\n",
      "eve    2011     10   10\n"
     ]
    }
   ],
   "source": [
    "# Fem servir una llista de llistes per a introduir les dades i dues llistes addicionals \n",
    "# per a indicar les etiquetes de files i les columnes.\n",
    "a = [[1953, 12, 3], [1955, 11, 24], [2011, 10, 10]]\n",
    "print(pd.DataFrame(a, columns=[\"year\", \"month\", \"day\"], index = [\"alice\", \"bob\", \"eve\"]))"
   ]
  },
  {
   "cell_type": "markdown",
   "metadata": {},
   "source": [
    "Cadascuna de les columnes d'un _dataframe_ pot tenir tipus de dades\n",
    "diferents, donant lloc a _dataframes_ heterogenis:"
   ]
  },
  {
   "cell_type": "code",
   "execution_count": 11,
   "metadata": {
    "attributes": {
     "classes": [
      "sourceCode"
     ],
     "id": ""
    }
   },
   "outputs": [
    {
     "name": "stdout",
     "output_type": "stream",
     "text": [
      "       year             major  average grade\n",
      "alice  1953  computer science            3.5\n",
      "bob    1955        archeology            3.8\n",
      "eve    2011           biology            2.8\n"
     ]
    }
   ],
   "source": [
    "a = [[1953, \"computer science\", 3.5], [1955, \"archeology\", 3.8], [2011, \"biology\", 2.8]]\n",
    "print(pd.DataFrame(a, columns=[\"year\", \"major\", \"average grade\"], index = [\"alice\", \"bob\", \"eve\"]))"
   ]
  },
  {
   "cell_type": "markdown",
   "metadata": {},
   "source": [
    "En versions anteriors de pandas, disposàvem del panell com a tercera estructura de dades. Un **panell** és una estructura de dades **tridimensional** que pot contenir **etiquetes** als eixos i pot ser **heterogènia**.\n",
    "\n",
    "Actualment, l'ús dels panells està discontinuat, i fem servir sèries i _dataframes_ amb índexs multinivell per tal de representar estructures de dades de més de dues dimensions.\n",
    "\n",
    "Vegem un exemple senzill d'ús d'índexs multinivell per a representar una\n",
    "imatge."
   ]
  },
  {
   "cell_type": "code",
   "execution_count": 12,
   "metadata": {},
   "outputs": [
    {
     "data": {
      "text/plain": [
       "row  column  color\n",
       "0    0       R          0\n",
       "             G          0\n",
       "             B          0\n",
       "     1       R          0\n",
       "             G         15\n",
       "             B          0\n",
       "     2       R          0\n",
       "             G          0\n",
       "             B         15\n",
       "     3       R         15\n",
       "             G          0\n",
       "             B          0\n",
       "     4       R        180\n",
       "             G        180\n",
       "             B        180\n",
       "1    0       R        200\n",
       "             G        200\n",
       "             B        200\n",
       "     1       R        125\n",
       "             G          1\n",
       "             B        125\n",
       "     2       R        100\n",
       "             G        100\n",
       "             B          2\n",
       "     3       R          1\n",
       "             G        152\n",
       "             B        125\n",
       "     4       R         15\n",
       "             G         25\n",
       "             B         20\n",
       "dtype: int64"
      ]
     },
     "execution_count": 12,
     "metadata": {},
     "output_type": "execute_result"
    }
   ],
   "source": [
    "img = [[[0, 0, 0], [0, 15, 0], [0, 0, 15], [15, 0, 0], [180, 180, 180]],\n",
    "       [[200, 200, 200], [125, 1, 125], [100, 100, 2], [1, 152, 125], [15, 25, 20]]]\n",
    "\n",
    "# Fem servir números per indexar les files i les columnes, i les lletres \n",
    "# \"R\", \"G\", \"B\" per indicar el contingut d'aquest color en cada píxel\n",
    "index = pd.MultiIndex.from_product(\n",
    "    [range(len(img)), range(len(img[0])), [\"R\", \"G\", \"B\"]], \n",
    "    names=['row', 'column', 'color'])\n",
    "\n",
    "# Creem la sèrie amb l'índex multidimensional especificant les dades\n",
    "# i els índex\n",
    "s = pd.Series([x for row in img for col in row for x in col], \n",
    "               index=index)\n",
    "s"
   ]
  },
  {
   "cell_type": "markdown",
   "metadata": {},
   "source": [
    "Visualitzem gràficament la imatge per entendre millor la representació\n",
    "escollida. La imatge té dues files i cinc columnes i per a cada píxel utilitzem\n",
    "tres valors numèrics per representar-ne el color."
   ]
  },
  {
   "cell_type": "code",
   "execution_count": 13,
   "metadata": {
    "attributes": {
     "classes": [
      "sourceCode"
     ],
     "id": ""
    }
   },
   "outputs": [
    {
     "name": "stdout",
     "output_type": "stream",
     "text": [
      "Populating the interactive namespace from numpy and matplotlib\n"
     ]
    },
    {
     "data": {
      "text/plain": [
       "<matplotlib.image.AxesImage at 0x7fb3af1beef0>"
      ]
     },
     "execution_count": 13,
     "metadata": {},
     "output_type": "execute_result"
    },
    {
     "data": {
      "image/png": "[encoded data removed]",
      "text/plain": [
       "<Figure size 432x288 with 1 Axes>"
      ]
     },
     "metadata": {
      "needs_background": "light"
     },
     "output_type": "display_data"
    }
   ],
   "source": [
    "%pylab inline\n",
    "from pylab import imshow\n",
    "imshow(array(img, dtype=uint16), interpolation='nearest')"
   ]
  },
  {
   "cell_type": "markdown",
   "metadata": {},
   "source": [
    "Operacions bàsiques sobre un _dataframe_\n",
    "--------------------------------------\n",
    "\n",
    "El _dataframe_ és l'estructura més usada a pandas. Vegem algunes de les\n",
    "operacions que podem realitzar amb aquest.\n",
    "\n",
    "### Lectura de dades d'un fitxer\n",
    "\n",
    "Pandas ens permet carregar les dades d'un fitxer CSV directament a un\n",
    "_dataframe_ a través de la funció `read_csv`. Aquesta funció és molt\n",
    "versàtil i disposa de multitud de paràmetres per configurar amb tot\n",
    "detall com dur a terme la importació. En molts casos, la configuració\n",
    "per defecte ja ens oferirà els resultats desitjats.\n",
    "\n",
    "Ara carregarem les dades del fitxer `marvel-wikia-data.csv`, que conté\n",
    "dades sobre personatges de còmic de Marvel. El conjunt de dades va ser\n",
    "creat pel web [FiveThirtyEight](https://fivethirtyeight.com/), que\n",
    "escriu articles basats en dades sobre esports i notícies, i que posa a\n",
    "disposició pública els [conjunts de\n",
    "dades](https://github.com/fivethirtyeight/data) que recull per als seus\n",
    "articles."
   ]
  },
  {
   "cell_type": "code",
   "execution_count": 14,
   "metadata": {
    "attributes": {
     "classes": [
      "sourceCode"
     ],
     "id": ""
    }
   },
   "outputs": [
    {
     "name": "stdout",
     "output_type": "stream",
     "text": [
      "<class 'pandas.core.frame.DataFrame'>\n"
     ]
    }
   ],
   "source": [
    "# Carreguem les dades del fitxer \"marvel-wikia-data.csv\" a un 'dataframe'.\n",
    "data = pd.read_csv(\"data/marvel-wikia-data.csv\")\n",
    "print(type(data))"
   ]
  },
  {
   "cell_type": "markdown",
   "metadata": {},
   "source": [
    "### Exploració del _dataframe_\n",
    "\n",
    "Vegem algunes funcions que ens permeten explorar el _dataframe_ que acabem\n",
    "de carregar."
   ]
  },
  {
   "cell_type": "code",
   "execution_count": 15,
   "metadata": {
    "attributes": {
     "classes": [
      "sourceCode"
     ],
     "id": ""
    }
   },
   "outputs": [
    {
     "data": {
      "text/html": [
       "<div>\n",
       "<style scoped>\n",
       "    .dataframe tbody tr th:only-of-type {\n",
       "        vertical-align: middle;\n",
       "    }\n",
       "\n",
       "    .dataframe tbody tr th {\n",
       "        vertical-align: top;\n",
       "    }\n",
       "\n",
       "    .dataframe thead th {\n",
       "        text-align: right;\n",
       "    }\n",
       "</style>\n",
       "<table border=\"1\" class=\"dataframe\">\n",
       "  <thead>\n",
       "    <tr style=\"text-align: right;\">\n",
       "      <th></th>\n",
       "      <th>page_id</th>\n",
       "      <th>name</th>\n",
       "      <th>urlslug</th>\n",
       "      <th>ID</th>\n",
       "      <th>ALIGN</th>\n",
       "      <th>EYE</th>\n",
       "      <th>HAIR</th>\n",
       "      <th>SEX</th>\n",
       "      <th>GSM</th>\n",
       "      <th>ALIVE</th>\n",
       "      <th>APPEARANCES</th>\n",
       "      <th>FIRST APPEARANCE</th>\n",
       "      <th>Year</th>\n",
       "    </tr>\n",
       "  </thead>\n",
       "  <tbody>\n",
       "    <tr>\n",
       "      <th>0</th>\n",
       "      <td>1678</td>\n",
       "      <td>Spider-Man (Peter Parker)</td>\n",
       "      <td>\\/Spider-Man_(Peter_Parker)</td>\n",
       "      <td>Secret Identity</td>\n",
       "      <td>Good Characters</td>\n",
       "      <td>Hazel Eyes</td>\n",
       "      <td>Brown Hair</td>\n",
       "      <td>Male Characters</td>\n",
       "      <td>NaN</td>\n",
       "      <td>Living Characters</td>\n",
       "      <td>4043.0</td>\n",
       "      <td>Aug-62</td>\n",
       "      <td>1962.0</td>\n",
       "    </tr>\n",
       "    <tr>\n",
       "      <th>1</th>\n",
       "      <td>7139</td>\n",
       "      <td>Captain America (Steven Rogers)</td>\n",
       "      <td>\\/Captain_America_(Steven_Rogers)</td>\n",
       "      <td>Public Identity</td>\n",
       "      <td>Good Characters</td>\n",
       "      <td>Blue Eyes</td>\n",
       "      <td>White Hair</td>\n",
       "      <td>Male Characters</td>\n",
       "      <td>NaN</td>\n",
       "      <td>Living Characters</td>\n",
       "      <td>3360.0</td>\n",
       "      <td>Mar-41</td>\n",
       "      <td>1941.0</td>\n",
       "    </tr>\n",
       "    <tr>\n",
       "      <th>2</th>\n",
       "      <td>64786</td>\n",
       "      <td>Wolverine (James \\\"Logan\\\" Howlett)</td>\n",
       "      <td>\\/Wolverine_(James_%22Logan%22_Howlett)</td>\n",
       "      <td>Public Identity</td>\n",
       "      <td>Neutral Characters</td>\n",
       "      <td>Blue Eyes</td>\n",
       "      <td>Black Hair</td>\n",
       "      <td>Male Characters</td>\n",
       "      <td>NaN</td>\n",
       "      <td>Living Characters</td>\n",
       "      <td>3061.0</td>\n",
       "      <td>Oct-74</td>\n",
       "      <td>1974.0</td>\n",
       "    </tr>\n",
       "  </tbody>\n",
       "</table>\n",
       "</div>"
      ],
      "text/plain": [
       "   page_id                                 name  \\\n",
       "0     1678            Spider-Man (Peter Parker)   \n",
       "1     7139      Captain America (Steven Rogers)   \n",
       "2    64786  Wolverine (James \\\"Logan\\\" Howlett)   \n",
       "\n",
       "                                   urlslug               ID  \\\n",
       "0              \\/Spider-Man_(Peter_Parker)  Secret Identity   \n",
       "1        \\/Captain_America_(Steven_Rogers)  Public Identity   \n",
       "2  \\/Wolverine_(James_%22Logan%22_Howlett)  Public Identity   \n",
       "\n",
       "                ALIGN         EYE        HAIR              SEX  GSM  \\\n",
       "0     Good Characters  Hazel Eyes  Brown Hair  Male Characters  NaN   \n",
       "1     Good Characters   Blue Eyes  White Hair  Male Characters  NaN   \n",
       "2  Neutral Characters   Blue Eyes  Black Hair  Male Characters  NaN   \n",
       "\n",
       "               ALIVE  APPEARANCES FIRST APPEARANCE    Year  \n",
       "0  Living Characters       4043.0           Aug-62  1962.0  \n",
       "1  Living Characters       3360.0           Mar-41  1941.0  \n",
       "2  Living Characters       3061.0           Oct-74  1974.0  "
      ]
     },
     "execution_count": 15,
     "metadata": {},
     "output_type": "execute_result"
    }
   ],
   "source": [
    "# Mostrar les 3 primeres files.\n",
    "data.head(n=3)"
   ]
  },
  {
   "cell_type": "code",
   "execution_count": 16,
   "metadata": {
    "attributes": {
     "classes": [
      "sourceCode"
     ],
     "id": ""
    }
   },
   "outputs": [
    {
     "data": {
      "text/plain": [
       "RangeIndex(start=0, stop=16376, step=1)"
      ]
     },
     "execution_count": 16,
     "metadata": {},
     "output_type": "execute_result"
    }
   ],
   "source": [
    "# Mostrar les etiquetes.\n",
    "data.index"
   ]
  },
  {
   "cell_type": "code",
   "execution_count": 17,
   "metadata": {
    "attributes": {
     "classes": [
      "sourceCode"
     ],
     "id": ""
    }
   },
   "outputs": [
    {
     "data": {
      "text/html": [
       "<div>\n",
       "<style scoped>\n",
       "    .dataframe tbody tr th:only-of-type {\n",
       "        vertical-align: middle;\n",
       "    }\n",
       "\n",
       "    .dataframe tbody tr th {\n",
       "        vertical-align: top;\n",
       "    }\n",
       "\n",
       "    .dataframe thead th {\n",
       "        text-align: right;\n",
       "    }\n",
       "</style>\n",
       "<table border=\"1\" class=\"dataframe\">\n",
       "  <thead>\n",
       "    <tr style=\"text-align: right;\">\n",
       "      <th></th>\n",
       "      <th>page_id</th>\n",
       "      <th>APPEARANCES</th>\n",
       "      <th>Year</th>\n",
       "    </tr>\n",
       "  </thead>\n",
       "  <tbody>\n",
       "    <tr>\n",
       "      <th>count</th>\n",
       "      <td>16376.000000</td>\n",
       "      <td>15280.000000</td>\n",
       "      <td>15561.000000</td>\n",
       "    </tr>\n",
       "    <tr>\n",
       "      <th>mean</th>\n",
       "      <td>300232.082377</td>\n",
       "      <td>17.033377</td>\n",
       "      <td>1984.951803</td>\n",
       "    </tr>\n",
       "    <tr>\n",
       "      <th>std</th>\n",
       "      <td>253460.403399</td>\n",
       "      <td>96.372959</td>\n",
       "      <td>19.663571</td>\n",
       "    </tr>\n",
       "    <tr>\n",
       "      <th>min</th>\n",
       "      <td>1025.000000</td>\n",
       "      <td>1.000000</td>\n",
       "      <td>1939.000000</td>\n",
       "    </tr>\n",
       "    <tr>\n",
       "      <th>25%</th>\n",
       "      <td>28309.500000</td>\n",
       "      <td>1.000000</td>\n",
       "      <td>1974.000000</td>\n",
       "    </tr>\n",
       "    <tr>\n",
       "      <th>50%</th>\n",
       "      <td>282578.000000</td>\n",
       "      <td>3.000000</td>\n",
       "      <td>1990.000000</td>\n",
       "    </tr>\n",
       "    <tr>\n",
       "      <th>75%</th>\n",
       "      <td>509077.000000</td>\n",
       "      <td>8.000000</td>\n",
       "      <td>2000.000000</td>\n",
       "    </tr>\n",
       "    <tr>\n",
       "      <th>max</th>\n",
       "      <td>755278.000000</td>\n",
       "      <td>4043.000000</td>\n",
       "      <td>2013.000000</td>\n",
       "    </tr>\n",
       "  </tbody>\n",
       "</table>\n",
       "</div>"
      ],
      "text/plain": [
       "             page_id   APPEARANCES          Year\n",
       "count   16376.000000  15280.000000  15561.000000\n",
       "mean   300232.082377     17.033377   1984.951803\n",
       "std    253460.403399     96.372959     19.663571\n",
       "min      1025.000000      1.000000   1939.000000\n",
       "25%     28309.500000      1.000000   1974.000000\n",
       "50%    282578.000000      3.000000   1990.000000\n",
       "75%    509077.000000      8.000000   2000.000000\n",
       "max    755278.000000   4043.000000   2013.000000"
      ]
     },
     "execution_count": 17,
     "metadata": {},
     "output_type": "execute_result"
    }
   ],
   "source": [
    "# Mostra estadístiques bàsiques de les columnes numèriques del 'dataframe'.\n",
    "data.describe()"
   ]
  },
  {
   "cell_type": "markdown",
   "metadata": {},
   "source": [
    "### Indexació i selecció de dades\n",
    "\n",
    "Podem utilitzar les expressions habituals de Python (i NumPy) per\n",
    "seleccionar dades de _dataframes_ o bé fer servir els operadors propis de\n",
    "pandas. Aquests últims estan optimitzats, per la qual cosa el seu ús és\n",
    "recomanat per treballar amb conjunts de dades grans o en situacions en què\n",
    "l'eficiència sigui crítica."
   ]
  },
  {
   "cell_type": "code",
   "execution_count": 18,
   "metadata": {
    "attributes": {
     "classes": [
      "sourceCode"
     ],
     "id": ""
    }
   },
   "outputs": [
    {
     "data": {
      "text/plain": [
       "0              Spider-Man (Peter Parker)\n",
       "1        Captain America (Steven Rogers)\n",
       "2    Wolverine (James \\\"Logan\\\" Howlett)\n",
       "3      Iron Man (Anthony \\\"Tony\\\" Stark)\n",
       "4                    Thor (Thor Odinson)\n",
       "5             Benjamin Grimm (Earth-616)\n",
       "6              Reed Richards (Earth-616)\n",
       "7             Hulk (Robert Bruce Banner)\n",
       "8              Scott Summers (Earth-616)\n",
       "9             Jonathan Storm (Earth-616)\n",
       "Name: name, dtype: object"
      ]
     },
     "execution_count": 18,
     "metadata": {},
     "output_type": "execute_result"
    }
   ],
   "source": [
    "# Seleccionem els noms dels deu primers personatges, és a dir, mostrem la columna \"name\" de les deu primeres files\n",
    "# fent servir expressions Python.\n",
    "data[\"name\"][0:10]"
   ]
  },
  {
   "cell_type": "code",
   "execution_count": 19,
   "metadata": {
    "attributes": {
     "classes": [
      "sourceCode"
     ],
     "id": ""
    }
   },
   "outputs": [
    {
     "data": {
      "text/html": [
       "<div>\n",
       "<style scoped>\n",
       "    .dataframe tbody tr th:only-of-type {\n",
       "        vertical-align: middle;\n",
       "    }\n",
       "\n",
       "    .dataframe tbody tr th {\n",
       "        vertical-align: top;\n",
       "    }\n",
       "\n",
       "    .dataframe thead th {\n",
       "        text-align: right;\n",
       "    }\n",
       "</style>\n",
       "<table border=\"1\" class=\"dataframe\">\n",
       "  <thead>\n",
       "    <tr style=\"text-align: right;\">\n",
       "      <th></th>\n",
       "      <th>name</th>\n",
       "      <th>ID</th>\n",
       "      <th>HAIR</th>\n",
       "    </tr>\n",
       "  </thead>\n",
       "  <tbody>\n",
       "    <tr>\n",
       "      <th>3</th>\n",
       "      <td>Iron Man (Anthony \\\"Tony\\\" Stark)</td>\n",
       "      <td>Public Identity</td>\n",
       "      <td>Black Hair</td>\n",
       "    </tr>\n",
       "    <tr>\n",
       "      <th>8</th>\n",
       "      <td>Scott Summers (Earth-616)</td>\n",
       "      <td>Public Identity</td>\n",
       "      <td>Brown Hair</td>\n",
       "    </tr>\n",
       "  </tbody>\n",
       "</table>\n",
       "</div>"
      ],
      "text/plain": [
       "                                name               ID        HAIR\n",
       "3  Iron Man (Anthony \\\"Tony\\\" Stark)  Public Identity  Black Hair\n",
       "8          Scott Summers (Earth-616)  Public Identity  Brown Hair"
      ]
     },
     "execution_count": 19,
     "metadata": {},
     "output_type": "execute_result"
    }
   ],
   "source": [
    "# Seleccionem el nom, l'estat de la seva identitat i el color de cabell dels superherois 3 i 8\n",
    "# amb l'operador d'accés de pandas .loc\n",
    "data.loc[[3,8], [\"name\", \"ID\", \"HAIR\"]]"
   ]
  },
  {
   "cell_type": "code",
   "execution_count": 20,
   "metadata": {
    "attributes": {
     "classes": [
      "sourceCode"
     ],
     "id": ""
    }
   },
   "outputs": [
    {
     "name": "stdout",
     "output_type": "stream",
     "text": [
      "11638\n",
      "3837\n"
     ]
    }
   ],
   "source": [
    "# Seleccionem files segons el gènere del superheroi utilitzant operadors binaris i expressions Python.\n",
    "male = data[data.SEX == \"Male Characters\"]\n",
    "female = data[data.SEX == \"Female Characters\"]\n",
    "print(len(male))\n",
    "print(len(female))"
   ]
  },
  {
   "cell_type": "code",
   "execution_count": 21,
   "metadata": {
    "attributes": {
     "classes": [
      "sourceCode"
     ],
     "id": ""
    }
   },
   "outputs": [
    {
     "name": "stdout",
     "output_type": "stream",
     "text": [
      "5\n",
      "0      Spider-Man (Peter Parker)\n",
      "19      Robert Drake (Earth-616)\n",
      "23    Piotr Rasputin (Earth-616)\n",
      "29       Kurt Wagner (Earth-616)\n",
      "30            Vision (Earth-616)\n",
      "Name: name, dtype: object\n"
     ]
    }
   ],
   "source": [
    "# Combinem operadors binaris per seleccionar els superherois amb identitat secreta que han aparegut més\n",
    "# de dues mil vegades amb expressions Python.\n",
    "secret_and_popular1 = data[(data.APPEARANCES > 1000) & (data.ID == \"Secret Identity\")]\n",
    "print(len(secret_and_popular1))\n",
    "print(secret_and_popular1[\"name\"])"
   ]
  },
  {
   "cell_type": "code",
   "execution_count": 22,
   "metadata": {
    "attributes": {
     "classes": [
      "sourceCode"
     ],
     "id": ""
    }
   },
   "outputs": [
    {
     "name": "stdout",
     "output_type": "stream",
     "text": [
      "16376\n",
      "0    Spider-Man (Peter Parker)\n",
      "1                          NaN\n",
      "2                          NaN\n",
      "3                          NaN\n",
      "4                          NaN\n",
      "5                          NaN\n",
      "6                          NaN\n",
      "7                          NaN\n",
      "8                          NaN\n",
      "9                          NaN\n",
      "Name: name, dtype: object\n"
     ]
    }
   ],
   "source": [
    "# Utilitzem el mètode 'where' de pandas per obtenir la mateixa informació:\n",
    "secret_and_popular2 = data.where ((data.APPEARANCES> 1000) & (data.ID == \"Secret Identity\"))\n",
    "# Fixeu-vos que en aquest cas el resultat té la mateixa mida que el 'dataframe original': els valors no seleccionats\n",
    "# mostren NaN.\n",
    "print(len(secret_and_popular2))\n",
    "print(secret_and_popular2[\"name\"][0:10])"
   ]
  },
  {
   "cell_type": "code",
   "execution_count": 23,
   "metadata": {
    "attributes": {
     "classes": [
      "sourceCode"
     ],
     "id": ""
    }
   },
   "outputs": [
    {
     "name": "stdout",
     "output_type": "stream",
     "text": [
      "0      Spider-Man (Peter Parker)\n",
      "19      Robert Drake (Earth-616)\n",
      "23    Piotr Rasputin (Earth-616)\n",
      "29       Kurt Wagner (Earth-616)\n",
      "30            Vision (Earth-616)\n",
      "Name: name, dtype: object\n"
     ]
    }
   ],
   "source": [
    "# Podem eliminar les files que tinguin tots els valors NaN, de manera que obtindrem el mateix resultat que fent servir \n",
    "# operadors binaris.\n",
    "print(secret_and_popular2.dropna(how=\"all\")[\"name\"])"
   ]
  },
  {
   "cell_type": "markdown",
   "metadata": {},
   "source": [
    "### Agregació de dades\n",
    "\n",
    "Pandas també permet crear grups de dades a partir dels valors d' una o\n",
    "més columnes i després operar sobre els grups creats. Vegem alguns\n",
    "exemples."
   ]
  },
  {
   "cell_type": "code",
   "execution_count": 24,
   "metadata": {
    "attributes": {
     "classes": [
      "sourceCode"
     ],
     "id": ""
    }
   },
   "outputs": [
    {
     "name": "stdout",
     "output_type": "stream",
     "text": [
      "Bad Characters 6720\n",
      "Good Characters 4636\n",
      "Neutral Characters 2208\n"
     ]
    }
   ],
   "source": [
    "# Agrupem el 'dataframe' en funció de l'alineació del superheroi.\n",
    "grouped = data.groupby(\"ALIGN\")\n",
    "\n",
    "# Visualitzem el nom i el nombre de files de cada grup.\n",
    "for name, group in grouped:\n",
    "    print(name, len(group))"
   ]
  },
  {
   "cell_type": "code",
   "execution_count": 25,
   "metadata": {
    "attributes": {
     "classes": [
      "sourceCode"
     ],
     "id": ""
    }
   },
   "outputs": [
    {
     "name": "stdout",
     "output_type": "stream",
     "text": [
      "('Bad Characters', 'Known to Authorities Identity') 3\n",
      "('Bad Characters', 'No Dual Identity') 474\n",
      "('Bad Characters', 'Public Identity') 1452\n",
      "('Bad Characters', 'Secret Identity') 3223\n",
      "('Good Characters', 'Known to Authorities Identity') 10\n",
      "('Good Characters', 'No Dual Identity') 647\n",
      "('Good Characters', 'Public Identity') 1628\n",
      "('Good Characters', 'Secret Identity') 1613\n",
      "('Neutral Characters', 'Known to Authorities Identity') 2\n",
      "('Neutral Characters', 'No Dual Identity') 390\n",
      "('Neutral Characters', 'Public Identity') 706\n",
      "('Neutral Characters', 'Secret Identity') 818\n"
     ]
    }
   ],
   "source": [
    "# Agrupem el 'dataframe' en funció de l'alineació del superheroi i de l'ocultació de la seva identitat.\n",
    "grouped = data.groupby([\"ALIGN\", \"ID\"])\n",
    "\n",
    "# Visualitzem el nom i el nombre de files de cada grup.\n",
    "for name, group in grouped:\n",
    "    print(name, len(group))"
   ]
  },
  {
   "cell_type": "code",
   "execution_count": 26,
   "metadata": {
    "attributes": {
     "classes": [
      "sourceCode"
     ],
     "id": ""
    }
   },
   "outputs": [
    {
     "data": {
      "text/html": [
       "<div>\n",
       "<style scoped>\n",
       "    .dataframe tbody tr th:only-of-type {\n",
       "        vertical-align: middle;\n",
       "    }\n",
       "\n",
       "    .dataframe tbody tr th {\n",
       "        vertical-align: top;\n",
       "    }\n",
       "\n",
       "    .dataframe thead th {\n",
       "        text-align: right;\n",
       "    }\n",
       "</style>\n",
       "<table border=\"1\" class=\"dataframe\">\n",
       "  <thead>\n",
       "    <tr style=\"text-align: right;\">\n",
       "      <th></th>\n",
       "      <th></th>\n",
       "      <th>page_id</th>\n",
       "      <th>APPEARANCES</th>\n",
       "      <th>Year</th>\n",
       "    </tr>\n",
       "    <tr>\n",
       "      <th>ALIGN</th>\n",
       "      <th>ID</th>\n",
       "      <th></th>\n",
       "      <th></th>\n",
       "      <th></th>\n",
       "    </tr>\n",
       "  </thead>\n",
       "  <tbody>\n",
       "    <tr>\n",
       "      <th rowspan=\"4\" valign=\"top\">Bad Characters</th>\n",
       "      <th>Known to Authorities Identity</th>\n",
       "      <td>20762.666667</td>\n",
       "      <td>11.666667</td>\n",
       "      <td>1991.666667</td>\n",
       "    </tr>\n",
       "    <tr>\n",
       "      <th>No Dual Identity</th>\n",
       "      <td>420196.056962</td>\n",
       "      <td>10.434211</td>\n",
       "      <td>1973.530806</td>\n",
       "    </tr>\n",
       "    <tr>\n",
       "      <th>Public Identity</th>\n",
       "      <td>364450.002066</td>\n",
       "      <td>10.846815</td>\n",
       "      <td>1973.381458</td>\n",
       "    </tr>\n",
       "    <tr>\n",
       "      <th>Secret Identity</th>\n",
       "      <td>272270.281415</td>\n",
       "      <td>8.895082</td>\n",
       "      <td>1984.200065</td>\n",
       "    </tr>\n",
       "    <tr>\n",
       "      <th rowspan=\"4\" valign=\"top\">Good Characters</th>\n",
       "      <th>Known to Authorities Identity</th>\n",
       "      <td>67293.700000</td>\n",
       "      <td>72.000000</td>\n",
       "      <td>1994.100000</td>\n",
       "    </tr>\n",
       "    <tr>\n",
       "      <th>No Dual Identity</th>\n",
       "      <td>351762.737249</td>\n",
       "      <td>41.811570</td>\n",
       "      <td>1981.512195</td>\n",
       "    </tr>\n",
       "    <tr>\n",
       "      <th>Public Identity</th>\n",
       "      <td>328621.391892</td>\n",
       "      <td>42.761401</td>\n",
       "      <td>1982.214422</td>\n",
       "    </tr>\n",
       "    <tr>\n",
       "      <th>Secret Identity</th>\n",
       "      <td>209598.569746</td>\n",
       "      <td>37.098220</td>\n",
       "      <td>1990.303430</td>\n",
       "    </tr>\n",
       "    <tr>\n",
       "      <th rowspan=\"4\" valign=\"top\">Neutral Characters</th>\n",
       "      <th>Known to Authorities Identity</th>\n",
       "      <td>25164.000000</td>\n",
       "      <td>180.500000</td>\n",
       "      <td>1988.500000</td>\n",
       "    </tr>\n",
       "    <tr>\n",
       "      <th>No Dual Identity</th>\n",
       "      <td>448877.128205</td>\n",
       "      <td>24.430481</td>\n",
       "      <td>1983.160237</td>\n",
       "    </tr>\n",
       "    <tr>\n",
       "      <th>Public Identity</th>\n",
       "      <td>405297.841360</td>\n",
       "      <td>22.266165</td>\n",
       "      <td>1987.366322</td>\n",
       "    </tr>\n",
       "    <tr>\n",
       "      <th>Secret Identity</th>\n",
       "      <td>255694.179707</td>\n",
       "      <td>19.737113</td>\n",
       "      <td>1992.339818</td>\n",
       "    </tr>\n",
       "  </tbody>\n",
       "</table>\n",
       "</div>"
      ],
      "text/plain": [
       "                                                        page_id  APPEARANCES  \\\n",
       "ALIGN              ID                                                          \n",
       "Bad Characters     Known to Authorities Identity   20762.666667    11.666667   \n",
       "                   No Dual Identity               420196.056962    10.434211   \n",
       "                   Public Identity                364450.002066    10.846815   \n",
       "                   Secret Identity                272270.281415     8.895082   \n",
       "Good Characters    Known to Authorities Identity   67293.700000    72.000000   \n",
       "                   No Dual Identity               351762.737249    41.811570   \n",
       "                   Public Identity                328621.391892    42.761401   \n",
       "                   Secret Identity                209598.569746    37.098220   \n",
       "Neutral Characters Known to Authorities Identity   25164.000000   180.500000   \n",
       "                   No Dual Identity               448877.128205    24.430481   \n",
       "                   Public Identity                405297.841360    22.266165   \n",
       "                   Secret Identity                255694.179707    19.737113   \n",
       "\n",
       "                                                         Year  \n",
       "ALIGN              ID                                          \n",
       "Bad Characters     Known to Authorities Identity  1991.666667  \n",
       "                   No Dual Identity               1973.530806  \n",
       "                   Public Identity                1973.381458  \n",
       "                   Secret Identity                1984.200065  \n",
       "Good Characters    Known to Authorities Identity  1994.100000  \n",
       "                   No Dual Identity               1981.512195  \n",
       "                   Public Identity                1982.214422  \n",
       "                   Secret Identity                1990.303430  \n",
       "Neutral Characters Known to Authorities Identity  1988.500000  \n",
       "                   No Dual Identity               1983.160237  \n",
       "                   Public Identity                1987.366322  \n",
       "                   Secret Identity                1992.339818  "
      ]
     },
     "execution_count": 26,
     "metadata": {},
     "output_type": "execute_result"
    }
   ],
   "source": [
    "# A partir de les dades agrupades, apliquem la funció d'agregació 'np.mean' (que calcula la mitjana).\n",
    "grouped.aggregate(np.mean)"
   ]
  },
  {
   "cell_type": "code",
   "execution_count": 27,
   "metadata": {
    "attributes": {
     "classes": [
      "sourceCode"
     ],
     "id": ""
    }
   },
   "outputs": [
    {
     "data": {
      "text/html": [
       "<div>\n",
       "<style scoped>\n",
       "    .dataframe tbody tr th:only-of-type {\n",
       "        vertical-align: middle;\n",
       "    }\n",
       "\n",
       "    .dataframe tbody tr th {\n",
       "        vertical-align: top;\n",
       "    }\n",
       "\n",
       "    .dataframe thead th {\n",
       "        text-align: right;\n",
       "    }\n",
       "</style>\n",
       "<table border=\"1\" class=\"dataframe\">\n",
       "  <thead>\n",
       "    <tr style=\"text-align: right;\">\n",
       "      <th></th>\n",
       "      <th>page_id</th>\n",
       "      <th>name</th>\n",
       "      <th>urlslug</th>\n",
       "      <th>ID</th>\n",
       "      <th>ALIGN</th>\n",
       "      <th>EYE</th>\n",
       "      <th>HAIR</th>\n",
       "      <th>SEX</th>\n",
       "      <th>GSM</th>\n",
       "      <th>ALIVE</th>\n",
       "      <th>APPEARANCES</th>\n",
       "      <th>FIRST APPEARANCE</th>\n",
       "      <th>Year</th>\n",
       "    </tr>\n",
       "  </thead>\n",
       "  <tbody>\n",
       "    <tr>\n",
       "      <th>106</th>\n",
       "      <td>18186</td>\n",
       "      <td>Venom (Symbiote) (Earth-616)</td>\n",
       "      <td>\\/Venom_(Symbiote)_(Earth-616)</td>\n",
       "      <td>Known to Authorities Identity</td>\n",
       "      <td>Neutral Characters</td>\n",
       "      <td>Variable Eyes</td>\n",
       "      <td>No Hair</td>\n",
       "      <td>Agender Characters</td>\n",
       "      <td>NaN</td>\n",
       "      <td>Living Characters</td>\n",
       "      <td>348.0</td>\n",
       "      <td>May-84</td>\n",
       "      <td>1984.0</td>\n",
       "    </tr>\n",
       "    <tr>\n",
       "      <th>2668</th>\n",
       "      <td>32142</td>\n",
       "      <td>Obax Majid (Earth-616)</td>\n",
       "      <td>\\/Obax_Majid_(Earth-616)</td>\n",
       "      <td>Known to Authorities Identity</td>\n",
       "      <td>Neutral Characters</td>\n",
       "      <td>Brown Eyes</td>\n",
       "      <td>Black Hair</td>\n",
       "      <td>Female Characters</td>\n",
       "      <td>NaN</td>\n",
       "      <td>Living Characters</td>\n",
       "      <td>13.0</td>\n",
       "      <td>Sep-93</td>\n",
       "      <td>1993.0</td>\n",
       "    </tr>\n",
       "  </tbody>\n",
       "</table>\n",
       "</div>"
      ],
      "text/plain": [
       "      page_id                          name                         urlslug  \\\n",
       "106     18186  Venom (Symbiote) (Earth-616)  \\/Venom_(Symbiote)_(Earth-616)   \n",
       "2668    32142        Obax Majid (Earth-616)        \\/Obax_Majid_(Earth-616)   \n",
       "\n",
       "                                 ID               ALIGN            EYE  \\\n",
       "106   Known to Authorities Identity  Neutral Characters  Variable Eyes   \n",
       "2668  Known to Authorities Identity  Neutral Characters     Brown Eyes   \n",
       "\n",
       "            HAIR                 SEX  GSM              ALIVE  APPEARANCES  \\\n",
       "106      No Hair  Agender Characters  NaN  Living Characters        348.0   \n",
       "2668  Black Hair   Female Characters  NaN  Living Characters         13.0   \n",
       "\n",
       "     FIRST APPEARANCE    Year  \n",
       "106            May-84  1984.0  \n",
       "2668           Sep-93  1993.0  "
      ]
     },
     "execution_count": 27,
     "metadata": {},
     "output_type": "execute_result"
    }
   ],
   "source": [
    "# Recuperem la informació d'un únic grup d'interès.\n",
    "grouped.get_group((\"Neutral Characters\", \"Known to Authorities Identity\"))"
   ]
  },
  {
   "cell_type": "markdown",
   "metadata": {},
   "source": [
    "### Escriptura de dades a un fitxer\n",
    "\n",
    "D'una manera anàloga a com hem carregat les dades d'un fitxer a un\n",
    "_dataframe_, podem escriure les dades d'un _dataframe_ a un fitxer CSV."
   ]
  },
  {
   "cell_type": "code",
   "execution_count": 28,
   "metadata": {
    "attributes": {
     "classes": [
      "sourceCode"
     ],
     "id": ""
    }
   },
   "outputs": [],
   "source": [
    "# Creem un 'dataframe' amb els noms dels superherois.\n",
    "new_dataset = data[[\"name\"]]\n",
    "# Guardem el nou 'dataframe' a un fitxer, forçant la codificació a 'utf-8'.\n",
    "new_dataset.to_csv(\"marvel-wikia-data-reduced.csv\", encoding='utf-8')"
   ]
  }
 ],
 "metadata": {
  "kernelspec": {
   "display_name": "Python 3",
   "language": "python",
   "name": "python3"
  },
  "language_info": {
   "codemirror_mode": {
    "name": "ipython",
    "version": 3
   },
   "file_extension": ".py",
   "mimetype": "text/x-python",
   "name": "python",
   "nbconvert_exporter": "python",
   "pygments_lexer": "ipython3",
   "version": "3.6.8"
  }
 },
 "nbformat": 4,
 "nbformat_minor": 1
}
