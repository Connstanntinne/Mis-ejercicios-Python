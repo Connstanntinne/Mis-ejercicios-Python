{
 "cells": [
  {
   "cell_type": "markdown",
   "metadata": {},
   "source": [
    "Programació per a *Data Science*\n",
    "============================\n",
    "\n",
    "Unitat 2: Breu introducció a la programació en Python\n",
    "-----------------------------------------------------\n",
    "\n",
    "### Instruccions d'ús\n",
    "\n",
    "A continuació es presentarà la sintaxi bàsica del llenguatge de\n",
    "programació Python juntament amb exemples interactius.\n",
    "\n",
    "Variables i tipus de variables\n",
    "------------------------------\n",
    "\n",
    "Podem entendre una variable com un contenidor en el qual podem posar les nostres\n",
    "dades a fi de guardar-les i tractar-les més endavant. A Python, les\n",
    "variables no tenen tipus, és a dir, no hem d'indicar si la variable serà\n",
    "numèrica, un caràcter, una cadena de caràcters o una llista, per\n",
    "exemple. A més, les variables poden ser declarades i inicialitzades en\n",
    "qualsevol moment, a diferència d'altres llenguatges de programació.\n",
    "\n",
    "Per declarar una variable, fem servir l'expressió *nom_de_variable\n",
    "= valor*. Es recomana repassar el document [PEP-8](https://www.python.org/dev/peps/pep-0008/#function-and-variable-names) per indicar noms de variables correctes, però, *grosso modo*,\n",
    "evitarem utilitzar majúscula a la inicial, separarem les diferents\n",
    "paraules amb el caràcter «_» i no utilitzarem accents ni caràcters\n",
    "específics de la nostra codificació com el símbol del «€» o la «ñ», per\n",
    "exemple.\n",
    "\n",
    "Vegem uns quants exemples de declaracions de variables i com fer-les servir:"
   ]
  },
  {
   "cell_type": "code",
   "execution_count": 1,
   "metadata": {
    "attributes": {
     "classes": [
      "sourceCode"
     ],
     "id": ""
    }
   },
   "outputs": [],
   "source": [
    "# Declarem una variable de nom 'variable_numerica' que conté el valor enter 12.\n",
    "variable_numerica = 12\n",
    "\n",
    "# Declarem una variable de nom monstre que conté el valor 'Godzilla'.\n",
    "monstre = 'Godzilla'\n",
    "\n",
    "# Declarem una variable de nom 'planetes' que és una llista de cadenes de caràcters.\n",
    "planetes = ['Mercuri', 'Venus', 'Terra', 'Mart']"
   ]
  },
  {
   "cell_type": "code",
   "execution_count": 2,
   "metadata": {
    "attributes": {
     "classes": [
      "sourceCode"
     ],
     "id": ""
    }
   },
   "outputs": [
    {
     "name": "stdout",
     "output_type": "stream",
     "text": [
      "30\n"
     ]
    }
   ],
   "source": [
    "la_meva_edat = 25\n",
    "la_meva_edat_en_5 = la_meva_edat + 5\n",
    "# 'Imprimim' el valor calculat que serà, efectivament, 30\n",
    "print(la_meva_edat_en_5)"
   ]
  },
  {
   "cell_type": "markdown",
   "metadata": {},
   "source": [
    "Els tipus nadius de dades que una variable de Python pot contenir són:\n",
    "nombres enters (int), nombres decimals (float), nombres complexos\n",
    "(complex), cadena de caràcters (string), llistes (list), tuples (tuple)\n",
    "i diccionaris (dict). Vegem un per un cada un d'aquests tipus:"
   ]
  },
  {
   "cell_type": "code",
   "execution_count": 3,
   "metadata": {
    "attributes": {
     "classes": [
      "sourceCode"
     ],
     "id": ""
    }
   },
   "outputs": [
    {
     "name": "stdout",
     "output_type": "stream",
     "text": [
      "-4\n",
      "6\n",
      "-5\n",
      "-0.2\n",
      "-1\n"
     ]
    }
   ],
   "source": [
    "# Un nombre enter\n",
    "int_var = 1\n",
    "another_int_var = -5\n",
    "# Podem sumar-los, restar-los, multiplicar-los o dividir-los.\n",
    "print(int_var + another_int_var)\n",
    "print(int_var - another_int_var)\n",
    "print(int_var * another_int_var)\n",
    "print(int_var / another_int_var)\n",
    "\n",
    "# També podem realitzar la divisió entera.\n",
    "# Com que només tractem amb nombres enters, no hi haurà part decimal.\n",
    "print(int_var // another_int_var)"
   ]
  },
  {
   "cell_type": "markdown",
   "metadata": {},
   "source": [
    "El comportament de l'operador `/` és una de les diferències entre Python 2 i Python 3. Mentre que en Python 3, l'operador `/` realitza la divisió real entre dos nombres enters (fixeu-vos que `1 / -5` dóna com a resultat `0.2`), en Python 2 realitzava la divisió entera (per la qual cosa el resultat d'executar` 1 / -5` en Python 2 seria `-1`). Noteu que usem l'operador `//` per expressar la divisió entera en Python 3."
   ]
  },
  {
   "cell_type": "code",
   "execution_count": 4,
   "metadata": {
    "attributes": {
     "classes": [
      "sourceCode"
     ],
     "id": ""
    }
   },
   "outputs": [
    {
     "name": "stdout",
     "output_type": "stream",
     "text": [
      "3.2\n",
      "-1.8\n",
      "1.75\n",
      "0.27999999999999997\n",
      "0.0\n"
     ]
    }
   ],
   "source": [
    "# Un nombre decimal o 'float'\n",
    "float_var = 2.5\n",
    "another_float_var = .7\n",
    "# Convertim un nombre enter en un de decimal mitjançant la funció 'float() '\n",
    "encore_float = float(7)\n",
    "# Podem fer el mateix en sentit contrari amb la funció 'int()'\n",
    "new_int = int(encore_float)\n",
    "\n",
    "# Podem fer les mateixes operacions que en el cas dels nombres enters, però en aquest cas la divisió serà\n",
    "# decimal si algun dels nombres és decimal.\n",
    "print(another_float_var + float_var)\n",
    "print(another_float_var - float_var)\n",
    "print(another_float_var * float_var)\n",
    "print(another_float_var / float_var)\n",
    "print(another_float_var // float_var)"
   ]
  },
  {
   "cell_type": "code",
   "execution_count": 5,
   "metadata": {
    "attributes": {
     "classes": [
      "sourceCode"
     ],
     "id": ""
    }
   },
   "outputs": [
    {
     "name": "stdout",
     "output_type": "stream",
     "text": [
      "3.0\n",
      "2.0\n"
     ]
    }
   ],
   "source": [
    "# Un nombre complex\n",
    "complex_var = 2+3j\n",
    "# Podem accedir a la part imaginària o a la part real:\n",
    "print(complex_var.imag)\n",
    "print(complex_var.real)"
   ]
  },
  {
   "cell_type": "code",
   "execution_count": 6,
   "metadata": {},
   "outputs": [
    {
     "name": "stdout",
     "output_type": "stream",
     "text": [
      "Hello, Bio! ñç\n"
     ]
    }
   ],
   "source": [
    "# Cadena de caràcters\n",
    "my_string = 'Hello, Bio! ñç'\n",
    "print(my_string)"
   ]
  },
  {
   "cell_type": "markdown",
   "metadata": {},
   "source": [
    "Fixeu-vos que podem incloure caràcters unicode (com `ñ`o`ç`) a les cadenes. Això també és una novetat de Python 3 (les variables de tipus `str` són ara UTF-8)."
   ]
  },
  {
   "cell_type": "code",
   "execution_count": 7,
   "metadata": {
    "attributes": {
     "classes": [
      "sourceCode"
     ],
     "id": ""
    }
   },
   "outputs": [
    {
     "name": "stdout",
     "output_type": "stream",
     "text": [
      "Hello, Bio! ñc\n",
      "Hello, Guido! You've got 5 new emails\n"
     ]
    }
   ],
   "source": [
    "# Podem concatenar dues cadenes utilitzant l'operador '+'.\n",
    "same_string = 'Hello, ' + 'Bio' + '!' + ' ñc'\n",
    "print(same_string)\n",
    "\n",
    "# A Python també podem utilitzar wildcards com en la funció 'sprintf' de C. Per exemple:\n",
    "name = \"Guido\"\n",
    "num_emails = 5\n",
    "print(\"Hello, %s! You've got %d new emails\" % (name, num_emails))"
   ]
  },
  {
   "cell_type": "markdown",
   "metadata": {},
   "source": [
    "A l'exemple anterior, hem substituït a l'_string_ la cadena *%s* pel\n",
    "contingut de la variable *name*, que és un _string_, i *%d* per\n",
    "*num_emails*, que és un nombre enter. També podríem utilitzar *%f* per\n",
    "a nombres decimals (podríem indicar la precisió, per exemple, amb *%5.3f*, el nombre tindria una mida total de cinc xifres i tres serien per\n",
    "la part decimal). Hi ha moltes altres possibilitats, però haurem de\n",
    "tenir en compte el tipus de variable que volem substituir. Per exemple,\n",
    "si utilitzem *%d* i el contingut és _string_, Python retornarà un\n",
    "missatge d'error. Per evitar aquesta situació, es recomana l'ús de la\n",
    "funció *str()* per convertir el valor a _string_.\n",
    "\n",
    "També podem mostrar el contingut de les variables sense especificar el seu tipus, fent servir `format`:"
   ]
  },
  {
   "cell_type": "code",
   "execution_count": 8,
   "metadata": {},
   "outputs": [
    {
     "name": "stdout",
     "output_type": "stream",
     "text": [
      "Hello, Guido! You've got 5 new emails\n"
     ]
    }
   ],
   "source": [
    "print(\"Hello, {}! You've got {} new emails\".format(name, num_emails))"
   ]
  },
  {
   "cell_type": "markdown",
   "metadata": {},
   "source": [
    "Ara presentarem altres tipus de dades nadius més complexos: llistes,\n",
    "tuples i diccionaris:"
   ]
  },
  {
   "cell_type": "code",
   "execution_count": 9,
   "metadata": {},
   "outputs": [
    {
     "name": "stdout",
     "output_type": "stream",
     "text": [
      "['3', 'a string', ['a list inside another list', 'second item'], 7.5]\n"
     ]
    }
   ],
   "source": [
    "# Definim una llista amb el nom dels planetes (string).\n",
    "planets = ['Mercury', 'Venus', 'Earth', 'Mars',\n",
    "           'Jupiter', 'Saturn', 'Uranus', 'Neptune']\n",
    "# També pot contenir números.\n",
    "prime_numbers = [2, 3, 5, 7]\n",
    "\n",
    "# Una llista buida\n",
    "empty_list = []\n",
    "\n",
    "# O una barreja de qualsevol tipus:\n",
    "sandbox = ['3', 'a string', ['a list inside another list', 'second item'], 7.5]\n",
    "print(sandbox)"
   ]
  },
  {
   "cell_type": "code",
   "execution_count": 10,
   "metadata": {
    "attributes": {
     "classes": [
      "sourceCode"
     ],
     "id": ""
    }
   },
   "outputs": [
    {
     "name": "stdout",
     "output_type": "stream",
     "text": [
      "['Mercury', 'Venus', 'Earth', 'Mars', 'Jupiter', 'Saturn', 'Uranus', 'Neptune', 'Pluto']\n"
     ]
    }
   ],
   "source": [
    "# Podem afegir elements a una llista.\n",
    "planets.append('Pluto')\n",
    "print(planets)"
   ]
  },
  {
   "cell_type": "code",
   "execution_count": 11,
   "metadata": {
    "attributes": {
     "classes": [
      "sourceCode"
     ],
     "id": ""
    }
   },
   "outputs": [
    {
     "name": "stdout",
     "output_type": "stream",
     "text": [
      "['Mercury', 'Venus', 'Earth', 'Mars', 'Jupiter', 'Saturn', 'Uranus', 'Neptune']\n"
     ]
    }
   ],
   "source": [
    "# O en podem eliminar.\n",
    "planets.remove('Pluto')\n",
    "print(planets)"
   ]
  },
  {
   "cell_type": "code",
   "execution_count": 12,
   "metadata": {
    "attributes": {
     "classes": [
      "sourceCode"
     ],
     "id": ""
    }
   },
   "outputs": [
    {
     "name": "stdout",
     "output_type": "stream",
     "text": [
      "['Mercury', 'Earth', 'Mars', 'Jupiter', 'Saturn', 'Uranus', 'Neptune']\n"
     ]
    }
   ],
   "source": [
    "# Podem eliminar qualsevol element de la llista.\n",
    "planets.remove('Venus')\n",
    "print(planets)"
   ]
  },
  {
   "cell_type": "code",
   "execution_count": 13,
   "metadata": {
    "attributes": {
     "classes": [
      "sourceCode"
     ],
     "id": ""
    }
   },
   "outputs": [
    {
     "name": "stdout",
     "output_type": "stream",
     "text": [
      "['Mercury', 'Earth', 'Mars', 'Jupiter', 'Saturn', 'Uranus', 'Neptune', 'Venus']\n"
     ]
    }
   ],
   "source": [
    "# Sempre que n'afegim, serà al final de la llista. Una llista està ordenada.\n",
    "planets.append('Venus')\n",
    "print(planets)"
   ]
  },
  {
   "cell_type": "code",
   "execution_count": 14,
   "metadata": {
    "attributes": {
     "classes": [
      "sourceCode"
     ],
     "id": ""
    }
   },
   "outputs": [
    {
     "name": "stdout",
     "output_type": "stream",
     "text": [
      "['Earth', 'Jupiter', 'Mars', 'Mercury', 'Neptune', 'Saturn', 'Uranus', 'Venus']\n"
     ]
    }
   ],
   "source": [
    "# Si volem ordenar-la alfabèticament, podem utilitzar la funció 'sorted()'\n",
    "print(sorted(planets))"
   ]
  },
  {
   "cell_type": "code",
   "execution_count": 15,
   "metadata": {
    "attributes": {
     "classes": [
      "sourceCode"
     ],
     "id": ""
    }
   },
   "outputs": [
    {
     "name": "stdout",
     "output_type": "stream",
     "text": [
      "['Godzilla', 'King Kong', 'Cthulu']\n"
     ]
    }
   ],
   "source": [
    "# Podem concatenar dues llistes:\n",
    "monsters = ['Godzilla', 'King Kong']\n",
    "more_monsters = ['Cthulu']\n",
    "print(monsters + more_monsters)"
   ]
  },
  {
   "cell_type": "code",
   "execution_count": 16,
   "metadata": {
    "attributes": {
     "classes": [
      "sourceCode"
     ],
     "id": ""
    }
   },
   "outputs": [
    {
     "name": "stdout",
     "output_type": "stream",
     "text": [
      "['Godzilla', 'King Kong', 'Cthulu']\n"
     ]
    }
   ],
   "source": [
    "# Podem concatenar una llista amb una altra i guardar-la a la mateixa llista:\n",
    "monsters.extend(more_monsters)\n",
    "print(monsters)"
   ]
  },
  {
   "cell_type": "code",
   "execution_count": 17,
   "metadata": {
    "attributes": {
     "classes": [
      "sourceCode"
     ],
     "id": ""
    }
   },
   "outputs": [
    {
     "name": "stdout",
     "output_type": "stream",
     "text": [
      "Godzilla\n",
      "King Kong\n",
      "Cthulu\n",
      "King Kong\n"
     ]
    }
   ],
   "source": [
    "# Podem accedir a un element en concret de la llista:\n",
    "print(monsters[0])\n",
    "# El primer element d'una llista és el 0, per tant, el segon serà l'1:\n",
    "print(monsters[1])\n",
    "# Podem accedir a l'últim element mitjançant nombres negatius:\n",
    "print(monsters[-1])\n",
    "# Penúltim:\n",
    "print(monsters[-2])"
   ]
  },
  {
   "cell_type": "code",
   "execution_count": 18,
   "metadata": {},
   "outputs": [
    {
     "name": "stdout",
     "output_type": "stream",
     "text": [
      "['Mercury', 'Venus']\n"
     ]
    }
   ],
   "source": [
    "# També podem obtenir parts d'una llista mitjançant la tècnica de 'slicing'.\n",
    "planets = ['Mercury', 'Venus', 'Earth', 'Mars',\n",
    "           'Jupiter', 'Saturn', 'Uranus', 'Neptune']\n",
    "# Per exemple, els dos primers elements:\n",
    "print(planets[:2])"
   ]
  },
  {
   "cell_type": "code",
   "execution_count": 19,
   "metadata": {},
   "outputs": [
    {
     "name": "stdout",
     "output_type": "stream",
     "text": [
      "['Earth', 'Mars', 'Jupiter']\n"
     ]
    }
   ],
   "source": [
    "# O els elements entre les posicions 2 i 4\n",
    "print(planets[2:5])"
   ]
  },
  {
   "cell_type": "markdown",
   "metadata": {},
   "source": [
    "Fixeu-vos en aquest últim exemple: en la posició 2 trobem el tercer element de la llista (`'Earth'`) ja que la llista comença a indexar en 0. A més, l'últim element indicat (la posició` 5`) no s'inclou."
   ]
  },
  {
   "cell_type": "code",
   "execution_count": 20,
   "metadata": {
    "attributes": {
     "classes": [
      "sourceCode"
     ],
     "id": ""
    }
   },
   "outputs": [
    {
     "name": "stdout",
     "output_type": "stream",
     "text": [
      "['Venus', 'Earth', 'Mars', 'Jupiter', 'Saturn', 'Uranus']\n"
     ]
    }
   ],
   "source": [
    "# O els elements del segon al penúltim:\n",
    "print(planets[1:-1])"
   ]
  },
  {
   "cell_type": "markdown",
   "metadata": {},
   "source": [
    "La tècnica de _**slicing**_ és molt important i ens permet gestionar\n",
    "llistes d'una manera molt senzilla i potent. Serà imprescindible\n",
    "dominar-la per afrontar molts dels problemes que haurem de resoldre en el camp de\n",
    "la ciència de dades."
   ]
  },
  {
   "cell_type": "code",
   "execution_count": 22,
   "metadata": {
    "attributes": {
     "classes": [
      "sourceCode"
     ],
     "id": ""
    }
   },
   "outputs": [
    {
     "name": "stdout",
     "output_type": "stream",
     "text": [
      "['Godzilla', 'King Kong', 'Kraken']\n"
     ]
    }
   ],
   "source": [
    "# Podem modificar un element en concret d'una llista:\n",
    "monsters = ['Godzilla', 'King Kong', 'Cthulu']\n",
    "monsters[-1] = 'Kraken'\n",
    "print(monsters)"
   ]
  },
  {
   "cell_type": "code",
   "execution_count": 23,
   "metadata": {
    "attributes": {
     "classes": [
      "sourceCode"
     ],
     "id": ""
    }
   },
   "outputs": [
    {
     "ename": "TypeError",
     "evalue": "'tuple' object does not support item assignment",
     "output_type": "error",
     "traceback": [
      "\u001b[0;31m---------------------------------------------------------------------------\u001b[0m",
      "\u001b[0;31mTypeError\u001b[0m                                 Traceback (most recent call last)",
      "\u001b[0;32m<ipython-input-23-0f1a837a3f5f>\u001b[0m in \u001b[0;36m<module>\u001b[0;34m\u001b[0m\n\u001b[1;32m      3\u001b[0m \u001b[0mbirth_year\u001b[0m \u001b[0;34m=\u001b[0m \u001b[0;34m(\u001b[0m\u001b[0;34m'Stephen Hawking'\u001b[0m\u001b[0;34m,\u001b[0m \u001b[0;36m1942\u001b[0m\u001b[0;34m)\u001b[0m\u001b[0;34m\u001b[0m\u001b[0;34m\u001b[0m\u001b[0m\n\u001b[1;32m      4\u001b[0m \u001b[0;31m# Si executem la línia següent, obtindrem un error de tipus 'TypeError'\u001b[0m\u001b[0;34m\u001b[0m\u001b[0;34m\u001b[0m\u001b[0;34m\u001b[0m\u001b[0m\n\u001b[0;32m----> 5\u001b[0;31m \u001b[0mbirth_year\u001b[0m\u001b[0;34m[\u001b[0m\u001b[0;36m1\u001b[0m\u001b[0;34m]\u001b[0m \u001b[0;34m=\u001b[0m \u001b[0;36m1984\u001b[0m\u001b[0;34m\u001b[0m\u001b[0;34m\u001b[0m\u001b[0m\n\u001b[0m",
      "\u001b[0;31mTypeError\u001b[0m: 'tuple' object does not support item assignment"
     ]
    }
   ],
   "source": [
    "# Una tupla és un tipus molt semblant a una llista, però és immutable, és a dir, un cop declarada \n",
    "# no podem afegir-hi elements ni eliminar-ne:\n",
    "birth_year = ('Stephen Hawking', 1942)\n",
    "# Si executem la línia següent, obtindrem un error de tipus 'TypeError'\n",
    "birth_year[1] = 1984"
   ]
  },
  {
   "cell_type": "markdown",
   "metadata": {},
   "source": [
    "Els errors en Python solen ser molt informatius. Una recerca a internet\n",
    "ens ajudarà en la gran majoria de problemes que puguem tenir."
   ]
  },
  {
   "cell_type": "code",
   "execution_count": 24,
   "metadata": {
    "attributes": {
     "classes": [
      "sourceCode"
     ],
     "id": ""
    }
   },
   "outputs": [
    {
     "name": "stdout",
     "output_type": "stream",
     "text": [
      "t\n",
      "Einstein\n",
      "Einstein\n",
      "['E', 'i', 'n', 's', 't', 'e', 'i', 'n']\n",
      "Einstein\n",
      "E.i.n.s.t.e.i.n\n"
     ]
    }
   ],
   "source": [
    "# Un string també és considerat una llista de caràcters.\n",
    "# Així doncs, podem accedir a una posició determinada (tot i que no modificar-la):\n",
    "name = 'Albert Einstein'\n",
    "print(name[5])\n",
    "\n",
    "# Podem fer servir slicing també amb les cadenas de caràcters\n",
    "print(name[7:15])\n",
    "\n",
    "# Podem separar pel caràcter que considerem un string. En aquest cas, per l'espai en blanc, utilitzant\n",
    "# la funció 'split()'.\n",
    "n, surname = name.split()\n",
    "print(surname)\n",
    "\n",
    "# I podem convertir un determinat string en una llista de caràcters fàcilment:\n",
    "chars = list(surname)\n",
    "print(chars)\n",
    "\n",
    "# Per unir els diferents elements d'una llista mitjançant un caràcter, podem utilitzar la funció \n",
    "# 'join()':\n",
    "print(''.join(chars))\n",
    "print('.'.join(chars))"
   ]
  },
  {
   "cell_type": "code",
   "execution_count": 26,
   "metadata": {
    "attributes": {
     "classes": [
      "sourceCode"
     ],
     "id": ""
    }
   },
   "outputs": [
    {
     "name": "stdout",
     "output_type": "stream",
     "text": [
      "-5\n",
      "5\n"
     ]
    }
   ],
   "source": [
    "# L'operador ',' és el creador de tuples. Per exemple, el típic problema d'assignar el valor d'una \n",
    "# variable a una altra en Python es pot resoldre en una línia d'una manera molt elegant utilitzant \n",
    "# tuples (es tracta d'un idiom):\n",
    "a = 5\n",
    "b = -5\n",
    "a,b = b,a\n",
    "print(a)\n",
    "print(b)"
   ]
  },
  {
   "cell_type": "markdown",
   "metadata": {},
   "source": [
    "L'anterior exemple és un *idiom* típic de Python. A la tercera línia,\n",
    "creem una tupla (a,b) a la qual assignem els valors un per un de la\n",
    "tupla (b,a). Els parèntesis no són necessaris, i per això queda una\n",
    "notació tan reduïda.\n",
    "\n",
    "Per acabar, presentarem els diccionaris, una estructura de dades molt\n",
    "útil a la qual assignem un valor a una clau en el diccionari:"
   ]
  },
  {
   "cell_type": "code",
   "execution_count": 28,
   "metadata": {
    "attributes": {
     "classes": [
      "sourceCode"
     ],
     "id": ""
    }
   },
   "outputs": [
    {
     "name": "stdout",
     "output_type": "stream",
     "text": [
      "Spain\n"
     ]
    }
   ],
   "source": [
    "# Codis internacionals d'alguns països. La clau o 'key' és el codi de país, i el valor, el seu nom:\n",
    "country_codes = {34: 'Spain', 376: 'Andorra', 41: 'Switzerland', 424: None}\n",
    "\n",
    "# Podem buscar\n",
    "my_code = 34\n",
    "country = country_codes[my_code]\n",
    "print(country)"
   ]
  },
  {
   "cell_type": "code",
   "execution_count": 30,
   "metadata": {
    "attributes": {
     "classes": [
      "sourceCode"
     ],
     "id": ""
    }
   },
   "outputs": [
    {
     "name": "stdout",
     "output_type": "stream",
     "text": [
      "dict_keys([34, 376, 41, 424])\n"
     ]
    }
   ],
   "source": [
    "# Podem obtenir totes les claus:\n",
    "print(country_codes.keys())"
   ]
  },
  {
   "cell_type": "code",
   "execution_count": 31,
   "metadata": {
    "attributes": {
     "classes": [
      "sourceCode"
     ],
     "id": ""
    }
   },
   "outputs": [
    {
     "name": "stdout",
     "output_type": "stream",
     "text": [
      "dict_values(['Spain', 'Andorra', 'Switzerland', None])\n"
     ]
    }
   ],
   "source": [
    "# O els valors:\n",
    "print(country_codes.values())"
   ]
  },
  {
   "cell_type": "markdown",
   "metadata": {},
   "source": [
    "**És molt important notar que els valors que obtenim de les claus o en\n",
    "imprimir un diccionari no estan ordenats**. És un error molt comú\n",
    "suposar que el diccionari es guarda internament en el mateix ordre en\n",
    "què va ser definit i serà una font d'error habitual no tenir-lo en\n",
    "compte."
   ]
  },
  {
   "cell_type": "code",
   "execution_count": 32,
   "metadata": {
    "attributes": {
     "classes": [
      "sourceCode"
     ],
     "id": ""
    }
   },
   "outputs": [
    {
     "name": "stdout",
     "output_type": "stream",
     "text": [
      "{34: 'Spain', 81: 'Japan'}\n"
     ]
    }
   ],
   "source": [
    "# Podem modificar valors al diccionari o afegir noves claus.\n",
    "\n",
    "# Definim un diccionari buit. 'country_codes = dict()' és una notació equivalent:\n",
    "country_codes = {}\n",
    "\n",
    "# Afegim un element:\n",
    "country_codes[34] = 'Spain'\n",
    "\n",
    "# N'afegim un altre:\n",
    "country_codes[81] = 'Japan'\n",
    "\n",
    "print(country_codes)"
   ]
  },
  {
   "cell_type": "code",
   "execution_count": 33,
   "metadata": {
    "attributes": {
     "classes": [
      "sourceCode"
     ],
     "id": ""
    }
   },
   "outputs": [
    {
     "name": "stdout",
     "output_type": "stream",
     "text": [
      "{34: 'Spain', 81: 'Andorra'}\n"
     ]
    }
   ],
   "source": [
    "# Modifiquem el diccionari:\n",
    "country_codes[81] = 'Andorra'\n",
    "\n",
    "print(country_codes)"
   ]
  },
  {
   "cell_type": "code",
   "execution_count": 34,
   "metadata": {
    "attributes": {
     "classes": [
      "sourceCode"
     ],
     "id": ""
    }
   },
   "outputs": [
    {
     "name": "stdout",
     "output_type": "stream",
     "text": [
      "{34: 'Spain', 81: None}\n"
     ]
    }
   ],
   "source": [
    "# Podem assignar el valor buit a un element:\n",
    "country_codes[81] = None\n",
    "\n",
    "print(country_codes)"
   ]
  },
  {
   "cell_type": "markdown",
   "metadata": {},
   "source": [
    "Els valors buits ens seran útils per declarar una variable que no\n",
    "sapiguem quin valor o quin tipus de valor contindrà i per fer\n",
    "comparacions entre variables. Habitualment, els valors buits són _None_ o\n",
    "'', en el cas de les cadenes de caràcters."
   ]
  },
  {
   "cell_type": "code",
   "execution_count": 35,
   "metadata": {
    "attributes": {
     "classes": [
      "sourceCode"
     ],
     "id": ""
    }
   },
   "outputs": [
    {
     "name": "stdout",
     "output_type": "stream",
     "text": [
      "5 1\n",
      "5 5\n"
     ]
    }
   ],
   "source": [
    "# Podem assignar el valor d'una variable a una altra. És important que s'entenguin les \n",
    "# línies següents:\n",
    "a = 5\n",
    "b = 1\n",
    "print(a, b)\n",
    "# b conté la 'direcció' del contenidor al qual apunta 'a'.\n",
    "b = a\n",
    "print(a, b)"
   ]
  },
  {
   "cell_type": "code",
   "execution_count": 38,
   "metadata": {
    "attributes": {
     "classes": [
      "sourceCode"
     ],
     "id": ""
    }
   },
   "outputs": [
    {
     "name": "stdout",
     "output_type": "stream",
     "text": [
      "6 5\n",
      "6 7\n"
     ]
    }
   ],
   "source": [
    "# Vegem ara què passa si modifiquem el valor d'a o b:\n",
    "a = 6\n",
    "print(a, b)\n",
    "b = 7\n",
    "print(a, b)"
   ]
  },
  {
   "cell_type": "markdown",
   "metadata": {},
   "source": [
    "Fins aquí hem presentat com declarar i utilitzar variables. Recomanem la\n",
    "lectura de la [documentació oficial en línia](https://docs.python.org/3/tutorial/introduction.html)\n",
    "per a fixar els coneixements explicats."
   ]
  }
 ],
 "metadata": {
  "kernelspec": {
   "display_name": "Python 3",
   "language": "python",
   "name": "python3"
  }
 },
 "nbformat": 4,
 "nbformat_minor": 1
}
