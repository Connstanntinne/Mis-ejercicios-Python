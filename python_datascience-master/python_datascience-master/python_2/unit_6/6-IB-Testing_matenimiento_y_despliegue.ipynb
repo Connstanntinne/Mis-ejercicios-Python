{
 "cells": [
  {
   "cell_type": "markdown",
   "metadata": {},
   "source": [
    "<div style=\"width: 100%; clear: both;\">\n",
    "    <div style=\"float: left; width: 50%;\">\n",
    "       <img src=\"http://www.uoc.edu/portal/_resources/common/imatges/marca_UOC/UOC_Masterbrand.jpg\", align=\"left\">\n",
    "    </div>\n",
    "</div>\n",
    "\n",
    "<div style=\"float: right; width: 50%;\">\n",
    "    <p style=\"margin: 0; padding-top: 22px; text-align:right;\">22.503 · Programación para la ciencia de datos</p>\n",
    "    <p style=\"margin: 0; text-align:right;\">Grado en Ciencia de Datos Aplicada</p>\n",
    "    <p style=\"margin: 0; text-align:right; padding-button: 100px;\">Estudios de Informática, Multimedia y Telecomunicación</p>\n",
    "</div>\n",
    "\n",
    "</div>\n",
    "<div style=\"width: 100%; clear: both;\">\n",
    "<div style=\"width:100%;\">&nbsp;</div>"
   ]
  },
  {
   "cell_type": "markdown",
   "metadata": {},
   "source": [
    "Programación para la ciencia de datos\n",
    "============================\n",
    "\n",
    "--- \n",
    "\n",
    "Unidad 6: Testing, mantenimiento y despliegue de aplicaciones Python\n",
    "-----------------------------------------------------\n",
    "\n",
    "---\n",
    "\n",
    "### Manual de instrucciones\n",
    "\n",
    "Este documento es un notebook interactivo que intercala explicaciones más bien teóricas de conceptos de programación con fragmentos de código ejecutables. Para aprovechar las ventajas que aporta este formato, se recomienda, en primer lugar, leer las explicaciones y el código que os proporcionamos. De esta manera tendréis un primer contacto con los conceptos que se exponen. Ahora bien, **¡la lectura es solo el principio!** Una vez que hayáis leído el contenido proporcionado, no olvidéis ejecutar el código proporcionado y modificarlo para crear variantes, que os permitan comprobar que habéis entendido su funcionalidad y explorar los detalles de la implementación. Por último, se recomienda también consultar la documentación enlazada para explorar con más profundidad las funcionalidades de los módulos presentados."
   ]
  },
  {
   "cell_type": "code",
   "execution_count": 1,
   "metadata": {},
   "outputs": [],
   "source": [
    "%load_ext pycodestyle_magic"
   ]
  },
  {
   "cell_type": "code",
   "execution_count": 2,
   "metadata": {},
   "outputs": [],
   "source": [
    "%pycodestyle_on"
   ]
  },
  {
   "cell_type": "markdown",
   "metadata": {},
   "source": [
    "### Introducción\n",
    "\n",
    "En esta unidad veremos cómo programar en Python sin utilizar notebooks de jupyter. Así, comentaremos cómo utilizar archivos planos de código Python como fuente del código, y discutiremos sobre cómo organizarlos para facilitar la legibilidad y el mantenimiento de las aplicaciones.\n",
    "\n",
    "Después, explicaremos (con más detalle de lo que hemos hecho hasta ahora), cómo funciona la gestión de librerías de Python con `pip`, y presentaremos los entornos virtuales, que permiten crear entornos de programación aislados en los que ejecutar los proyectos.\n",
    "\n",
    "A continuación, presentaremos dos herramientas que se utilizan en el desarrollo de *software*: los sistemas de control de versiones y los entornos de desarrollo integrados (*IDE*), y presentaremos dos de los más utilizados ( `git` para control de versiones y PyCharm como IDE).\n",
    "\n",
    "Finalmente, describiremos el concepto de test unitario, y veremos cómo implementarlos en Python usando `unittest`.\n",
    "\n",
    "A continuación se incluye la tabla de contenidos, que podéis utilizar para navegar por el documento:\n",
    "\n",
    "<ul style=\"list-style-type:none\">\n",
    "<li> <a href='#1.--Introducción'> 1. Introducción </a> </li>\n",
    "<li> <a href=\"#2.--Organización-y-distribución-de-código-Python\"> 2. Organización y distribución de código Python </a> </li>\n",
    "    <ul style=\"list-style-type:none\">\n",
    "<li> <a href=\"#2.1.--El-uso-de-notebooks-de-jupyter\"> 2.1. El uso de notebooks de jupyter </a> </li>\n",
    "<li> <a href=\"#2.2.--Ejecución-de-código-Python-en-ficheros-planos\"> 2.2. Ejecución de código Python en ficheros planos </a> </li>\n",
    "<li> <a href='#2.3.--Organización-de-código'> 2.3. Organización de código </a> </li>\n",
    "<li> <a href='#2.4.--Gestión-de-librerías'> 2.4. Gestión de librerías </a> </li>\n",
    "        <ul style=\"list-style-type:none\">\n",
    "<li> <a href='#2.4.1.--Fichero-de-requerimientos'> 2.4.1. Archivo de requerimientos </a> </li>\n",
    "<li> <a href='#2.4.2.--Entornos-virtuales'> 2.4.2. Entornos virtuales </a> </li>\n",
    "        </ul>\n",
    "    </ul>\n",
    "<li> <a href=\"#3.--Control-de-versiones-y-trabajo-colaborativo\"> 3. Control de versiones y trabajo colaborativo </a> </li>\n",
    "    <ul style=\"list-style-type:none\">\n",
    "<li> <a href=\"#3.1.--Comandos-básicos-de-git\"> 3.1. Comandos básicos de git </a> </li>\n",
    "    </ul>\n",
    "<li> <a href=\"#4.--Testing-y-mantenimiento-de-aplicaciones\"> 4. Testing y mantenimiento de aplicaciones </a> </li>\n",
    "<li> <a href=\"#5.--Estructura-de-un-proyecto-Python\"> 5. Estructura de un proyecto Python </a> </li>\n",
    "<li> <a href=\"#6.--Entornos-de-desarrollo-integrado\"> 6. Entornos de desarrollo integrado </a> </li>\n",
    "    <ul style=\"list-style-type:none\">\n",
    "<li> <a href=\"#6.1.--Funcionalidades-de-un-IDE\"> 6.1. Funcionalidades de un IDE </a> </li>\n",
    "<li> <a href=\"#6.2.--Creación-de-proyectos-de-Python-con-PyCharm\"> 6.2. Creación de proyectos de Python con PyCharm </a> </li>\n",
    "    </ul>\n",
    "<li> <a href='#7.--Ejercicios-para-practicar'> 7. Ejercicios para practicar </a> </li>\n",
    "    <ul style=\"list-style-type:none\">\n",
    "<li> <a href='#7.1.--Soluciones-a-los-ejercicios-para-practicar'> 7.1. Soluciones a los ejercicios para practicar </a> </li>\n",
    "    </ul>\n",
    "<li> <a href='#8.--Bibliografía'> 8. Bibliografía </a> </li>\n",
    "    <ul style=\"list-style-type:none\">\n",
    "<li> <a href='#8.1.--Bibliografía-básica'> 8.1. Bibliografía básica </a> </li>\n",
    "<li> <a href='#8.2.--Bibliografía-adicional---Ampliación-de-conocimientos'> 8.2. Bibliografía adicional </a> </li>\n",
    "    </ul>\n",
    "</ul>"
   ]
  },
  {
   "cell_type": "markdown",
   "metadata": {},
   "source": [
    "**Importante**:\n",
    "\n",
    "**Nota:** Antes de ejecutar el código de este notebook, es necesario instalar una librería adicional. Para instalar librerías en Python, utilizaremos `pip`, el instalador de paquetes de Python.\n",
    "\n",
    "Abrid ahora una consola y ejecutad la siguiente instrucción, que instala el paquete `virtualenv`, que utilizaremos para crear entornos virtuales (la contraseña solicitada es `datasci`):\n",
    "\n",
    "```\n",
    "sudo pip install virtualenv\n",
    "```\n",
    "Solo es necesario realizar este paso **una única vez**."
   ]
  },
  {
   "cell_type": "markdown",
   "metadata": {},
   "source": [
    "# 1.- Introducción\n",
    "\n",
    "En la asignatura hemos utilizado notebooks de jupyter para programar en Python. Como habéis podido comprobar, los notebooks de jupyter son un entorno interactivo, que permite combinar la ejecución de código (en nuestro caso, en Python), con explicaciones textuales, que pueden incluir fórmulas matemáticas, imágenes, y otro contenido multimedia.\n",
    "\n",
    "Los notebooks de jupyter son una buena alternativa para generar documentos como los que hemos estado utilizando, que combinan código, explicaciones, y visualizaciones. Además, son fáciles de compartir, y permiten mostrar visualmente los resultados de análisis de datos. Por este motivo son utilizados habitualmente como herramienta para presentar y compartir resultados, y también como herramienta de prototipado. Aunque las características de los notebooks los hacen muy adecuados para este tipo de tareas, en ciertas situaciones los notebooks no serán la mejor alternativa para programar en Python. Es el caso, por ejemplo, de programas con muchas líneas de código, muy complejos, o en los que colabora un equipo de desarrolladores.\n",
    "\n",
    "En estos casos, será más práctico utilizar ficheros planos de Python, donde el código puede estar organizado (facilitando el mantenimiento de código largo), que pueden ser fácilmente controlados por sistemas de control de versiones (imprescindibles para la colaboración de equipos), y para los que disponemos de herramientas de desarrollo más avanzadas que un navegador web.\n",
    "\n",
    "En esta unidad, explicaremos cómo programar en Python fuera de los notebooks de jupyter, y veremos una serie de herramientas y procesos que se utilizan en el contexto del desarrollo de software, que nos serán útiles para desarrollar aplicaciones complejas.\n"
   ]
  },
  {
   "cell_type": "markdown",
   "metadata": {},
   "source": [
    "# 2.- Organización y distribución de código Python\n",
    "\n",
    "## 2.1.- El uso de notebooks de jupyter\n",
    "\n",
    "Hasta ahora hemos estado programando en Python utilizando *notebooks* de jupyter, que visualizamos, editamos y ejecutamos con un navegador accediendo a un pequeño servidor web que desplegamos en local (en nuestra máquina). En esta unidad, presentaremos una de las alternativas más extendidas para programar en Python, que es el uso de archivo planos que contienen código Python.\n",
    "\n",
    "En primer lugar, revisaremos la arquitectura que estamos utilizando actualmente para acceder al contenido de la asignatura.\n",
    "\n",
    "![Arquitectura](img/arquitectura_ib.png)\n",
    "\n",
    "Por un lado, para empezar a trabajar ejecutamos el *script* `start_uoc.sh` en la máquina virtual. Este *script* levanta un servidor de jupyter en local (dentro de nuestra máquina), ejecuta un navegador web (en nuestro caso, Firefox), y abre una pestaña dentro de este navegador que carga la url `http://localhost:8888`. Esta url apunta a la raíz del servidor web incorporado en jupyter, y nos permite navegar por el sistema de ficheros de nuestra máquina y visualizar los notebooks gráficamente.\n",
    "\n",
    "Ahora bien, ¿como son estos *notebooks* cuando los visualizamos en texto plano? Pues bien, los archivos `.ipynb` (la extensión proviene de *ipython notebooks*, que es como se les conocía en el pasado) son archivos json, que contienen diferentes celdas. Cada celda es de un tipo, que determina como la visualizaremos. Así, por ejemplo, disponemos de celdas de *markdown* (como la celda donde se encuentra este texto que estáis leyendo) y de celdas de código (que contienen código Python que se puede interpretar y ejecutar). A continuación se incluye un ejemplo del contenido json que se encuentra en un fichero `.ipynb` (en este caso, corresponde a un fragmento de la primera unidad de la asignatura):\n"
   ]
  },
  {
   "cell_type": "markdown",
   "metadata": {},
   "source": [
    "```\n",
    "{\n",
    " \"cells\": [\n",
    "  {\n",
    "   \"cell_type\": \"markdown\",\n",
    "   \"metadata\": {},\n",
    "   \"source\": [\n",
    "    \"# 1.- Estructuras de datos para almacenar colecciones de valores\"\n",
    "   ]\n",
    "  },\n",
    "  {\n",
    "   \"cell_type\": \"code\",\n",
    "   \"execution_count\": 1,\n",
    "   \"metadata\": {},\n",
    "   \"outputs\": [\n",
    "    {\n",
    "     \"name\": \"stdout\",\n",
    "     \"output_type\": \"stream\",\n",
    "     \"text\": [\n",
    "      \"The list is:\\n\",\n",
    "      \"\\t[1, 1, 3.5, 'strings also', [None, 4]]\\n\",\n",
    "      \"After appending 5 and removing 3.5:\\n\",\n",
    "      \"\\t[1, 1, 'strings also', [None, 4], 5]\\n\"\n",
    "     ]\n",
    "    }\n",
    "   ],\n",
    "   \"source\": [\n",
    "    \"# Las listas pueden ser heteogéneas y tener duplicados\\n\",\n",
    "    \"a_list = [1, 1, 3.5, \\\"strings also\\\", [None, 4]]\\n\",\n",
    "    \"print(\\\"The list is:\\\\n\\\\t{}\\\".format(a_list))\\n\",\n",
    "    \"\\n\",\n",
    "    \"# Las listas son mutables y ordenadas\\n\",\n",
    "    \"a_list.append(5)\\n\",\n",
    "    \"a_list.remove(3.5)\\n\",\n",
    "    \"print(\\\"After appending 5 and removing 3.5:\\\\n\\\\t{}\\\".format(a_list))\"\n",
    "   ]\n",
    "  },\n",
    "  ...\n",
    "]\n",
    "}\n",
    "```"
   ]
  },
  {
   "cell_type": "markdown",
   "metadata": {},
   "source": [
    "Fijaos como las celdas de texto (es decir, las que tienen como `cell_type` el valor `markdown`) sólo contienen un campo `source` con el texto, mientras que las celdas de código (las que tienen como `cell_type` el valor` code`) tienen información adicional, como el contador de ejecución (`execution_count`) o la salida generada por el código al ejecutarlo (`outputs`).\n",
    "\n",
    "Con respecto a las celdas de código, el servidor de jupyter se encarga de ejecutar el código con el intérprete de Python y de recuperar la salida, que se incrusta luego en el *notebook* (y se muestra al usuario a través del navegador web).\n",
    "\n",
    "## 2.2.- Ejecución de código Python en ficheros planos\n",
    "\n",
    "Una de las alternativas que podemos utilizar para ejecutar código Python sin utilizar jupyter es escribir el código en ficheros planos, que se ejecutarán directamente con el intérprete de Python.\n",
    "\n",
    "Los ficheros planos de Python son archivos de texto que contienen código fuente escrito en Python y que tienen la extensión `.py`. Estos archivos contendrían el código que hemos estado programando en celdas de código en los *notebooks*. Del mismo modo que el código en los *notebooks*, el código Python en texto plano puede contener comentarios (ya sean de una sola línea, comenzados con `#`; o multilínea, delimitados con `'''`), y estará indentado siguiendo la sintaxis de Python.\n",
    "\n",
    "Para editar estos archivos, utilizaremos un editor de texto plano, o bien un entorno de desarrollo integrado (en inglés, se conoce como IDE, de *integrated development environment*).\n",
    "\n",
    "![Arquitectura-python-plano](img/py_ib.png)\n"
   ]
  },
  {
   "cell_type": "markdown",
   "metadata": {},
   "source": [
    "Cuando estos archivos contienen un fragmento de código pensado para ser ejecutado **sólo** de manera directa por el usuario normalmente lo llamamos **_script_ de Python**; mientras que si el código está pensado para poderse importar desde otro archivo de Python lo llamamos **módulo**.\n",
    "\n",
    "En la carpeta `python_code` hay un ejemplo de módulo en Python muy simple (` hello_world.py`), que está pensado para poderse importar, pero también para ejecutarse directamente.\n",
    "\n",
    "El contenido del archivo es el siguiente:\n",
    "\n",
    "```\n",
    "#!/usr/bin/ python\n",
    "# -*- coding: utf-8 -*-\n",
    "\n",
    "\n",
    "def to_upper(x):\n",
    "\treturn x.upper()\n",
    "\n",
    "\n",
    "if __name__ == \"__main__\":\n",
    "\tprint(to_upper(\"Hello world!\"))\n",
    "\n",
    "```\n",
    "\n",
    "Notad como el archivo contiene únicamente código (y comentarios de código), pero no texto en *markdown* ni imágenes como podemos tener en los *notebooks*.\n",
    "\n",
    "Por otra parte, el código tiene dos partes diferenciadas:\n",
    "* La definición de la función `to_upper`.\n",
    "* Un `print` de un mensaje.\n",
    "\n",
    "El `print` se encuentra dentro de un bloque `if`, que comprueba si la variable `__name__` es igual a la cadena de caracteres `__main__`. La variable `__name__` es una variable especial asignada por el intérprete de Python, que toma el valor `__main__` cuando el archivo se ejecuta como programa principal. En cambio, cuando se importa como módulo, la variable toma el nombre del módulo. Cuando se programan módulos que pueden ser utilizados tanto importados desde otros programas como como programas principales, es habitual utilizar esta construcción para indicar qué debe hacer el programa cuando se ejecuta como programa principal.\n",
    "\n",
    "Por lo tanto, si ejecutamos este código como programa principal, se mostrará el mensaje `HELLO WORLD!` por pantalla, mientras que si lo importamos como módulo desde otro programa, este mensaje no se mostrará. En cuanto a la definición de la función `to_upper`, ésta siempre se ejecutará, ya que no se encuentra dentro del bloque `if`.\n",
    "\n",
    "Para ejecutar este código Python como programa principal, nos situaremos en la carpeta desde un terminal, y ejecutaremos la siguiente instrucción:\n",
    "\n",
    "```\n",
    "$ python hello_world.py\n",
    "```\n",
    "\n",
    "Esto ejecutará el código, que mostrará por pantalla el mensaje `HELLO WORLD!`.\n",
    "\n",
    "Por otro lado, podemos importar este archivo como módulo dentro de nuestro código Python usando la instrucción `import` (como ya hemos estado haciendo con las librerías que hemos ido utilizando en la asignatura)."
   ]
  },
  {
   "cell_type": "code",
   "execution_count": 3,
   "metadata": {},
   "outputs": [],
   "source": [
    "from python_code import hello_world"
   ]
  },
  {
   "cell_type": "markdown",
   "metadata": {},
   "source": [
    "Una vez importado el módulo, podemos hacer servir las funciones que se han implementado:\n"
   ]
  },
  {
   "cell_type": "code",
   "execution_count": 4,
   "metadata": {},
   "outputs": [
    {
     "data": {
      "text/plain": [
       "'TEST MESSAGE'"
      ]
     },
     "execution_count": 4,
     "metadata": {},
     "output_type": "execute_result"
    }
   ],
   "source": [
    "hello_world.to_upper(\"test message\")"
   ]
  },
  {
   "cell_type": "markdown",
   "metadata": {},
   "source": [
    "Tened en cuenta que, al importar el módulo, el mensaje `HELLO WORLD!` no se ha mostrado. Por otro lado, fijaos como, en este caso, hemos importado el módulo desde un *notebook*, pero esto no tiene por qué ser siempre así. También se pueden importar módulos desde otros módulos u otros *scripts* de Python, programados en ficheros planos de código."
   ]
  },
  {
   "cell_type": "markdown",
   "metadata": {},
   "source": [
    "## 2.3.- Organización de código\n",
    "\n",
    "Ya hemos visto un par de maneras de organizar código Python: con el uso de funciones y utilizando clases. Tanto las funciones como las clases permiten segmentar el código, por funcionalidades o por entidades (respectivamente), lo que ayuda a crear código claro, reutilizable y fácilmente mantenible. Ahora bien, imaginemos un código que dispone de un millar de funciones, todas ellas codificadas en un mismo *notebook* de jupyter o archivo de código Python plano. Por muy bien documentadas que estén estas funciones, mantener este código o, incluso, usarlo, es una tarea muy compleja.\n",
    "\n",
    "Para trabajar con programas con muchas líneas de código, lo que se hace es separar diferentes fragmentos de código en diferentes archivos (que, como ya hemos comentado, llamaremos **módulos**), y organizar estos archivos en **paquetes** (conjuntos de módulos).\n",
    "\n",
    "De hecho, ya hemos utilizado módulos externos (importándolos en nuestros *notebooks*) durante toda la asignatura. Ahora bien, hasta ahora no habíamos visto como podíamos crear estos módulos, ni habíamos reflexionado sobre sus implicaciones a nivel del diseño de aplicaciones. Pues bien, un módulo no es más que un archivo python, que puede contener tanto instrucciones como definiciones de funciones (como hemos visto en el ejemplo del apartado anterior).\n",
    "\n",
    "Los paquetes son conjuntos de módulos, estructurados de manera jerárquica. En cuanto a la estructura del código fuente, podemos definir esta estructura jerárquica usando carpetas. Por ejemplo, fijémonos en la estructura de carpetas que presenta [el paquete `networkx`](https://github.com/networkx/networkx/tree/master/networkx) (que ofrece representaciones y funciones sobre grafos), de la que reproducimos un subconjunto a continuación:\n",
    "\n",
    "```\n",
    "networkx\n",
    "    __init__.py\n",
    "    algorithms\n",
    "        __init__.py\n",
    "        community\n",
    "            __init__.py\n",
    "            centrality.py\n",
    "            modularity_max.py\n",
    "            ...\n",
    "        ...\n",
    "    classes\n",
    "    drawing\n",
    "    generators\n",
    "    linalg\n",
    "    ...\n",
    "```\n",
    "\n",
    "El paquete `networkx` contiene varias carpetas, que a la vez contienen otras carpetas que contienen archivos de código en python con extensión `.py`. Así, por ejemplo, el módulo `centrality`, se encuentra dentro de `community`, que a la vez está en `algorithms`. La estructura de carpetas define pues la jerarquía de los paquetes.\n",
    "\n",
    "Es interesante notar que las carpetas contienen un archivo `__init __.py`: este archivo es necesario para indicarle a Python que debe tratar esta carpeta como paquete y, por tanto, para poder importarlo después desde otras aplicaciones. El archivo `__init __.py` es un archivo python normal, y puede estar vacío (de hecho, a menudo estará vacío) o bien puede contener código de inicialización para el paquete. En este último caso, el archivo contendrá el código a ejecutar en el momento de la importación.\n",
    "\n",
    "En cuanto a la importación de los paquetes, podemos o bien importar todo el paquete entero, o bien importar sólo alguno de los submódulos que lo conforman o, incluso, importar funciones o clases concretas. Así, por ejemplo, podemos importar el paquete `networkx` con:"
   ]
  },
  {
   "cell_type": "code",
   "execution_count": 5,
   "metadata": {},
   "outputs": [],
   "source": [
    "# Importamos el paquete networkx\n",
    "import networkx\n",
    "\n",
    "# Creamos un grafo de networkx\n",
    "g = networkx.Graph()"
   ]
  },
  {
   "cell_type": "markdown",
   "metadata": {},
   "source": [
    "Ahora bien, este tipo de importación no es muy eficiente: por un lado, si sólo necesitamos algún módulo o función concreta de la librería `networkx`, no querremos importarlo entero; por otra parte, tener que escribir `networkx` cada vez que usamos alguna definición del paquete, es tedioso.\n",
    "\n",
    "En cuanto a esta segunda problemática, Python permite asignar un nuevo nombre dentro de nuestra aplicación a las importaciones, utilizando la palabra clave `as`:\n"
   ]
  },
  {
   "cell_type": "code",
   "execution_count": 6,
   "metadata": {},
   "outputs": [],
   "source": [
    "# Importamos el paquete networkx como nx\n",
    "import networkx as nx\n",
    "\n",
    "# Creamos un grafo de networkx\n",
    "g = nx.Graph()"
   ]
  },
  {
   "cell_type": "markdown",
   "metadata": {},
   "source": [
    "Ahora, podemos utilizar `nx` dentro de nuestro código para referirnos a` networkx`.\n",
    "\n",
    "Por otra parte, con respecto a la importación de más definiciones de las que realmente se necesitan, Python permite importar sólo un módulo concreto dentro del paquete. Por ejemplo, podemos importar el módulo `centrality`, haciendo:\n"
   ]
  },
  {
   "cell_type": "code",
   "execution_count": 7,
   "metadata": {},
   "outputs": [],
   "source": [
    "import networkx.algorithms.community.centrality"
   ]
  },
  {
   "cell_type": "markdown",
   "metadata": {},
   "source": [
    "o bien:\n"
   ]
  },
  {
   "cell_type": "code",
   "execution_count": 8,
   "metadata": {},
   "outputs": [],
   "source": [
    "from networkx.algorithms.community import centrality"
   ]
  },
  {
   "cell_type": "markdown",
   "metadata": {},
   "source": [
    "Si la unidad que queremos importar es un módulo o un paquete, podemos utilizar las dos sintaxis de importación. Ahora bien, si lo que queremos importar es una clase, una función o una variable que se encuentra definida dentro de un módulo, sólo podremos utilizar la segunda sintaxis. Veamos, por ejemplo, como importar la función `girvan_newman` que se encuentra en subpaquet` centrality`:\n"
   ]
  },
  {
   "cell_type": "code",
   "execution_count": 9,
   "metadata": {},
   "outputs": [],
   "source": [
    "# Importación correcta de la función girvan_newman\n",
    "from networkx.algorithms.community.centrality import girvan_newman"
   ]
  },
  {
   "cell_type": "code",
   "execution_count": 10,
   "metadata": {},
   "outputs": [
    {
     "name": "stdout",
     "output_type": "stream",
     "text": [
      "No module named 'networkx.algorithms.community.centrality.girvan_newman'; 'networkx.algorithms.community.centrality' is not a package\n"
     ]
    }
   ],
   "source": [
    "# Importación incorrecta, que genera una excepción\n",
    "try:\n",
    "    import networkx.algorithms.community.centrality.girvan_newman\n",
    "except ModuleNotFoundError as e:\n",
    "    print(e)"
   ]
  },
  {
   "cell_type": "markdown",
   "metadata": {},
   "source": [
    "Ya hemos visto pues como podemos crear módulos y paquetes en Python, y cómo podemos importarlos para usarlos en otras aplicaciones. Llegados a este punto y en cuanto a la creación de nuestros propios paquetes en Python, en deberíamos plantear pues como hemos de estructurar nuestros proyectos de código. En esta sección, describiremos algunas ideas en cuanto a la estructura de los ficheros de código Python. Después, en el apartado 5, hablaremos de cómo podemos estructurar los proyectos más allá de nuestro código (considerando detalles como la documentación, la licencia, los requerimientos, etc.).\n",
    "\n",
    "No hay una receta mágica que contenga un conjunto de reglas a seguir para estructurar el código de un proyecto en módulos y paquetes. Para un mismo proyecto, existen muchísimas maneras de estructurarlo y, a menudo, será difícil decidir cuál de ellas es la *mejor*, en tanto que algunas decisiones de diseño sacrificarán algún beneficio para conseguir algún otro. En todo caso, algunas buenas prácticas a seguir son:\n",
    "\n",
    "* Hay que intentar promover la **simplicidad** y la **legibilidad** de nuestro código, así como evitar estructuras con muchos niveles de composición. Así, es recomendable que la estructura de paquetes y módulos que creamos para nuestro proyecto sea simple, y añadir complejidad sólo si es necesario para facilitar la comprensión u organización. Asimismo, también es importante que el código sea fácilmente legible, por lo que habrá que prestar especial atención a los **nombres de los paquetes y módulos**, para intentar que transmitan el máximo de información posible.\n",
    "\n",
    "    El [PEP20](https://www.python.org/dev/peps/pep-0020/) contiene una recopilación de principios para programar en Python en forma de aforismos, algunos de los cuales son aplicables a la estructura del código y de los que se derivan las propiedades que acabamos de mencionar. Las primeras líneas del PEP20 son las siguientes:\n",
    "\n",
    "```\n",
    "Beautiful is better than ugly.\n",
    "Explicit is better than implicit.\n",
    "Simple is better than complex.\n",
    "Complex is better than complicated.\n",
    "Flat is better than nested.\n",
    "Sparse is better than dense.\n",
    "Readability counts.\n",
    "...\n",
    "```\n",
    "\n",
    "* Hay que intentar **organizar** el código en módulos y paquetes de manera que sea fácil para un lector encontrar donde debería estar una determinada definición. En este sentido, a menudo es interesante agrupar las funcionalidades que abordan un mismo concepto en la aplicación. Normalmente, interesará minimizar el acoplamiento de los módulos, haciendo que cada módulo necesite conocer el mínimo de información posible sobre el funcionamiento de los otros módulos.\n",
    "\n",
    "    Siguiendo con el ejemplo de `networkx`, el paquete` community` contiene módulos relacionados con la detección de comunidades: el módulo `centrality` implementa la detección de comunidades utilizando el algoritmo de Girvan-Newman; el módulo `klique` utilizando la definición de comunidades basada en la subestructura del *k*-clique; el módulo `label_progagation` utilizando un algoritmo de propagación de etiquetas, etc.\n",
    "    \n",
    "    Asimismo, el paquete `community` forma parte del paquete `algorithms`, que agrupa varios algoritmos sobre redes. Dentro de `algorithms`, encontramos el paquete `community`, que agrupa a los algoritmos de detección de comunidades; el paquete `shortest_paths`, que agrupa algoritmos de cálculo de los caminos más cortos; el paquete `flow`, que contiene algoritmos basados en flujos, etc.\n",
    "\n",
    "\n",
    "* Hay que intentar **evitar la repetición** de código. En casi todos los proyectos hay fragmentos de código que pueden ser aprovechados con una pequeña variación en varios lugares. En estos casos, lo más rápido suele ser simplemente copiar el código en estos diversos lugares, y hacer las pequeñas adaptaciones que permitan ajustarlo a la funcionalidad deseada en cada lugar. Aunque esta opción sea más rápida, en general hay que intentar evitarla, ya que genera código difícil de mantener. Por ejemplo, si se detecta un error en este fragmento de código, para arreglarlo habrá que recordar todos los lugares donde el código se encuentra duplicado, y hacer la corrección en todos ellos. En general, es preferible intentar hacer una única versión del código, que sea capaz de gestionar las diversas casuísticas.\n",
    "\n",
    "\n",
    "* Es importante hacer refacción del código (en inglés, hablamos de **_refactoring_**) cuando sea necesario. Llamamos *refactoring* al proceso de modificación del código con el objetivo de mejorarlo, sin cambiar su funcionalidad. En este contexto, mejorar el código implica limpiarlo, ordenarlo, hacerlo más eficiente, más mantenible, reutilizable, etc. Es importante hacer *refactoring* para mantener la calidad del código conforme el proyecto crece, pero también hay que valorar cuando es importante hacerlo, ya que supone una inversión de tiempo. En el contexto de la estructura del proyecto, será importante tener en cuenta las implicaciones que los cambios tengan en nuestro proyecto, así como en posibles proyectos que dependan de este.\n",
    "\n",
    "    Si estáis interesados en aprender detalles adicionales sobre la estructuración de código Python en paquetes, os recomendamos la lectura de [el siguiente artículo](https://intermediate-and-advanced-software-carpentry.readthedocs.io/en/latest/structuring-python.html) del curso de programación en Python de T. Brown."
   ]
  },
  {
   "cell_type": "markdown",
   "metadata": {},
   "source": [
    "## 2.4.- Gestión de librerías\n",
    "\n",
    "Python es un lenguaje de programación que dispone de muchos paquetes y módulos  externos (es decir, que no se encuentran en la [librería estándar de Python](https://docs.python.org/3/library/index.html)). Ya hemos visto en otras unidades que podemos instalar librerías Python usando `pip`. El software `pip` (de sus siglas en inglés, *Pip Installs Packages*) es un instalador de paquetes de Python que permite instalar paquetes que se encuentran en unos índices públicos. Para instalar un paquete, simplemente hay que ejecutar:\n",
    "\n",
    "```\n",
    "$ pip install nombrepaquete\n",
    "```\n",
    "\n",
    "Esto hará que se instale el paquete especificado, así como todas las dependencias que necesite para su ejecución.\n",
    "\n",
    "También podemos instalar versiones concretas de un paquete, especificándolo en la instrucción de instalación. Así, por ejemplo,\n",
    "\n",
    "```\n",
    "$ pip install pandas == 0.25.3\n",
    "```\n",
    "\n",
    "instala la versión `0.25.3` de `pandas`.\n",
    "\n",
    "Para desinstalar un paquete instalado con `pip`, sólo hay que ejecutarlo de nuevo con el argumento `uninstall`:\n",
    "\n",
    "```\n",
    "$ pip uninstall nombrepaquete\n",
    "```\n",
    "\n",
    "`pip` descarga los paquetes a instalar del *Python Package Index* ([PyPI](https://pypi.org/)), el índice de paquetes por defecto de la comunidad Python, que se encuentra abierto a todos los desarrolladores. Adicionalmente, se puede usar `pip` para instalar paquetes de otros índices, especificando la url con el *flag* `--index-url`."
   ]
  },
  {
   "cell_type": "markdown",
   "metadata": {},
   "source": [
    "### 2.4.1.- Fichero de requerimientos\n",
    "\n",
    "El uso de librerías externas en Python facilita el desarrollo de programas (ya que los programadores pueden reutilizar código ya existente), pero al mismo tiempo puede dificultar la portabilidad de código entre diferentes máquinas (ya que un código que dependa de librerías externas no funcionará si estas librerías no se encuentran instaladas en el sistema). Además, a veces no sólo será necesario que las librerías estén instaladas, sino que será necesario que la versión instalada sea la misma para la que se desarrolló el código (ya que diferentes versiones de una misma librería pueden disponer de funciones diferentes, tener diferentes comportamientos por defecto, etc.).\n",
    "\n",
    "Para ayudar a reproducir el entorno en el que un programa puede ejecutarse correctamente, en los proyectos de programación en Python se suele crear un archivo (llamado habitualmente `requirements.txt`) que contiene un listado de todas las dependencias del proyecto, es decir, de todas las librerías que hay que tener instaladas para ejecutar el código del proyecto. Adicionalmente, este archivo también puede especificar requisitos sobre las versiones de las librerías que hay que instalar, por ejemplo, indicando una versión concreta de una librería o bien la versión mínima que hay que tener.\n",
    "\n",
    "A partir de un fichero de requerimientos, podemos utilizar `pip` para instalar todas las librerías necesarias para un proyecto usando el comando siguiente:\n",
    "\n",
    "```\n",
    "$ pip install -r requirements.txt\n",
    "```\n",
    "\n",
    "Además de gestionar la instalación de paquetes, `pip` también permite generar un fichero con todas las librerías instaladas en un entorno de Python:\n",
    "\n",
    "```\n",
    "$ pip freeze requirements.txt\n",
    "```\n",
    "\n",
    "Si ejecutamos el comando anterior en la máquina virtual de la asignatura, veréis que se genera una lista bastante grande, que contiene todas las librerías instaladas junto con su versión:\n",
    "\n",
    "```\n",
    "asn1crypto==0.24.0\n",
    "attrs==19.1.0\n",
    "Automat==0.7.0\n",
    "backcall==0.1.0\n",
    "bleach==3.1.0\n",
    "catfish==1.4.4\n",
    "certifi==2018.1.18\n",
    "chardet==3.0.4\n",
    "command-not-found==0.3\n",
    "constantly==15.1.0\n",
    "cryptography==2.1.4\n",
    "cssselect==1.0.3\n",
    "cupshelpers==1.0\n",
    "cycler==0.10.0\n",
    "decorator==4.4.0\n",
    "defer==1.0.6\n",
    "defusedxml==0.6.0\n",
    "distro-info===0.18ubuntu0.18.04.1\n",
    "entrypoints==0.3\n",
    "flake8==3.7.9\n",
    "future==0.17.1\n",
    "geoplotlib==0.3.2\n",
    "googlemaps==3.0.2\n",
    "httplib2==0.9.2\n",
    "hyperlink==19.0.0\n",
    "idna==2.6\n",
    "incremental==17.5.0\n",
    "ipykernel==5.1.1\n",
    "ipython==7.6.0\n",
    "ipython-genutils==0.2.0\n",
    "ipywidgets==7.4.2\n",
    "jedi==0.14.0\n",
    "Jinja2==2.10.1\n",
    "joblib==0.13.2\n",
    "jsonschema==3.0.1\n",
    "jupyter==1.0.0\n",
    "jupyter-client==5.2.4\n",
    "jupyter-console==6.0.0\n",
    "jupyter-core==4.5.0\n",
    "keyring==10.6.0\n",
    "keyrings.alt==3.0\n",
    "kiwisolver==1.1.0\n",
    "language-selector==0.1\n",
    "launchpadlib==1.10.6\n",
    "lazr.restfulclient==0.13.5\n",
    "lazr.uri==1.0.3\n",
    "lightdm-gtk-greeter-settings==1.2.2\n",
    "line-profiler==3.0.2\n",
    "lxml==4.4.0\n",
    "MarkupSafe==1.1.1\n",
    "matplotlib==3.1.1\n",
    "...\n",
    "```\n",
    "\n",
    "Ahora bien, la salida que hemos obtenido del `pip freeze` **no** sería adecuada como contenido de un fichero de requerimientos para nuestro proyecto. Si os fijáis, contiene muchas librerías, y no sólo las que hemos instalado nosotros explícitamente en el sistema. Esto se debe a que algunas librerías tienen dependencias de otras librerías. Estas dependencias se instalan en nuestro sistema al instalar la librería objetivo, y se añaden también a la lista generada por `pip freeze`, pero detallarlas en el archivo de requerimientos de nuestro proyecto puede ser contraproducente ya que aumentan la complejidad de la gestión. Por ejemplo, al instalar la librería `matplotlib` que usamos para generar gráficas, se instala `kiwisolver` como dependencia. Pero nosotros no estamos interesados en tener la versión 1.1.0 de `kiwisolver`, o ni siquiera en tener la librería `kiwisolver` instalada, más allá de que sea necesaria para poder disponer de `matplotlib`: si en un futuro `matplotlib` deja de necesitar utilizar `kiwisolver`, entonces nuestro proyecto tampoco la necesitará. Por lo tanto, es mejor no especificar esta dependencia en el archivo de requerimientos de nuestro proyecto: queremos especificar `matplotlib`, que es la librería que usamos.\n",
    "\n",
    "### 2.4.2.- Entornos virtuales\n",
    "\n",
    "Además de la gestión de librerías que permita asegurar la portabilidad de nuestro código, a veces los programadores de Python también se pueden encontrar con conflictos en cuanto a las necesidades de los diversos proyectos en los que trabajan. Así, por ejemplo, imaginad que estáis trabajando en un proyecto de análisis de datos que necesita como mínimo la versión 1.0 de la librería `pandas` (ya que utiliza el método [`to_markdown`](https://pandas.pydata.org/pandas-docs/stable/reference/api/pandas.DataFrame.to_markdown.html#pandas.DataFrame.to_markdown) para mostrar unos *dataframes* en formato *markdown*, y este método es nuevo de la versión 1.0) y, al mismo tiempo, estáis trabajando en otro proyecto que necesita tener como mucho la versión 0.25 de la misma librería (ya que utiliza `SparseSeries` para representar series de datos *sparse*, y este tipo de datos desaparece en versiones posteriores de la librería). A largo plazo, seguramente la mejor opción sería migrar el código que necesita `SparseSeries` para funcionar, adaptándolo así a las nuevas versiones de las librerías. A veces, sin embargo, esto no es posible, ya que requiere de muchas horas de trabajo que no se pueden dedicar a este proyecto, o de otras dependencias que lo impiden.\n",
    "\n",
    "Tanto para mantener las librerías necesarias para un proyecto con el objetivo de mejorar la portabilidad como para permitir la ejecución de programas con librerías en conflicto, cuando desarrollamos en Python normalmente usamos **entornos virtuales** (en inglés, hablamos de *virtual environments* o *venvs*). Un entorno virtual es un entorno de programación aislado, que contiene su propio binario de Python, así como sus propias librerías. Esto permite, por un lado, mantener diversos entornos en una misma máquina, que pueden tener dependencias conflictivas entre ellos (como los entornos se encuentran aislados unos de otros, no hay ningún tipo de incompatibilidad entre las dependencias de cada entorno). Así, podemos utilizar un entorno virtual para cada uno de nuestros proyectos en Python, que mantenga las librerías necesarias para ese proyecto, y que sea fácilmente reproducible en otra máquina (a través de la especificación de archivos de requerimientos).\n",
    "\n",
    "El uso de entornos virtuales nos ofrece varias ventajas:\n",
    "* Facilidad de gestionar dependencias (y evitar conflictos como los que hemos mencionado anteriormente).\n",
    "* Posibilidad de instalar librerías sin permiso de superusuario.\n",
    "* Asegura que no modificamos las librerías de Python del sistema.\n",
    "* Permite la reproducción de los entornos de trabajo de los proyectos en otras máquinas.\n",
    "\n",
    "Hay varias maneras de gestionar entornos virtuales en Python. En esta unidad didáctica presentaremos la herramienta [`virtualenv`](https://virtualenv.pypa.io/en/latest/).\n",
    "\n",
    "Con el fin de crear un entorno virtual con `virtualenv` simplemente llamaremos a `virtualenv` con un único argumento: el nombre del directorio donde queremos crear el entorno virtual:\n",
    "\n",
    "```\n",
    "$ virtualenv venv\n",
    "```\n",
    "\n",
    "Esto creará una carpeta (en este caso, de nombre `venv`), que contendrá un archivo de configuración y dos subcarpetas (`bin` y `lib`), que contendrán copias de la versión de Python que utilizará el entorno, ficheros de interacción con el entorno, enlaces simbólicos a ciertos ficheros necesarios, y los ficheros que nos permitirán activar y desactivar el entorno (y que presentaremos a continuación).\n",
    "\n",
    "Una vez creado el entorno virtual, para usarlo habrá que activarlo, ejecutando:\n",
    "\n",
    "```\n",
    "$ source venv/bin/activate\n",
    "```\n",
    "\n",
    "A partir de este momento, nos encontraremos dentro del entorno virtual (nótese como el cursor de la consola cambia para indicar que nos encontramos dentro del entorno `venv`):\n",
    "\n",
    "```\n",
    "(venv) datasci@datasciuoc:~$\n",
    "```\n",
    "\n",
    "Si ahora ejecutamos `pip freeze` dentro del entorno virtual, veremos que la salida es una lista vacía, ya que todavía no hemos instalado ninguna librería. Podemos instalar librerías dentro del entorno de la misma manera que lo hemos estado haciendo hasta ahora, con `pip`. En particular, será útil ejecutar `pip install -r requirements.txt` dentro del entorno virtual, a fin de reconstruir un entorno para un proyecto concreto. Cualquier librería que instalamos mientras nos encontramos dentro del entorno, estará disponible solo dentro de este entorno virtual (y no será accesible ni desde el sistema ni desde otros entornos virtuales). Para ejecutar nuestros programas en Python dentro del entorno también lo haremos como hasta ahora, ejecutando `python nombre_del_fichero.py`.\n",
    "\n",
    "Para salir del entorno virtual, ejecutaremos la sentencia `deactivate`:\n",
    "\n",
    "```\n",
    "(venv) datasci@datasciuoc:~$ deactivate\n",
    "```"
   ]
  },
  {
   "cell_type": "markdown",
   "metadata": {},
   "source": [
    "# 3.- Control de versiones y trabajo colaborativo\n",
    "\n",
    "Si volvemos atrás y revisitamos el diagrama con el flujo de trabajo que hemos estado utilizando en la asignatura, podemos apreciar como hay una parte del esquema que no hemos comentado aún, que corresponde a cómo se obtienen los ficheros `ipynb `.\n",
    "\n",
    "Con el fin de obtener los *notebooks* que conforman tanto las unidades de la asignatura como las actividades, ejecutamos el script `get_content.sh` dentro de la máquina virtual. Este *script* es sólo una pequeña interfaz hacia un servidor de git que contiene el material de la asignatura.\n",
    "\n",
    "Git es un **sistema de control de versiones**, es decir, un software que permite gestionar los cambios a lo largo del tiempo sobre un conjunto de archivos, y que se utiliza para mantener los archivos de código fuente y la documentación de los proyectos de software.\n",
    "\n",
    "Así, imaginad que estáis trabajando en un proyecto de datos que requiere construir un modelo para predecir las compras que se hacen en supermercados. Este modelo se ha entrenado con un conjunto de datos que contiene variables que describen las compras que se han hecho en los últimos seis meses, así como la predicción meteorológica de la zona donde se encuentra el supermercado y los eventos deportivos principales que se celebran en el país donde se encuentra el supermercado. Una vez tenéis una primera versión de este modelo, lo compartís con un compañero del área de visualización de datos, que trabajará en generar visualizaciones que permitan explicar las predicciones del modelo; y también con el área de compras del supermercado, que comienza a utilizar las predicciones del modelo para ajustar los pedidos. Esta compartición la realizáis dando acceso a vuestro código (por ejemplo, compartiendo el acceso al servidor de jupyter donde trabajáis). Sin demasiado tiempo para preverlo, de repente os encuentráis con que el país se encuentra en estado de alarma por una pandemia mundial, lo que hace que los hábitos de consumo del supermercado cambien radicalmente. Como científicos de datos, os ponéis a modificar el modelo, ¡con el fin de ajustarlo a las nuevas condiciones! Comenzáis a pensar en qué nuevas variables o atributos habrá que utilizar para entrenar un nuevo modelo que se ajuste a la situación del momento, y a recoger estos datos. Ahora bien, si empezáis a modificar el código del modelo que teníais para adaptarlo a los nuevos requisitos, los compañeros del departamento de compras y de visualización de datos se quedarán sin una versión funcional del modelo durante todo el tiempo que vosotros estéis actualizandolo. Es más, podría ser que los compañeros de visualización de datos ya hayan empezado a trabajar en la visualización de las explicaciones del modelo original, de manera que prefieran trabajar con la versión anterior de vuestro código, para terminar de crear visualizaciones que expliquen el modelo de antes de la pandemia.\n",
    "\n",
    "Es en casos como este, y también en situaciones mucho más complejas, en las que diferentes personas colaboran en un mismo proyecto de software, y necesitan poder contribuir al proyecto al mismo tiempo y/o trabajar en versiones diferentes del mismo código, manteniendo el historial de cambios de cada uno y permitiendo reconciliar los cambios cuando sea necesario, es cuando los sistemas de control de versiones de *software* toman más sentido.\n",
    "\n",
    "Hay multitud de software de control de versiones, pero en esta unidad nos centraremos en hacer una breve presentación de git, ya que es el que hemos estado utilizando en la asignatura, y también uno de los más populares actualmente.\n",
    "\n",
    "Git es un sistema de control de versiones **distribuido** (en inglés, hablamos de DVCS, por sus siglas en inglés de *distributed version control system*): para un mismo proyecto, pueden existir varias copias distribuidas del repositorio que lo contiene. Normalmente, los diferentes desarrolladores involucrados en un proyecto mantendrán repositorios completos en local del proyecto, lo que les permitirá trabajar de manera autónoma (y sin depender de una conexión constante a Internet).\n",
    "\n",
    "Un **repositorio** es un conjunto de carpetas y ficheros asociados a un proyecto en concreto, para los que se guarda todo el historial de revisiones que se han hecho.\n",
    "\n",
    "El historial de revisiones es un conjunto de instantáneas en el tiempo, que llamamos **_commits_**: cada nuevo *commit* captura el estado del proyecto en un instante de tiempo concreto. Los *commits* tienen un mensaje asociado, que permite a los desarrolladores informar sobre el contenido de aquella instantánea.\n",
    "\n",
    "Git estructura los *commits* utilizando un grafo: cada *commit* es un nodo del grafo, que tiene un puntero al nodo de su *commit* padre. El primer *commit* de un proyecto es el único que no tiene padre. La mayoría de *commits* tendrán un único padre, ya que supondrán una evolución de un estado anterior del código. En cambio, habrá algunos *commits* que tendrán dos padres, y que permitirán reconciliar cambios (hechos normalmente por diferentes personas trabajando sobre el mismo proyecto).\n",
    "\n",
    "## 3.1.- Comandos básicos de git\n",
    "\n",
    "Pues bien, volviendo al *script* `get_content.sh`, lo que hace este *script* es ejecutar un comando de git para obtener una copia del repositorio donde están los notebooks de cada una de las unidades o actividades de la asignatura. El comando de git que nos permite descargar una copia de un repositorio es `clone`. Por ejemplo, podemos descargar el contenido de la primera unidad de la asignatura ejecutando en una consola:\n",
    "\n",
    "```\n",
    "$ git clone https://eimtgit.uoc.edu/prog_datasci_2/resources/unit_0.git\n",
    "```\n",
    "\n",
    "Esto creará una carpeta `unit_0` con una copia del repositorio de la unidad 0, que es exactamente lo que ya deberíais tener en la carpeta `~/prog_datasci_2/resources/unit_0`, y que que descargasteis utilizando el *script* `get_content.sh`.\n",
    "\n",
    "Es interesante notar que con un `clone` no habéis descargado únicamente los archivos de los *notebooks*, sino que habéis creado una copia del repositorio de git, que contiene el historial de versiones de los archivos que lo conforman.\n",
    "\n",
    "El comando `log` permite recuperar los *logs* de los *commits* de un repositorio de git. Si ejecutamos el comando en el repositorio de la unidad 0:\n",
    "\n",
    "```\n",
    "$ cd unit_0\n",
    "$ git log\n",
    "```\n",
    "veremos que los dos primeros *commits* se hicieron en marzo de 2020, coincidiendo con el inicio de la asignatura:\n",
    "\n",
    "```\n",
    "commit 772187caddb56214aed476715cf080b0e4335c6c (HEAD -> master, origin/master, origin/HEAD)\n",
    "Author: Cristina Perez Sola <cperezsola@uoc.edu>\n",
    "Date:   Mon Mar 2 16:58:43 2020 +0100\n",
    "\n",
    "    Pdfs added + README update\n",
    "\n",
    "commit fd7d8fe72dc75680835f42aa8539e2210d231272\n",
    "Author: Cristina Perez Sola <cperezsola@uoc.edu>\n",
    "Date:   Mon Mar 2 16:54:26 2020 +0100\n",
    "\n",
    "    Unit 0 notebooks in cat and es\n",
    "```\n",
    "\n",
    "Por cada *commit*, el comando `log` detalla el hash que lo identifica de manera única, el autor, la fecha y el comentario asociado.\n",
    "\n",
    "El comando `status` muestra el estado actual de la carpeta de trabajo del proyecto y del *stage*. El *stage* es una especie de *buffer* donde se depositan los archivos que se quieren incluir en un *commit*: contiene todos los archivos que están listos para incluirse en el siguiente *commit*. Si ejecutamos `status` en el repositorio de la unidad 0:\n",
    "\n",
    "```\n",
    "$ git status\n",
    "```\n",
    "\n",
    "obtendremos la salida siguiente, que indica que nos encontramos en la rama `master` y que no tenemos archivos pendientes de *commit* (ya que acabamos de clonar el repositorio):\n",
    "\n",
    "```\n",
    "On branch master\n",
    "Your branch is up to date with 'origin/master'.\n",
    "\n",
    "nothing to commit, working tree clean\n",
    "```\n",
    "\n",
    "Ahora, podríamos proceder a contribuir al proyecto de la unidad 0, por ejemplo, modificando el fichero del *notebook* para añadir algún ejemplo adicional o bien añadiendo algún otro archivo al proyecto. Como ejemplo, añadiremos un nuevo archivo en el repositorio, y modificaremos el contenido del archivo `README.md`. Ejecutad las siguientes instrucciones dentro de la carpeta de la unidad 0:\n",
    "\n",
    "```\n",
    "$ echo \"Trying git\" > test.md\n",
    "$ echo \"Modifying readme\" >> README.md\n",
    "```\n",
    "\n",
    "Con estas instrucciones hemos creado un nuevo archivo `test.md`, que contiene la línea de texto `Trying git`; y hemos modificado el contenido del archivo `README.md`, añadiendo una línea al final.\n",
    "\n",
    "Si ahora ejecutamos de nuevo `git status`, veremos como nos informa que hay cambios en ficheros que ya estaban en el repositorio (*Changes not staged for commit*) y también que se ha detectado un archivo nuevo que no está seguido (*Untracked files*).\n",
    "\n",
    "```\n",
    "On branch master\n",
    "Your branch is up to date with 'origin/master'.\n",
    "\n",
    "Changes not staged for commit:\n",
    "  (use \"git add <file>...\" to update what will be committed)\n",
    "  (use \"git checkout -- <file>...\" to discard changes in working directory)\n",
    "\n",
    "\tmodified:   README.md\n",
    "\n",
    "Untracked files:\n",
    "  (use \"git add <file>...\" to include in what will be committed)\n",
    "\n",
    "\ttest.md\n",
    "\n",
    "no changes added to commit (use \"git add\" and/or \"git commit -a\")\n",
    "\n",
    "```\n",
    "\n",
    "Es interesante notar que no hay cambios en el *stage* (el área donde se guardan los archivos a incluir en un *commit*): por el momento, ha habido modificaciones en los ficheros, pero todavía no hemos creado ninguna instantánea que los contenga.\n",
    "\n",
    "Si queremos crear una instantánea, para que el repositorio pase a mantener una copia del estado actual de los archivos en su histórico, tendremos que crear un *commit*. Esta tarea se realiza en dos fases: primero se añaden los archivos a incluir en el *stage*, y luego se crea el *commit*.\n",
    "\n",
    "Para añadir archivos al *stage*, utilizamos el comando `add`:\n",
    "\n",
    "```\n",
    "$ git add test.md README.md\n",
    "```\n",
    "\n",
    "Si ahora visualizamos el estado del repositorio, veremos que git nos informa que hay dos ficheros con cambios pendientes de *commit*: un nuevo archivo (`test.md`) y un archivo modificado (`README.md`).\n",
    "\n",
    "```\n",
    "On branch master\n",
    "Your branch is up to date with 'origin/master'.\n",
    "\n",
    "Changes to be committed:\n",
    "  (use \"git reset HEAD <file>...\" to unstage)\n",
    "\n",
    "\tmodified:   README.md\n",
    "\tnew file:   test.md\n",
    "```\n",
    "\n",
    "Ahora, vamos a crear el *commit* con la instrucción `commit`:\n",
    "\n",
    "```\n",
    "$ git commit -m \"My first commit\"\n",
    "```\n",
    "\n",
    "El *flag* `-m` permite especificar el mensaje asociado a un *commit*. Con este comando, habremos creado una nueva instantánea, que queda guardada en nuestro repositorio, y que contiene el estado actual de los archivos. Si ahora volvemos a ejecutar `git log` para ver el historial de *commits* del repositorio, podremos ver cómo efectivamente, nuestro nuevo *commit* aparece:\n",
    "\n",
    "```\n",
    "commit 4373ee49b9d8fb7f2e3c02e6aff7b2dac5949bdf (HEAD -> master)\n",
    "Author: datasci <cperezsola@uoc.edu>\n",
    "Date:   Thu March 19 16:05:41 2020 +0200\n",
    "\n",
    "    My first commit\n",
    "\n",
    "commit 772187caddb56214aed476715cf080b0e4335c6c (origin/master, origin/HEAD)\n",
    "Author: Cristina Perez Sola <cperezsola@uoc.edu>\n",
    "Date:   Mon Mar 2 16:58:43 2020 +0100\n",
    "\n",
    "    Pdfs added + README update\n",
    "\n",
    "commit fd7d8fe72dc75680835f42aa8539e2210d231272\n",
    "Author: Cristina Perez Sola <cperezsola@uoc.edu>\n",
    "Date:   Mon Mar 2 16:54:26 2020 +0100\n",
    "\n",
    "    Unit 0 notebooks in cat and es\n",
    "```\n",
    "\n",
    "Es importante notar que el *commit* que acabamos de hacer se ha aplicado al repositorio que hay en nuestra máquina virtual (recordemos que git es un sistema de control de versiones distribuido). Si queremos, podríamos enviar este *commit* también al repositorio de origen de donde hemos clonado nuestra copia, para que otros desarrolladores también tengan acceso. Ahora bien, en este caso, como no tenéis permisos para contribuir sobre el repositorio de la asignatura, esta acción no la podéis hacer.\n",
    "\n",
    "Esta sección sólo incluye una muy breve introducción a git. Para acabar de entender los conceptos claves de git, se recomienda consultar estos tres vídeo-tutoriales ([1](https://www.youtube.com/watch?v=8oRjP8yj2Wo), [2](https://www.youtube.com/watch?v=uhtzxPU7Bz0), [3](https://www.youtube.com/watch?v=7w5Z7LmyLgI)) de las guías oficiales, que explican más visualmente las ideas sobre las que se construye git. Por otro lado, si queréis ir más allá de estos conceptos clave, os recomendamos la lectura de la [git pocket guide](https://www.oreilly.com/library/view/git-pocket-guide/9781449327507/ch01.html), y la consulta de la página de [recursos de GitHub](https://try.github.io/), que contiene varios tutoriales interactivos."
   ]
  },
  {
   "cell_type": "markdown",
   "metadata": {},
   "source": [
    "# 4.- Testing y mantenimiento de aplicaciones\n",
    "\n",
    "Las pruebas de software (conocidas en inglés como *software testing*) son los procesos que se desarrollan con el fin de comprobar que el software cumple los resultados requeridos.\n",
    "\n",
    "Así, por ejemplo, hemos visto como una práctica habitual en el preprocesamiento de datos consiste en sustituir los valores perdidos por la media del atributo. ¿Cómo podemos asegurar que el código que hemos implementado para preprocesar nuestros datos está haciendo esta sustitución correctamente?\n",
    "\n",
    "Los tests unitarios (en inglés, los llamamos _**unit tests**_) son pruebas que verifican el funcionamiento de un fragmento de código específico (habitualmente una función o un método de una clase). En esta unidad, veremos cómo programar tests unitarios en Python. Existen otros tipos de tests, por ejemplo, los de integración, que comprueban las interfaces entre varios componentes de *software*; o los de sistema, que validan sistemas completos ya integrados.\n",
    "\n",
    "Existen diferentes librerías que facilitan la creación de tests unitarios en Python. En este *notebook*, presentaremos [`unittest`](https://docs.python.org/3.8/library/unittest.html), un módulo de testing que encontramos incluido en la librería estándar de Python.\n",
    "\n",
    "La unidad básica de pruebas en [`unittest`](https://docs.python.org/3.8/library/unittest.html) es el caso de prueba (o *test case*). Los casos de pruebas se agrupan en *test suites*, que pueden contener tanto casos de prueba como otras *suites*.\n",
    "\n",
    "Cada test *case* contiene una o varias llamadas a la función o fragmento de código a probar, y comprueba que el resultado devuelto sea el que se espera. Para ello, se utilizan sentencias [`assert`](https://docs.python.org/3/reference/simple_stmts.html#the-assert-statement), que son instrucciones que generan una excepción si la condición que codifican no se cumple. Por ejemplo, la siguiente aserción comprueba que 2 más 2 es 4:"
   ]
  },
  {
   "cell_type": "code",
   "execution_count": 11,
   "metadata": {},
   "outputs": [],
   "source": [
    "try:\n",
    "    assert 4 == 2 + 2, \"Error: 2+2 is not 4\"\n",
    "except AssertionError as e:\n",
    "    print(e)"
   ]
  },
  {
   "cell_type": "markdown",
   "metadata": {},
   "source": [
    "Como, efectivamente, la expresión `2 + 2` devuelve 4, no se genera ninguna excepción. Ahora bien, si forzamos a que se genere una excepción, veremos cómo se ejecuta la instrucción `print` que hay en el bloque `except`:"
   ]
  },
  {
   "cell_type": "code",
   "execution_count": 12,
   "metadata": {},
   "outputs": [
    {
     "name": "stdout",
     "output_type": "stream",
     "text": [
      "Error: 3 is not 2+2\n"
     ]
    }
   ],
   "source": [
    "try:\n",
    "    assert 3 == 2 + 2, \"Error: 3 is not 2+2\"\n",
    "except AssertionError as e:\n",
    "    print(e)"
   ]
  },
  {
   "cell_type": "markdown",
   "metadata": {},
   "source": [
    "A continuación veremos un ejemplo de creación de un caso de prueba para la función `is_dotted_qad`. Esta función devuelve un booleano indicando si una cadena de caracteres que recibe como parámetro representa una IPv4, opcionalmente expresada con la máscara en formato [CIDR](https://en.wikipedia.org/wiki/Classless_Inter-Domain_Routing#CIDR_notation).\n"
   ]
  },
  {
   "cell_type": "code",
   "execution_count": 13,
   "metadata": {},
   "outputs": [],
   "source": [
    "def is_dotted_qad(value):\n",
    "    \"\"\"\n",
    "    Checks whether a given value is in dotted quad format or nor:\n",
    "\n",
    "    Dotted quad values are strings of four u1 integer separated\n",
    "        by dotes:\n",
    "\n",
    "    e.g. 127.0.0.1\n",
    "\n",
    "    Args:\n",
    "        value (:obj:`str`): the value to be checked.\n",
    "\n",
    "    Returns:\n",
    "        :obj:`bool`: True if the value is in dotted quad format.\n",
    "            False otherwise.\n",
    "    \"\"\"\n",
    "\n",
    "    if not isinstance(value, str):\n",
    "        return False\n",
    "    else:\n",
    "        digits = value.split('.')\n",
    "        if len(digits) != 4:\n",
    "            return False\n",
    "        else:\n",
    "            if \"/\" in digits[3]:\n",
    "                # Remove the mask from the IP (/value)\n",
    "                digits[3] = digits[3][:digits[3].index('/')]\n",
    "            return all(map(lambda x: x.isdigit(), digits))"
   ]
  },
  {
   "cell_type": "markdown",
   "metadata": {},
   "source": [
    "Para crear el caso de prueba, importaremos el módulo [`unittest`](https://docs.python.org/3.8/library/unittest.html) y crearemos una clase que herede de [`unittest.TestCase`](https://docs.python.org/3.8/library/unittest.html#unittest.TestCase) (fijaos como esto se indica a través de un parámetro en la definición de la clase). A continuación definiremos tantos métodos de la clase como tests queramos hacer sobre la función:"
   ]
  },
  {
   "cell_type": "code",
   "execution_count": 14,
   "metadata": {},
   "outputs": [],
   "source": [
    "import unittest\n",
    "\n",
    "\n",
    "class TestIsDottedQad(unittest.TestCase):\n",
    "\n",
    "    def test_four_items(self):\n",
    "        # Comprobamos que las IPs tienen 4 grupos separados\n",
    "        # por puntos\n",
    "        self.assertTrue(is_dotted_qad(\"192.168.1.1\"))\n",
    "        self.assertFalse(is_dotted_qad(\"192.168.1\"))\n",
    "        self.assertFalse(is_dotted_qad(\"192.168.1.1.5\"))\n",
    "\n",
    "    def test_four_items_with_mask(self):\n",
    "        # Comprobamos que las IPs con máscara tienen 4 grupos separados\n",
    "        # por puntos seguidos de una máscara\n",
    "        self.assertTrue(is_dotted_qad(\"192.168.1.1/20\"))\n",
    "        self.assertFalse(is_dotted_qad(\"192.168.1/16\"))\n",
    "        self.assertFalse(is_dotted_qad(\"192.168.1.1.5/8\"))\n",
    "\n",
    "    def test_four_numbers(self):\n",
    "        # Comprobamos que los grups contienen solo dígitos\n",
    "        self.assertFalse(is_dotted_qad(\"192.168.1.a\"))\n",
    "        self.assertFalse(is_dotted_qad(\"192.168.1.1a1\"))\n",
    "        self.assertFalse(is_dotted_qad(\"192.168.b.1\"))\n",
    "        self.assertFalse(is_dotted_qad(\"192.c.1.1\"))\n",
    "        self.assertFalse(is_dotted_qad(\"d.168.1.1\"))\n",
    "\n",
    "    def test_four_numbers_with_mask(self):\n",
    "        # Comprobamos que los grupos (en IPs con máscara)\n",
    "        # tienen solo dígitos\n",
    "        self.assertFalse(is_dotted_qad(\"192.168.1.a/16\"))\n",
    "        self.assertFalse(is_dotted_qad(\"192.168.1.1a1/16\"))\n",
    "        self.assertFalse(is_dotted_qad(\"192.168.b.1/16\"))\n",
    "        self.assertFalse(is_dotted_qad(\"192.c.1.1/16\"))\n",
    "        self.assertFalse(is_dotted_qad(\"d.168.1.1/16\"))"
   ]
  },
  {
   "cell_type": "markdown",
   "metadata": {},
   "source": [
    "El código de la celda anterior crea cuatro tests: los tests `test_four_items` y `test_four_items_with_mask` comprueban que sólo se acepten cadenas con 4 grupos separados por puntos (para IPs sin y con máscara, respectivamente); y los tests `test_four_numbers` y `test_four_numbers_with_mask` comprueban que cada grupo sólo contenga números (de nuevo, para IPs sin y con máscara, respectivamente).\n",
    "\n",
    "El módulo [`unittest`](https://docs.python.org/3.8/library/unittest.html) dispone de varias sentencias assert que se pueden incluir en los tests. En el caso de prueba anterior, se ha utilizado la sentencia [`assertFalse`](https://docs.python.org/3.8/library/unittest.html#unittest.TestCase.assertFalse), que comprueba que la expresión entre paréntesis evalúe a `False`, y [`assertTrue`](https://docs.python.org/3.8/library/unittest.html#unittest.TestCase.assertTrue), que comprueba que evalúe a `True`. Revisad la [tabla de la documentación oficial](https://docs.python.org/3.8/library/unittest.html#unittest.TestCase.debug) para ver un resumen de todas las sentencias *assert* disponibles en el módulo.\n",
    "\n",
    "Una vez hemos definido un caso de prueba, podemos ejecutarlo siempre que lo creemos conveniente. Suele ser una buena práctica hacerlo antes y después de hacer *refactoring* del código, o bien de implementar una nueva funcionalidad, para asegurar que los cambios no han introducido errores:"
   ]
  },
  {
   "cell_type": "code",
   "execution_count": 15,
   "metadata": {},
   "outputs": [
    {
     "name": "stderr",
     "output_type": "stream",
     "text": [
      "test_four_items (__main__.TestIsDottedQad) ... ok\n",
      "test_four_items_with_mask (__main__.TestIsDottedQad) ... ok\n",
      "test_four_numbers (__main__.TestIsDottedQad) ... ok\n",
      "test_four_numbers_with_mask (__main__.TestIsDottedQad) ... ok\n",
      "\n",
      "----------------------------------------------------------------------\n",
      "Ran 4 tests in 0.019s\n",
      "\n",
      "OK\n"
     ]
    },
    {
     "data": {
      "text/plain": [
       "<unittest.main.TestProgram at 0x7f54d571aef0>"
      ]
     },
     "execution_count": 15,
     "metadata": {},
     "output_type": "execute_result"
    }
   ],
   "source": [
    "unittest.main(argv=['first-arg-is-ignored'], verbosity=2, exit=False)"
   ]
  },
  {
   "cell_type": "markdown",
   "metadata": {},
   "source": [
    "La salida de la ejecución del caso de prueba nos informa de los resultados de los tests (en este caso, todos los tests han sido satisfactorios, es decir, no ha habido ninguna sentencia *assert* que haya generado una excepción), así como del tiempo de ejecución del caso.\n",
    "\n",
    "Ahora, añadiremos un test adicional (`test_digits_in_range`) al caso de pruebas que hemos definido anteriormente, que comprobará que los números que se encuentran en cada grupo estén en el rango válido para una IP (es decir, que estén entre 1 y 255, ambos valores incluidos):"
   ]
  },
  {
   "cell_type": "code",
   "execution_count": 16,
   "metadata": {},
   "outputs": [],
   "source": [
    "class TestIsDottedQad(unittest.TestCase):\n",
    "\n",
    "    def test_four_items(self):\n",
    "        # Comprobamos que las IPs tienen 4 grupos separados\n",
    "        # por puntos\n",
    "        self.assertTrue(is_dotted_qad(\"192.168.1.1\"))\n",
    "        self.assertFalse(is_dotted_qad(\"192.168.1\"))\n",
    "        self.assertFalse(is_dotted_qad(\"192.168.1.1.5\"))\n",
    "\n",
    "    def test_four_items_with_mask(self):\n",
    "        # Comprobamos que las IPs con máscara tienen 4 grupos separados\n",
    "        # por puntos seguidos de una máscara\n",
    "        self.assertTrue(is_dotted_qad(\"192.168.1.1/20\"))\n",
    "        self.assertFalse(is_dotted_qad(\"192.168.1/16\"))\n",
    "        self.assertFalse(is_dotted_qad(\"192.168.1.1.5/8\"))\n",
    "\n",
    "    def test_four_numbers(self):\n",
    "        # Comprobamos que los grups contienen solo dígitos\n",
    "        self.assertFalse(is_dotted_qad(\"192.168.1.a\"))\n",
    "        self.assertFalse(is_dotted_qad(\"192.168.1.1a1\"))\n",
    "        self.assertFalse(is_dotted_qad(\"192.168.b.1\"))\n",
    "        self.assertFalse(is_dotted_qad(\"192.c.1.1\"))\n",
    "        self.assertFalse(is_dotted_qad(\"d.168.1.1\"))\n",
    "\n",
    "    def test_four_numbers_with_mask(self):\n",
    "        # Comprobamos que los grupos (en IPs con máscara)\n",
    "        # tienen solo dígitos\n",
    "        self.assertFalse(is_dotted_qad(\"192.168.1.a/16\"))\n",
    "        self.assertFalse(is_dotted_qad(\"192.168.1.1a1/16\"))\n",
    "        self.assertFalse(is_dotted_qad(\"192.168.b.1/16\"))\n",
    "        self.assertFalse(is_dotted_qad(\"192.c.1.1/16\"))\n",
    "        self.assertFalse(is_dotted_qad(\"d.168.1.1/16\"))\n",
    "\n",
    "    def test_digits_in_range(self):\n",
    "        # Comprobamos que los grupos tienen valores válidos\n",
    "        self.assertTrue(is_dotted_qad(\"192.168.1.1\"))\n",
    "        self.assertFalse(is_dotted_qad(\"192.168.1.256\"))\n",
    "        self.assertFalse(is_dotted_qad(\"192.168.1.-1\"))"
   ]
  },
  {
   "cell_type": "markdown",
   "metadata": {},
   "source": [
    "Y ejecutaremos de nuevo el caso de prueba:\n"
   ]
  },
  {
   "cell_type": "code",
   "execution_count": 17,
   "metadata": {},
   "outputs": [
    {
     "name": "stderr",
     "output_type": "stream",
     "text": [
      "test_digits_in_range (__main__.TestIsDottedQad) ... FAIL\n",
      "test_four_items (__main__.TestIsDottedQad) ... ok\n",
      "test_four_items_with_mask (__main__.TestIsDottedQad) ... ok\n",
      "test_four_numbers (__main__.TestIsDottedQad) ... ok\n",
      "test_four_numbers_with_mask (__main__.TestIsDottedQad) ... ok\n",
      "\n",
      "======================================================================\n",
      "FAIL: test_digits_in_range (__main__.TestIsDottedQad)\n",
      "----------------------------------------------------------------------\n",
      "Traceback (most recent call last):\n",
      "  File \"<ipython-input-16-3d5569a7a976>\", line 37, in test_digits_in_range\n",
      "    self.assertFalse(is_dotted_qad(\"192.168.1.256\"))\n",
      "AssertionError: True is not false\n",
      "\n",
      "----------------------------------------------------------------------\n",
      "Ran 5 tests in 0.017s\n",
      "\n",
      "FAILED (failures=1)\n"
     ]
    },
    {
     "data": {
      "text/plain": [
       "<unittest.main.TestProgram at 0x7f54d56f5240>"
      ]
     },
     "execution_count": 17,
     "metadata": {},
     "output_type": "execute_result"
    }
   ],
   "source": [
    "unittest.main(argv=['first-arg-is-ignored'], verbosity=2, exit=False)"
   ]
  },
  {
   "cell_type": "markdown",
   "metadata": {},
   "source": [
    "Fijaos como el resultado de la prueba nos informa que uno de los tests ha fallado: en concreto, el test `test_digits_in_range` que acabamos de incorporar. El primer *assert* que falla es:\n",
    "\n",
    "```\n",
    "self.assertFalse(is_dotted_qad(\"192.168.1.256\"))\n",
    "```\n",
    "\n",
    "ya que el comportamiento esperado es que la función devuelva `False` en este caso ($256 > 255$), pero el valor de retorno es `True`.\n",
    "\n",
    "Si revisamos el código de la función `is_dotted_qad`, podemos comprobar cómo, efectivamente, en ningún momento se comprueban que los valores entre puntos se encuentren en el intervalo $[1, 255]$. Procedemos pues a implementar la función `is_u1_string`, que comprueba que el valor que recibe como parámetro corresponda a una cadena de caracteres que represente un número entre 1 y 255, y modificamos la función `is_dotted_qad` para realizar esta comprobación para cada grupo de números que conforman una IP:"
   ]
  },
  {
   "cell_type": "code",
   "execution_count": 18,
   "metadata": {},
   "outputs": [],
   "source": [
    "def is_u1_string(value):\n",
    "    \"\"\"\n",
    "    Checks whether a value is a unsigned 1-byte integer or not.\n",
    "\n",
    "    Args:\n",
    "        value (:obj:`str`): the value to be checked.\n",
    "\n",
    "    Returns:\n",
    "        :obj:`bool`: True if the value follows the format. False otherwise.\n",
    "    \"\"\"\n",
    "\n",
    "    if not isinstance(value, str):\n",
    "        return False\n",
    "    else:\n",
    "        if value.isdigit() and 0 <= int(value) <= 255:\n",
    "            return True\n",
    "        else:\n",
    "            return False\n",
    "\n",
    "\n",
    "def is_dotted_qad(value):\n",
    "    \"\"\"\n",
    "    Checks whether a given value is in dotted quad format or nor:\n",
    "\n",
    "    Dotted quad values are strings of four u1 integer separated by dotes:\n",
    "\n",
    "    e.g. 127.0.0.1\n",
    "\n",
    "    Args:\n",
    "        value (:obj:`str`): the value to be checked.\n",
    "\n",
    "    Returns:\n",
    "        :obj:`bool`: True if the value is in dotted quad format.\n",
    "            False otherwise.\n",
    "    \"\"\"\n",
    "\n",
    "    if not isinstance(value, str):\n",
    "        return False\n",
    "    else:\n",
    "        digits = value.split('.')\n",
    "        if len(digits) != 4:\n",
    "            return False\n",
    "        else:\n",
    "            if \"/\" in digits[3]:\n",
    "                # Remove the mask from the IP (/value)\n",
    "                digits[3] = digits[3][:digits[3].index('/')]\n",
    "            return all(map(is_u1_string, digits))"
   ]
  },
  {
   "cell_type": "markdown",
   "metadata": {},
   "source": [
    "Ahora, procedemos a crear un caso de prueba para la nueva función `is_u1_string`, que contendrá dos tests individuales:"
   ]
  },
  {
   "cell_type": "code",
   "execution_count": 19,
   "metadata": {},
   "outputs": [],
   "source": [
    "class TestIsU1String(unittest.TestCase):\n",
    "\n",
    "    def test_numeric(self):\n",
    "        # Comprueba que el valor es una cadena numérica\n",
    "        self.assertTrue(is_u1_string(\"150\"))\n",
    "        self.assertTrue(is_u1_string(\"2\"))\n",
    "        self.assertTrue(is_u1_string(\"95\"))\n",
    "        self.assertFalse(is_u1_string(\"a\"))\n",
    "        self.assertFalse(is_u1_string(\"12python\"))\n",
    "        self.assertFalse(is_u1_string(\"156a\"))\n",
    "\n",
    "    def test_1_byte(self):\n",
    "        # Comprueba que el número se encuentra en el intervalo [1, 255]\n",
    "        self.assertFalse(is_u1_string(\"256\"))\n",
    "        self.assertFalse(is_u1_string(\"789522\"))\n",
    "        self.assertFalse(is_u1_string(\"-5\"))"
   ]
  },
  {
   "cell_type": "markdown",
   "metadata": {},
   "source": [
    "Y procedemos a ejecutar de nuevo todos los casos de prueba:\n"
   ]
  },
  {
   "cell_type": "code",
   "execution_count": 20,
   "metadata": {},
   "outputs": [
    {
     "name": "stderr",
     "output_type": "stream",
     "text": [
      "test_digits_in_range (__main__.TestIsDottedQad) ... ok\n",
      "test_four_items (__main__.TestIsDottedQad) ... ok\n",
      "test_four_items_with_mask (__main__.TestIsDottedQad) ... ok\n",
      "test_four_numbers (__main__.TestIsDottedQad) ... ok\n",
      "test_four_numbers_with_mask (__main__.TestIsDottedQad) ... ok\n",
      "test_1_byte (__main__.TestIsU1String) ... ok\n",
      "test_numeric (__main__.TestIsU1String) ... ok\n",
      "\n",
      "----------------------------------------------------------------------\n",
      "Ran 7 tests in 0.021s\n",
      "\n",
      "OK\n"
     ]
    },
    {
     "data": {
      "text/plain": [
       "<unittest.main.TestProgram at 0x7f54d5697e48>"
      ]
     },
     "execution_count": 20,
     "metadata": {},
     "output_type": "execute_result"
    }
   ],
   "source": [
    "unittest.main(argv=['first-arg-is-ignored'], verbosity=2, exit=False)"
   ]
  },
  {
   "cell_type": "markdown",
   "metadata": {},
   "source": [
    "Efectivamente, parece que los cambios introducidos en la función hacen que su comportamiento se adecue a la funcionalidad que deseábamos.\n",
    "\n",
    "Como hemos comentado anteriormente, los casos de prueba se pueden agrupar en *suites*. Además, podemos controlar la ejecución selectiva de algunos casos de prueba o *suites* usando `TestRunners`. A continuación creamos una *suite* que contiene únicamente los tests de `TestIsU1String`, y lo ejecutamos:"
   ]
  },
  {
   "cell_type": "code",
   "execution_count": 21,
   "metadata": {},
   "outputs": [
    {
     "name": "stderr",
     "output_type": "stream",
     "text": [
      "test_1_byte (__main__.TestIsU1String) ... ok\n",
      "test_numeric (__main__.TestIsU1String) ... ok\n",
      "\n",
      "----------------------------------------------------------------------\n",
      "Ran 2 tests in 0.008s\n",
      "\n",
      "OK\n"
     ]
    },
    {
     "data": {
      "text/plain": [
       "<unittest.runner.TextTestResult run=2 errors=0 failures=0>"
      ]
     },
     "execution_count": 21,
     "metadata": {},
     "output_type": "execute_result"
    }
   ],
   "source": [
    "suite = unittest.TestLoader().loadTestsFromTestCase(TestIsU1String)\n",
    "unittest.TextTestRunner(verbosity=2).run(suite)"
   ]
  },
  {
   "cell_type": "markdown",
   "metadata": {},
   "source": [
    "De manera análoga, podemos crear una *suite* que contenga tanto los tests `TestIsU1String` como los tests `TestIsDottedQad` que hemos definido inicialmente:"
   ]
  },
  {
   "cell_type": "code",
   "execution_count": 22,
   "metadata": {},
   "outputs": [
    {
     "name": "stderr",
     "output_type": "stream",
     "text": [
      "test_digits_in_range (__main__.TestIsDottedQad) ... ok\n",
      "test_four_items (__main__.TestIsDottedQad) ... ok\n",
      "test_four_items_with_mask (__main__.TestIsDottedQad) ... ok\n",
      "test_four_numbers (__main__.TestIsDottedQad) ... ok\n",
      "test_four_numbers_with_mask (__main__.TestIsDottedQad) ... ok\n",
      "test_1_byte (__main__.TestIsU1String) ... ok\n",
      "test_numeric (__main__.TestIsU1String) ... ok\n",
      "\n",
      "----------------------------------------------------------------------\n",
      "Ran 7 tests in 0.023s\n",
      "\n",
      "OK\n"
     ]
    },
    {
     "data": {
      "text/plain": [
       "<unittest.runner.TextTestResult run=7 errors=0 failures=0>"
      ]
     },
     "execution_count": 22,
     "metadata": {},
     "output_type": "execute_result"
    }
   ],
   "source": [
    "suite_ip = unittest.TestSuite()\n",
    "suite_ip.addTest(unittest.makeSuite(TestIsDottedQad))\n",
    "suite_ip.addTest(unittest.makeSuite(TestIsU1String))\n",
    "unittest.TextTestRunner(verbosity=2).run(suite_ip)"
   ]
  },
  {
   "cell_type": "markdown",
   "metadata": {},
   "source": [
    "Las unidades de test deben ser independientes: deben poderse ejecutar solas, y el orden en que se ejecuten no debe alterar su resultado. Por lo tanto, a menudo será necesario hacer una serie de tareas antes y después de ejecutar cada test, las primeras para preparar el programa para poder hacer los tests y las últimas para liberar recursos.\n",
    "\n",
    "Supongamos, a modo de ejemplo, que estamos realizando un análisis sobre un conjunto de datos sobre la afectación de una pandemia, y hemos programado las siguientes funciones:"
   ]
  },
  {
   "cell_type": "code",
   "execution_count": 51,
   "metadata": {},
   "outputs": [],
   "source": [
    "import pandas as pd\n",
    "\n",
    "\n",
    "def get_unique_values(df, col):\n",
    "    \"\"\"\n",
    "    Return the number of unique values in the column `col`\n",
    "        for the dataframe `df`.\n",
    "    \"\"\"\n",
    "    return len(df[col].unique())\n",
    "\n",
    "\n",
    "def get_max_cases(df):\n",
    "    \"\"\"\n",
    "    Return the country with the maximum number of cases\n",
    "        detected overall period.\n",
    "    \"\"\"\n",
    "    sum_of_cases = df.groupby(\"countriesAndTerritories\").sum()[\"cases\"]\n",
    "    m = sum_of_cases.max()\n",
    "    c = sum_of_cases[sum_of_cases == m].index[0]\n",
    "    return c, m\n",
    "\n",
    "\n",
    "def get_max_deaths(df):\n",
    "    \"\"\"\n",
    "    Return the country with the maximum number of cases\n",
    "        detected overall period.\n",
    "    \"\"\"\n",
    "    sum_of_deaths = df.groupby(\"countriesAndTerritories\").sum()[\"deaths\"]\n",
    "    m = sum_of_deaths.max()\n",
    "    c = sum_of_deaths[sum_of_deaths == m].index[0]\n",
    "    return c, m"
   ]
  },
  {
   "cell_type": "markdown",
   "metadata": {},
   "source": [
    "Para asegurar que las funciones devuelven lo que se espera, así como para tener un juego de pruebas a ejecutar cada vez que se realicen cambios en la aplicación de análisis, hemos generado el siguiente caso de pruebas, que valida el comportamiento de las funciones para un *dataset* concreto:\n"
   ]
  },
  {
   "cell_type": "code",
   "execution_count": 24,
   "metadata": {},
   "outputs": [],
   "source": [
    "class TestDataExpl(unittest.TestCase):\n",
    "\n",
    "    def test_unique_counts(self):\n",
    "\n",
    "        df = pd.read_csv(\"data/COVID-19.csv\")\n",
    "        self.assertEqual(get_unique_values(df, \"year\"), 2)\n",
    "        self.assertEqual(get_unique_values(df, \"countriesAndTerritories\"), 209)\n",
    "        self.assertEqual(get_unique_values(df, \"geoId\"), 209)\n",
    "        self.assertEqual(get_unique_values(df, \"continentExp\"), 6)\n",
    "\n",
    "    def test_max_cases(self):\n",
    "\n",
    "        df = pd.read_csv(\"data/COVID-19.csv\")\n",
    "        c, m = get_max_cases(df)\n",
    "        self.assertEqual(c, 'United_States_of_America')\n",
    "        self.assertEqual(m, 1158041)\n",
    "\n",
    "    def test_max_deaths(self):\n",
    "\n",
    "        df = pd.read_csv(\"data/COVID-19.csv\")\n",
    "        c, m = get_max_deaths(df)\n",
    "        self.assertEqual(c, 'United_States_of_America')\n",
    "        self.assertEqual(m, 67682)"
   ]
  },
  {
   "cell_type": "code",
   "execution_count": 25,
   "metadata": {},
   "outputs": [
    {
     "name": "stderr",
     "output_type": "stream",
     "text": [
      "test_max_cases (__main__.TestDataExpl) ... ok\n",
      "test_max_deaths (__main__.TestDataExpl) ... ok\n",
      "test_unique_counts (__main__.TestDataExpl) ... ok\n",
      "\n",
      "----------------------------------------------------------------------\n",
      "Ran 3 tests in 0.139s\n",
      "\n",
      "OK\n"
     ]
    },
    {
     "data": {
      "text/plain": [
       "<unittest.runner.TextTestResult run=3 errors=0 failures=0>"
      ]
     },
     "execution_count": 25,
     "metadata": {},
     "output_type": "execute_result"
    }
   ],
   "source": [
    "suite = unittest.TestLoader().loadTestsFromTestCase(TestDataExpl)\n",
    "unittest.TextTestRunner(verbosity=2).run(suite)"
   ]
  },
  {
   "cell_type": "markdown",
   "metadata": {},
   "source": [
    "La ejecución del caso de pruebas confirma que las funciones devuelven los valores esperados. Ahora bien, observando qué hace cada uno de los tests, podemos ver cómo todos ellos necesitan cargar el *dataset* antes de hacer ninguna llamada a las funciones a testear. Esto tiene dos problemas evidentes.\n",
    "\n",
    "Por un lado, estamos repitiendo código, lo que no es muy crítico en el ejemplo ya que la carga de datos es una sola línea, pero en situaciones más complejas este código necesario para preparar la ejecución de los tests puede ser mucho más largo, dificultando su mantenimiento.\n",
    "\n",
    "Para evitar esta repetición de código, la clase [`TestCase`](https://docs.python.org/3.8/library/unittest.html#unittest.TestCase) dispone de un método especial ([`setUp`](https://docs.python.org/3.8/library/unittest.html#unittest.TestCase.setUp)), que se ejecuta antes de ejecutar cada uno de los tests individuales. Moviendo el código de carga de datos a este método, evitaremos la repetición innecesaria de código, al tiempo que mejoraremos la legibilidad de los tests (ya que ahora definimos explícitamente la acción de preparar cada uno de los tests):"
   ]
  },
  {
   "cell_type": "code",
   "execution_count": 26,
   "metadata": {},
   "outputs": [],
   "source": [
    "class TestDataExpl(unittest.TestCase):\n",
    "\n",
    "    def setUp(self):\n",
    "        print(\"Loading dataset\")\n",
    "        self.df = pd.read_csv(\"data/COVID-19.csv\")\n",
    "\n",
    "    def test_unique_counts(self):\n",
    "        print(\"Starting test_unique_counts\")\n",
    "        self.assertEqual(get_unique_values(self.df, \"year\"), 2)\n",
    "        self.assertEqual(get_unique_values(\n",
    "            self.df, \"countriesAndTerritories\"), 209)\n",
    "        self.assertEqual(get_unique_values(self.df, \"geoId\"), 209)\n",
    "        self.assertEqual(get_unique_values(self.df, \"continentExp\"), 6)\n",
    "\n",
    "    def test_max_cases(self):\n",
    "        print(\"Starting test_max_cases\")\n",
    "        c, m = get_max_cases(self.df)\n",
    "        self.assertEqual(c, 'United_States_of_America')\n",
    "        self.assertEqual(m, 1158041)\n",
    "\n",
    "    def test_max_deaths(self):\n",
    "        print(\"Starting test_max_deaths\")\n",
    "        c, m = get_max_deaths(self.df)\n",
    "        self.assertEqual(c, 'United_States_of_America')\n",
    "        self.assertEqual(m, 67682)"
   ]
  },
  {
   "cell_type": "code",
   "execution_count": 27,
   "metadata": {},
   "outputs": [
    {
     "name": "stderr",
     "output_type": "stream",
     "text": [
      "test_max_cases (__main__.TestDataExpl) ... ok\n",
      "test_max_deaths (__main__.TestDataExpl) ... ok\n",
      "test_unique_counts (__main__.TestDataExpl) ... "
     ]
    },
    {
     "name": "stdout",
     "output_type": "stream",
     "text": [
      "Loading dataset\n",
      "Starting test_max_cases\n",
      "Loading dataset\n",
      "Starting test_max_deaths\n",
      "Loading dataset\n",
      "Starting test_unique_counts\n"
     ]
    },
    {
     "name": "stderr",
     "output_type": "stream",
     "text": [
      "ok\n",
      "\n",
      "----------------------------------------------------------------------\n",
      "Ran 3 tests in 0.188s\n",
      "\n",
      "OK\n"
     ]
    },
    {
     "data": {
      "text/plain": [
       "<unittest.runner.TextTestResult run=3 errors=0 failures=0>"
      ]
     },
     "execution_count": 27,
     "metadata": {},
     "output_type": "execute_result"
    }
   ],
   "source": [
    "suite = unittest.TestLoader().loadTestsFromTestCase(TestDataExpl)\n",
    "unittest.TextTestRunner(verbosity=2).run(suite)"
   ]
  },
  {
   "cell_type": "markdown",
   "metadata": {},
   "source": [
    "Nótese cómo, efectivamente, el código del método [`setUp`](https://docs.python.org/3.8/library/unittest.html#unittest.TestCase.setUp) se ejecuta antes de cada test individual.\n",
    "\n",
    "Así, hemos evitado tener fragmentos de código repetidos innecesariamente en el código, pero los tests todavía tienen un segundo problema: estamos ejecutando el código de la carga de datos para cada uno de los tests, lo que es del todo innecesario, ya que los datos que se cargan son exactamente los mismos, y en ningún momento se están modificando. Esto hace que los tests sean lentos de ejecutar, ¡algo nada deseable si queremos ejecutarlos a menudo!\n",
    "\n",
    "Si analizamos el tiempo de carga del *dataset* y el tiempo de ejecución de los tests, veremos como la mayor parte del tiempo dedicado a la ejecución de los tests se dedica a la carga de datos:"
   ]
  },
  {
   "cell_type": "code",
   "execution_count": 28,
   "metadata": {},
   "outputs": [
    {
     "name": "stdout",
     "output_type": "stream",
     "text": [
      "CPU times: user 6.23 ms, sys: 13.6 ms, total: 19.8 ms\n",
      "Wall time: 44 ms\n"
     ]
    }
   ],
   "source": [
    "%time df = pd.read_csv(\"data/COVID-19.csv\")"
   ]
  },
  {
   "cell_type": "code",
   "execution_count": 29,
   "metadata": {},
   "outputs": [
    {
     "name": "stderr",
     "output_type": "stream",
     "text": [
      "test_max_cases (__main__.TestDataExpl) ... ok\n",
      "test_max_deaths (__main__.TestDataExpl) ... ok\n",
      "test_unique_counts (__main__.TestDataExpl) ... ok\n",
      "\n",
      "----------------------------------------------------------------------\n",
      "Ran 3 tests in 0.192s\n",
      "\n",
      "OK\n"
     ]
    },
    {
     "data": {
      "text/plain": [
       "<unittest.runner.TextTestResult run=3 errors=0 failures=0>"
      ]
     },
     "execution_count": 29,
     "metadata": {},
     "output_type": "execute_result"
    }
   ],
   "source": [
    "suite = unittest.TestLoader().loadTestsFromTestCase(TestDataExpl)\n",
    "%time unittest.TextTestRunner(verbosity=2).run(suite)"
   ]
  },
  {
   "cell_type": "markdown",
   "metadata": {},
   "source": [
    "Nótese como la carga del *dataset*, que se realiza tres veces, supone hasta el $70\\%$ del tiempo de ejecución de los tests.\n",
    "\n",
    "Con el fin de ejecutar un conjunto de instrucciones una única vez antes de ejecutar los tests, podemos utilizar el método [`setUpClass`](https://docs.python.org/3.8/library/unittest.html#unittest.TestCase.setUpClass) de la clase [`TestCase`](https://docs.python.org/3.8/library/unittest.html#unittest.TestCase):"
   ]
  },
  {
   "cell_type": "code",
   "execution_count": 30,
   "metadata": {},
   "outputs": [],
   "source": [
    "class TestDataExpl(unittest.TestCase):\n",
    "\n",
    "    @classmethod\n",
    "    def setUpClass(cls):\n",
    "        print(\"Loading dataset\")\n",
    "        cls._df = pd.read_csv(\"data/COVID-19.csv\")\n",
    "\n",
    "    def test_unique_counts(self):\n",
    "        print(\"Starting test_unique_counts\")\n",
    "        self.assertEqual(get_unique_values(self._df, \"year\"), 2)\n",
    "        self.assertEqual(get_unique_values(\n",
    "            self._df, \"countriesAndTerritories\"), 209)\n",
    "        self.assertEqual(get_unique_values(self._df, \"geoId\"), 209)\n",
    "        self.assertEqual(get_unique_values(self._df, \"continentExp\"), 6)\n",
    "\n",
    "    def test_max_cases(self):\n",
    "        print(\"Starting test_max_cases\")\n",
    "        c, m = get_max_cases(self._df)\n",
    "        self.assertEqual(c, 'United_States_of_America')\n",
    "        self.assertEqual(m, 1158041)\n",
    "\n",
    "    def test_max_deaths(self):\n",
    "        print(\"Starting test_max_deaths\")\n",
    "        c, m = get_max_deaths(self._df)\n",
    "        self.assertEqual(c, 'United_States_of_America')\n",
    "        self.assertEqual(m, 67682)"
   ]
  },
  {
   "cell_type": "code",
   "execution_count": 31,
   "metadata": {},
   "outputs": [
    {
     "name": "stderr",
     "output_type": "stream",
     "text": [
      "test_max_cases (__main__.TestDataExpl) ... ok\n",
      "test_max_deaths (__main__.TestDataExpl) ... ok\n",
      "test_unique_counts (__main__.TestDataExpl) ... ok\n",
      "\n",
      "----------------------------------------------------------------------\n",
      "Ran 3 tests in 0.097s\n",
      "\n",
      "OK\n"
     ]
    },
    {
     "data": {
      "text/plain": [
       "<unittest.runner.TextTestResult run=3 errors=0 failures=0>"
      ]
     },
     "execution_count": 31,
     "metadata": {},
     "output_type": "execute_result"
    }
   ],
   "source": [
    "suite = unittest.TestLoader().loadTestsFromTestCase(TestDataExpl)\n",
    "%time unittest.TextTestRunner(verbosity=2).run(suite)"
   ]
  },
  {
   "cell_type": "markdown",
   "metadata": {},
   "source": [
    "Tened en cuenta que ahora la carga de datos se ha ejecutado una única vez, antes de ejecutar todos los tests.\n",
    "\n",
    "Es importante saber identificar correctamente cuando hay que usar [`setUp`](https://docs.python.org/3.8/library/unittest.html#unittest.TestCase.setUp) y cuando es preferible utilizar [`setUpClass`](https://docs.python.org/3.8/library/unittest.html#unittest.TestCase.setUpClass). Hay que recordar que los tests deben ser independientes, y no podemos suponer que se ejecutan en un orden concreto.\n",
    "\n",
    "Por último, al igual que disponemos de los métodos [`setUp`](https://docs.python.org/3.8/library/unittest.html#unittest.TestCase.setUp) y [`setUpClass`](https://docs.python.org/3.8/library/unittest.html#unittest.TestCase.setUpClass), también disponemos de los métodos [`tearDown`](https://docs.python.org/3.8/library/unittest.html#unittest.TestCase.tearDown) y [`tearDownClass`](https://docs.python.org/3.8/library/unittest.html#unittest.TestCase.tearDownClass), que se ejecutan después de cada test individual o después de ejecutar todos los tests, respectivamente."
   ]
  },
  {
   "cell_type": "markdown",
   "metadata": {},
   "source": [
    "# 5.- Estructura de un proyecto Python\n",
    "\n",
    "Ya [hemos visto](#2.3.--Organización-de-código) como estructurar el código de un proyecto en módulos y paquetes. Los proyectos, sin embargo, suelen tener otros archivos más allá de los archivos de código, como por ejemplo el archivo de requerimientos que informa de las librerías necesarias para ejecutar el código, la documentación, las instrucciones para la instalación, etc. En esta sección, haremos una breve descripción de la estructura habitual de un proyecto Python: la estructura específica de un proyecto dependerá del tipo de proyecto y de las decisiones del desarrollador, pero comentaremos algunas buenas prácticas muy extendidas en la comunidad.\n",
    "\n",
    "En general, dado un nombre de un proyecto o paquete, tendremos una carpeta que llevará el nombre del proyecto y donde habrá todos los archivos que este contiene. Dentro de esta carpeta, en el primer nivel, encontraremos un conjunto de archivos o carpetas. A continuación, describiremos su contenido, utilizando la nomenclatura más habitual para estos:\n",
    "\n",
    "* `README`: un fichero, normalmente con extensión `.md` (*markdown*) o `.txt` (texto plano), que contiene la presentación del proyecto. A menudo también contiene referencias a otros archivos que informan sobre los primeros pasos a hacer si uno quiere ejecutar el proyecto o contribuir.\n",
    "\n",
    "* `INSTALL`: un fichero, normalmente con extensión` .md` (*markdown*) o `.rst` ([reStructuredText](https://en.wikipedia.org/wiki/ReStructuredText)), que detalla cómo instalar instalar el proyecto.\n",
    "\n",
    "* `CONTRIBUTING`: un fichero, normalmente con extensión` .md` (*markdown*) o `.rst` ([reStructuredText](https://en.wikipedia.org/wiki/ReStructuredText)), que detalla cómo contribuir al proyecto. Habitualmente se detalla cómo incluir una contribución al proyecto, el proceso de revisión de las contribuciones, la guía de estilo a seguir en el código del proyecto, como crear tests, o donde reportar los errores detectados en el código.\n",
    "\n",
    "* `LICENSE.txt`: un archivo de texto plano que contiene la licencia bajo la cual se distribuye el proyecto.\n",
    "\n",
    "* Archivo `requirements.txt` o carpeta `requirements`: archivo que contiene un listado de dependencias del proyecto (ver el apartado dedicado al [archivo de requerimientos](#2.4.1.--Fichero-de-requerimientos)).\n",
    "\n",
    "* `doc`: una carpeta con la documentación del proyecto. A menudo, en esta carpeta contiene también un archivo `README` que describe cómo generar documentación para el proyecto (por ejemplo, si se hace de manera automatizada).\n",
    "\n",
    "* `examples`: una carpeta con ejemplos de uso del paquete.\n",
    "\n",
    "* `test`: una carpeta que contiene los tests implementados para el código del proyecto. A veces esta carpeta no se encuentra en la raíz del proyecto, sino que se pone como subcarpeta de la carpeta que contiene el código fuente.\n",
    "\n",
    "* `setup.py`: un fichero Python que contiene el *script* a utilizar por `setuptools`, para empaquetar y distribuir un paquete de Python. Si estáis interesados en el proceso de preparar un paquete Python para su distribución, os recomendamos la lectura de la [documentación oficial](https://setuptools.readthedocs.io/en/latest/setuptools.html).\n",
    "\n",
    "* Una carpeta con el mismo nombre que el proyecto, es decir, con el nombre del directorio superior, que contiene los archivos de código del proyecto. Esta carpeta puede contener un paquete, como el que hemos descrito [anteriormente](# 2.3 .-- Organizaci% C3% B3-de-código). En proyectos pequeños, a veces esta carpeta no se incluye, y los ficheros de código se guardan en el directorio principal.\n"
   ]
  },
  {
   "cell_type": "markdown",
   "metadata": {},
   "source": [
    "# 6.- Entornos de desarrollo integrado\n",
    "\n",
    "Aunque podemos escribir código Python en archivos de texto usando cualquier editor de texto sencillo, existen herramientas especializadas para programar que nos permiten tanto escribir código como ejecutarlo, depurarlo, controlar las dependencias, etc. Un **entorno de desarrollo**, también conocido por sus siglas del inglés **_IDE_** (de *Integrated development environment*) es una aplicación destinada al desarrollo de software.\n",
    "\n",
    "## 6.1.- Funcionalidades de un IDE\n",
    "\n",
    "En esta sección se describen algunas de las funcionalidades más habituales de las que proveen los IDEs.\n",
    "\n",
    "En cuanto a la edición de código, y más allá de ofrecer una interfaz donde el programador puede escribir el código, los IDEs suelen ofrecer las funciones de:\n",
    "* Resaltar la sintaxis, diferenciando las palabras clave del lenguaje (con colores o estilos diferentes) o incluso indicando errores de sintaxis o de estilo.\n",
    "* Autocompletar las instrucciones conforme el programador las va escribiendo (teniendo en cuenta el contexto).\n",
    "* *Refactoring* automático, permitiendo, por ejemplo, cambiar todas las menciones a una variable o clase de golpe.\n",
    "* Navegación por el código mejorada, permitiendo al programador saltar fácilmente de la definición al uso (y al revés) de clases y funciones.\n",
    "* Formato automático de código, que en el caso de Python, incluye la indentación automática del código.\n",
    "* Creación de comentarios (por ejemplo, docstring) de forma semi-automática, generando una plantilla con la información que se puede extraer del código, y que el programador acaba de completar.\n",
    "* Visualización de la documentación integrada en el editor, lo que permite consultar la documentación de cualquier función, clase o módulo justo en el momento en que sea necesario mientras se programa.\n",
    "\n",
    "\n",
    "En relación a la ejecución de código, los IDEs suelen ofrecer:\n",
    "* Funciones de *profiling* avanzadas, que van mucho más allá del cálculo del tiempo de ejecución por instrucción o celda que hemos visto en la asignatura. Por ejemplo, pueden ofrecer estadísticas detalladas de la ejecución o una visualización del grafo de llamadas.\n",
    "* Funcionalidades de depuración de código avanzadas: la mayoría de IDEs permiten ir ejecutando el código paso a paso, o bien ejecutarlo hasta llegar a una instrucción concreta, pudiendo observar en cada momento el estado del programa (por ejemplo, el valor de todas las variables definidas).\n",
    "* Integración con las librerías de *testing*.\n",
    "\n",
    "Algunos IDEs también disponen de otras funcionalidades que complementan el trabajo del programador:\n",
    "* Integración con herramientas científicas, como los notebooks de jupyter, así como visualización de gráficas (por ejemplo, generadas con `matplotlib`) e integración de las funcionalidades descritas anteriormente con los tipos de datos definidos por` numpy` y `pandas`.\n",
    "* Integración con bases de datos, permitiendo acceder desde el propio IDE para visualizar los datos y ejecutar consultas sobre ellos.\n",
    "* Integración con las herramientas de control de versiones como git."
   ]
  },
  {
   "cell_type": "markdown",
   "metadata": {},
   "source": [
    "## 6.2.- Creación de proyectos de Python con PyCharm\n",
    "\n",
    "Para tener un primer contacto con un IDE de programación en Python, a continuación describiremos cómo crear un proyecto con el IDE PyCharm, uno de los más populares para programar en este lenguaje, creando un pequeño proyecto que implemente las funciones básicas de análisis de datos que hemos utilizado para presentar [`unittest`](https://docs.python.org/3.8/library/unittest.html).\n",
    "\n",
    "En primer lugar, procederemos a instalar PyCharm, siguiendo las [instrucciones oficiales](https://www.jetbrains.com/help/pycharm/installation-guide.html#standalone):\n",
    "\n",
    "```\n",
    "$ sudo snap install pycharm-community --classic\n",
    "```\n",
    "\n",
    "Recordad que la contraseña del usuario `datasci` es también `datasci`.\n",
    "\n",
    "Una vez instalado, ejecutaremos PyCharm:\n",
    "\n",
    "```\n",
    "$ pycharm-community\n",
    "```"
   ]
  },
  {
   "cell_type": "markdown",
   "metadata": {},
   "source": [
    "A continuación indicaremos que no queremos importar la configuración anterior, y nos aparecerá la pantalla de inicio, donde seleccionaremos que queremos crear un nuevo proyecto:\n",
    "\n",
    "<div style=\"width: 100%; clear: both; text-align:center; margin-top: 10px; margin-bottom: 10px;\">\n",
    "   <img src=\"img/1.png\" style=\"margin-left:auto; margin-right:auto; width: 50%;\">\n",
    "</div>\n",
    "\n",
    "Después, indicaremos el nombre del proyecto (en este caso, lo hemos llamado `covid`), dejando los valores por defecto en cuanto a la creación del entorno virtual: esta configuración creará automáticamente un entorno virtual para el nuestro proyecto, llamado `venv` y situado dentro de la carpeta del proyecto.\n",
    "\n",
    "<div style=\"width: 100%; clear: both; text-align:center; margin-top: 10px; margin-bottom: 10px;\">\n",
    "   <img src=\"img/2.png\" style=\"margin-left:auto; margin-right:auto; width: 50%;\">\n",
    "</div>"
   ]
  },
  {
   "cell_type": "markdown",
   "metadata": {},
   "source": [
    "Podemos comprobar cómo, efectivamente, se ha creado una carpeta `venv` dentro de la carpeta del proyecto, y esta contiene los archivos de un entorno virtual:\n",
    "\n",
    "```\n",
    "$ cd ~/PycharmProjects/covid/venv/\n",
    "$ l\n",
    "bin/  include/  lib/  lib64@  pyvenv.cfg\n",
    "```\n",
    "Podemos comprobar también cómo podemos activar el entorno virtual, y ver que por el momento no hay librerías instaladas:\n",
    "\n",
    "```\n",
    "$ source bin/activate\n",
    "(venv) $ pip freeze\n",
    "\n",
    "```"
   ]
  },
  {
   "cell_type": "markdown",
   "metadata": {},
   "source": [
    "Seguidamente procederemos a crear la estructura de carpetas para el proyecto. En este caso, como el proyecto es muy reducido, evitaremos generar una estructura compleja, y crearemos sólo dos carpetas: `data`, donde guardaremos el fichero de datos; y `test`, donde incluiremos los tests de las funciones implementadas. Estas dos carpetas quedarán pues al mismo nivel que la carpeta `venv`, creada automáticamente por el IDE en el momento de la creación del proyecto.\n",
    "\n",
    "Para crear carpetas dentro del proyecto, hacemos clic derecho sobre la carpeta `covid` (en la ventana` project`), y luego `new > Directory`.\n",
    "\n",
    "<div style=\"width: 100%; clear: both; text-align:center; margin-top: 10px; margin-bottom: 10px;\">\n",
    "   <img src=\"img/3.png\" style=\"margin-left:auto; margin-right:auto; width: 100%;\">\n",
    "</div>\n",
    "\n",
    "Seguiremos un procedimiento similar (`new > Python File`) para crear los archivos de código Python que queramos incorporar al proyecto (` basic_analysis.py`, `utils.py` y `test.py`). Análogamente, crearemos el fichero de requerimientos (`requirements.txt`) con el menú `new > File`:\n",
    "\n",
    "<div style=\"width: 100%; clear: both; text-align:center; margin-top: 10px; margin-bottom: 10px;\">\n",
    "   <img src=\"img/9.png\" style=\"margin-left:auto; margin-right:auto; width: 25%;\">\n",
    "</div>"
   ]
  },
  {
   "cell_type": "markdown",
   "metadata": {},
   "source": [
    "Una vez creada la estructura básica del proyecto, ¡ya podemos empezar a programar!\n",
    "\n",
    "En cuanto a la distribución del código en los diferentes archivos que acabamos de crear, incluiremos la definción de las funciones de análisis (`get_unique_values`, `get_max_cases` y `get_max_deaths`) en `utils.py`, y programaremos la lógica principal de nuestro programa en `basic_analysis.py`. En este caso, el programa principal simplemente llamará a las funciones de análisis para el *dataset* de Covid-19, y mostrará los resultados por pantalla.\n",
    "\n",
    "Cuando empezamos a escribir el código de `basic_analysis.py`, enseguida podremos apreciar algunas de las funcionalidades del editor de código del IDE que comentábamos en el apartado anterior. En la siguiente imagen, se ve como al empezar a escribir el nombre de las funciones a importar, el IDE nos sugiere los tres posibles nombres que podemos querer importar:\n",
    "\n",
    "<div style=\"width: 100%; clear: both; text-align:center; margin-top: 10px; margin-bottom: 10px;\">\n",
    "   <img src=\"img/4.png\" style=\"margin-left:auto; margin-right:auto; width: 75%;\">\n",
    "</div>\n",
    "\n",
    "Si observamos la primera línea de código de la imagen anterior, podemos ver como aparece una línea roja debajo de la palabra `pandas`, lo que nos indica que hay algún problema con la importación. Situando el cursor sobre la palabra `pandas`, PyCharm nos informa que el módulo `pandas` no está instalado, y nos ofrece la opción de hacerlo:\n",
    "\n",
    "<div style=\"width: 100%; clear: both; text-align:center; margin-top: 10px; margin-bottom: 10px;\">\n",
    "   <img src=\"img/6.png\" style=\"margin-left:auto; margin-right:auto; width: 75%;\">\n",
    "</div>"
   ]
  },
  {
   "cell_type": "markdown",
   "metadata": {},
   "source": [
    "Una vez instalado el módulo, la línea roja pasa a ser amarilla, lo que indica que todavía hay alguna alerta (aunque de menor importancia). De nuevo, si ponemos el cursor sobre la palabra `pandas`, se nos informará de que el proyecto está utilizando la librería` pandas`, pero que ¡esta no aparece en el fichero `requirements.txt`! Haciendo clic en *Add Imported packages to requirements*, el IDE añadirá automáticamente la librería en el archivo. Esta funcionalidad del IDE facilita la creación y actualización de archivos de requerimientos.\n",
    "\n",
    "Ahora, si visualizamos el fichero `requirements.txt`, veremos que ya tiene incorporada la librería` pandas`:\n",
    "\n",
    "<div style=\"width: 100%; clear: both; text-align:center; margin-top: 10px; margin-bottom: 10px;\">\n",
    "   <img src=\"img/10.png\" style=\"margin-left:auto; margin-right:auto; width: 75%;\">\n",
    "</div>\n",
    "\n",
    "Por otra parte, si volvemos a ejecutar `pip freeze` dentro del entorno virtual, veremos cómo se ha instalado` pandas`, así como sus dependencias:\n",
    "\n",
    "```\n",
    "(venv) $ pip freeze\n",
    "numpy==1.18.4\n",
    "pandas==1.0.3\n",
    "python-dateutil==2.8.1\n",
    "pytz==2020.1\n",
    "six==1.15.0\n",
    "```"
   ]
  },
  {
   "cell_type": "markdown",
   "metadata": {},
   "source": [
    "Procederemos a terminar de incluir el código en los ficheros `utils.py` y `basic_analysis.py`. Si no lo hemos hecho ya, copiaremos en `utils.py` la definción de las funciones de análisis (`get_unique_values`, `get_max_cases` y `get_max_deaths`); y en `basic_analysis.py` programaremos algunas llamadas a estas funciones y mostraremos los resultados por pantalla. Así, el archivo `basic_analysis.py` contendrá el código siguiente:\n",
    "\n",
    "```\n",
    "import pandas as pd\n",
    "from utils import get_unique_values, get_max_cases, get_max_deaths\n",
    "\n",
    "if __name__ == \"__main__\":\n",
    "\n",
    "    # Load dataset\n",
    "    df = pd.read_csv(\"data/COVID-19.csv\")\n",
    "\n",
    "    # Print number of unique values for some columns\n",
    "    print(\"Year:\\t\\t\\t{}\".format(get_unique_values(df, \"year\")))\n",
    "    print(\"Countries:\\t\\t{}\".format(get_unique_values(df, \"countriesAndTerritories\")))\n",
    "    print(\"GeoId:\\t\\t\\t{}\".format(get_unique_values(df, \"geoId\")))\n",
    "    print(\"Continents:\\t\\t{}\".format(get_unique_values(df, \"continentExp\")))\n",
    "\n",
    "    # Print max cases and deaths per country\n",
    "    c, m = get_max_cases(df)\n",
    "    print(\"Max. cases:\\t\\t{} ({})\".format(m, c))\n",
    "    c, m = get_max_deaths(df)\n",
    "    print(\"Max. deaths:\\t{} ({})\".format(m, c))\n",
    "```"
   ]
  },
  {
   "cell_type": "markdown",
   "metadata": {},
   "source": [
    "Finalmente, ¡ya podemos ejecutar el programa! Para ello, haremos clic derecho sobre el fichero `basic_analysis.py` y seleccionaremos `Run 'basic_analysis'`. En la parte inferior de la ventana del IDE veremos la salida de nuestro programa:\n",
    "\n",
    "<div style=\"width: 100%; clear: both; text-align:center; margin-top: 10px; margin-bottom: 10px;\">\n",
    "   <img src=\"img/8.png\" style=\"margin-left:auto; margin-right:auto; width: 75%;\">\n",
    "</div>"
   ]
  },
  {
   "cell_type": "markdown",
   "metadata": {},
   "source": [
    "Podemos seguir el mismo procedimiento para codificar los tests en el fichero `test.py` que hemos creado dentro de la carpeta `test`:\n",
    "\n",
    "<div style=\"width: 100%; clear: both; text-align:center; margin-top: 10px; margin-bottom: 10px;\">\n",
    "   <img src=\"img/11.png\" style=\"margin-left:auto; margin-right:auto; width: 75%;\">\n",
    "</div>"
   ]
  },
  {
   "cell_type": "markdown",
   "metadata": {},
   "source": [
    "Ahora que ya tenéis un proyecto base funcionando en PyCharm, ¡os aconsejamos que exploréis las funcionalidades del IDE! Probad a programar algún análisis adicional, para ver cómo se comporta el editor; navegad por los menús, y observad las opciones que ofrecen; y probad las opciones de *debug* (haciendo clic en el botón inmediatamente inferior a *Run* a la hora de ejecutar un fichero de código). También os recomendamos que generéis alguna gráfica con `matplotlib`, para poder observar cómo se comporta el IDE con las visualizaciones."
   ]
  },
  {
   "cell_type": "markdown",
   "metadata": {},
   "source": [
    "# 7.- Ejercicios para practicar\n",
    "\n",
    "A continuación encontraréis un conjunto de problemas que os pueden servir para practicar los conceptos explicados en esta unidad. Os recomendamos que intentéis realizar estos problemas vosotros mismos y que, una vez realizados, comparéis la solución que proponemos con vuestra solución. No dudéis en dirigir todas las dudas que surjan de la resolución de estos ejercicios o bien de las soluciones propuestas en el foro del aula."
   ]
  },
  {
   "cell_type": "markdown",
   "metadata": {},
   "source": [
    "1. A continuación se encuentra un fragmento de código que genera dos gráficas, que muestran un conjunto de funciones. La generación de las dos gráficas contiene código duplicado, que podría eliminarse haciendo *refactoring*.\n",
    "\n",
    "Aplicad *refactoring* para evitar la repetición de código. Recordad que el *refactoring* no altera el comportamiento del código y, por lo tanto, el código que creéis debe seguir generando las mismas dos gráficas."
   ]
  },
  {
   "cell_type": "code",
   "execution_count": 32,
   "metadata": {},
   "outputs": [],
   "source": [
    "%matplotlib inline"
   ]
  },
  {
   "cell_type": "code",
   "execution_count": 33,
   "metadata": {},
   "outputs": [
    {
     "data": {
      "image/png": "[encoded data removed]",
      "text/plain": [
       "<Figure size 432x288 with 1 Axes>"
      ]
     },
     "metadata": {
      "needs_background": "light"
     },
     "output_type": "display_data"
    },
    {
     "data": {
      "image/png": "[encoded data removed]",
      "text/plain": [
       "<Figure size 432x288 with 1 Axes>"
      ]
     },
     "metadata": {
      "needs_background": "light"
     },
     "output_type": "display_data"
    }
   ],
   "source": [
    "import matplotlib.pyplot as plt\n",
    "from math import factorial\n",
    "\n",
    "# Gráfica 1\n",
    "ys0 = [1 for x in range(10)]\n",
    "ys1 = [x for x in range(10)]\n",
    "ys1_b = [x + 25 for x in range(10)]\n",
    "ys2 = [x**2 for x in range(10)]\n",
    "ys2_b = [x**2 + x for x in range(10)]\n",
    "ys3 = [x**3 for x in range(10)]\n",
    "ys3_b = [x**3 + x**2 for x in range(10)]\n",
    "\n",
    "fig = plt.figure()\n",
    "plt.plot(range(10), ys0, '-', color='tab:brown')\n",
    "plt.plot(range(10), ys1, '-', color='tab:blue')\n",
    "plt.plot(range(10), ys1_b, ':', color='tab:blue')\n",
    "plt.plot(range(10), ys2, '-', color='tab:orange')\n",
    "plt.plot(range(10), ys2_b, ':', color='tab:orange')\n",
    "plt.plot(range(10), ys3, '-', color='tab:green')\n",
    "plt.plot(range(10), ys3_b, ':', color='tab:green')\n",
    "\n",
    "plt.legend([\"$1$\", \"$x$\", \"$x+25$\", \"$x^2$\", \"$x^2+x$\", \"$x^3$\",\n",
    "            \"$x^3+x^2$\"])\n",
    "plt.xlabel('$n$')\n",
    "plt.ylabel('$f(n)$')\n",
    "plt.title('Function growth')\n",
    "plt.show()\n",
    "\n",
    "# Gráfica 2\n",
    "ys0 = [x**5 for x in range(25)]\n",
    "ys1 = [5**x for x in range(25)]\n",
    "ys2 = [factorial(x) for x in range(25)]\n",
    "\n",
    "fig = plt.figure()\n",
    "plt.plot(range(25), ys0)\n",
    "plt.plot(range(25), ys1)\n",
    "plt.plot(range(25), ys2)\n",
    "\n",
    "plt.legend([\"$x^5$\", \"$5^x$\", \"$x!$\"])\n",
    "plt.yscale(\"log\")\n",
    "plt.xlabel('$n$')\n",
    "plt.ylabel('$f(n)$')\n",
    "plt.title('Function growth')\n",
    "plt.show()"
   ]
  },
  {
   "cell_type": "code",
   "execution_count": 52,
   "metadata": {},
   "outputs": [],
   "source": [
    "# Respuesta"
   ]
  },
  {
   "cell_type": "markdown",
   "metadata": {},
   "source": [
    "2. En el código de ejemplo de la sección 4, que analizaba un conjunto de datos sobre la afectación de una pandemia, hemos añadido las dos funciones, que devuelven los valores máximos y mínimos encontrados en una columna del `dataframe` , especificada como parámetro:\n",
    "\n",
    "2.1. Escribid un caso de prueba para la función `get_min_value`, para las columnas `deaths` y `dateRep`.\n",
    "\n",
    "2.2. Escribid un caso de prueba para la función `get_max_value`, para las columnas `deaths` y `dateRep`.\n",
    "\n",
    "2.3. Cread una *suite* con los dos casos de prueba y ejecutadla.\n",
    "\n",
    "2.4. Si habéis detectado algún error, modificad las funciones `get_min_value` y `get_max_value` para controlarlo. Volved a ejecutar la *suite* y comprobad que, efectivamente, las modificaciones realizadas consiguen una correcta ejecución de las funciones."
   ]
  },
  {
   "cell_type": "code",
   "execution_count": 35,
   "metadata": {},
   "outputs": [],
   "source": [
    "def get_min_value(df, col):\n",
    "    \"\"\"\n",
    "    Return the minimum value found in column `col`\n",
    "        of the dataframe `df`.\n",
    "    \"\"\"\n",
    "    return min(df[col])\n",
    "\n",
    "\n",
    "def get_max_value(df, col):\n",
    "    \"\"\"\n",
    "    Return the maximum value found in column `col`\n",
    "        of the dataframe `df`.\n",
    "    \"\"\"\n",
    "    return max(df[col])"
   ]
  },
  {
   "cell_type": "code",
   "execution_count": 53,
   "metadata": {},
   "outputs": [],
   "source": [
    "# Respuesta"
   ]
  },
  {
   "cell_type": "markdown",
   "metadata": {},
   "source": [
    "3. Responded a las siguientes preguntas en relación al entorno de programación en Python que hay en la máquina virtual:\n",
    "\n",
    "3.1. ¿Qué versión de `numpy` hay instalada?\n",
    "\n",
    "3.2. ¿En qué puerto se encuentra escuchando el servidor de `jupyter`?\n",
    "\n",
    "3.3. ¿Cuál es el repositorio de `git` de donde se ha descargado este *notebook*?\n",
    "\n",
    "**Respuesta:**\n"
   ]
  },
  {
   "cell_type": "markdown",
   "metadata": {},
   "source": [
    "## 7.1.- Soluciones a los ejercicios para practicar\n",
    "\n",
    "1. A continuación se encuentra un fragmento de código que genera dos gráficas, que muestran un conjunto de funciones. La generación de las dos gráficas contiene código duplicado, que podría eliminarse haciendo *refactoring*.\n",
    "\n",
    "Aplicad *refactoring* para evitar la repetición de código. Recordad que el *refactoring* no altera el comportamiento del código y, por lo tanto, el código que creéis debe seguir generando las mismas dos gráficas."
   ]
  },
  {
   "cell_type": "code",
   "execution_count": 37,
   "metadata": {},
   "outputs": [],
   "source": [
    "%matplotlib inline"
   ]
  },
  {
   "cell_type": "code",
   "execution_count": 38,
   "metadata": {},
   "outputs": [
    {
     "data": {
      "image/png": "[encoded data removed]",
      "text/plain": [
       "<Figure size 432x288 with 1 Axes>"
      ]
     },
     "metadata": {
      "needs_background": "light"
     },
     "output_type": "display_data"
    },
    {
     "data": {
      "image/png": "[encoded data removed]",
      "text/plain": [
       "<Figure size 432x288 with 1 Axes>"
      ]
     },
     "metadata": {
      "needs_background": "light"
     },
     "output_type": "display_data"
    }
   ],
   "source": [
    "# Código original (del enunciado)\n",
    "import matplotlib.pyplot as plt\n",
    "from math import factorial\n",
    "\n",
    "# Gráfica 1\n",
    "ys0 = [1 for x in range(10)]\n",
    "ys1 = [x for x in range(10)]\n",
    "ys1_b = [x + 25 for x in range(10)]\n",
    "ys2 = [x**2 for x in range(10)]\n",
    "ys2_b = [x**2 + x for x in range(10)]\n",
    "ys3 = [x**3 for x in range(10)]\n",
    "ys3_b = [x**3 + x**2 for x in range(10)]\n",
    "\n",
    "fig = plt.figure()\n",
    "plt.plot(range(10), ys0, '-', color='tab:brown')\n",
    "plt.plot(range(10), ys1, '-', color='tab:blue')\n",
    "plt.plot(range(10), ys1_b, ':', color='tab:blue')\n",
    "plt.plot(range(10), ys2, '-', color='tab:orange')\n",
    "plt.plot(range(10), ys2_b, ':', color='tab:orange')\n",
    "plt.plot(range(10), ys3, '-', color='tab:green')\n",
    "plt.plot(range(10), ys3_b, ':', color='tab:green')\n",
    "\n",
    "plt.legend([\"$1$\", \"$x$\", \"$x+25$\", \"$x^2$\", \"$x^2+x$\", \"$x^3$\",\n",
    "            \"$x^3+x^2$\"])\n",
    "plt.xlabel('$n$')\n",
    "plt.ylabel('$f(n)$')\n",
    "plt.title('Function growth')\n",
    "plt.show()\n",
    "\n",
    "# Gráfica 2\n",
    "ys0 = [x**5 for x in range(25)]\n",
    "ys1 = [5**x for x in range(25)]\n",
    "ys2 = [factorial(x) for x in range(25)]\n",
    "\n",
    "fig = plt.figure()\n",
    "plt.plot(range(25), ys0)\n",
    "plt.plot(range(25), ys1)\n",
    "plt.plot(range(25), ys2)\n",
    "\n",
    "plt.legend([\"$x^5$\", \"$5^x$\", \"$x!$\"])\n",
    "plt.yscale(\"log\")\n",
    "plt.xlabel('$n$')\n",
    "plt.ylabel('$f(n)$')\n",
    "plt.title('Function growth')\n",
    "plt.show()"
   ]
  },
  {
   "cell_type": "code",
   "execution_count": 39,
   "metadata": {},
   "outputs": [],
   "source": [
    "# Respuesta\n",
    "\n",
    "\n",
    "# Función que genera los plots, con parámetros que permiten configurarlos\n",
    "def plot_funs(xs, funs, legs, colors, stys, ylog=False,\n",
    "              title='Function growth', xlabel='$n$', ylabel='$f(n)$'):\n",
    "\n",
    "    fig = plt.figure()\n",
    "\n",
    "    for (f, col, sty) in zip(funs, colors, stys):\n",
    "        ys = [f(x) for x in xs]\n",
    "        plt.plot(xs, ys, sty, color=col)\n",
    "\n",
    "    if ylog:\n",
    "        plt.yscale(\"log\")\n",
    "\n",
    "    plt.legend(legs)\n",
    "    plt.xlabel(xlabel)\n",
    "    plt.ylabel(ylabel)\n",
    "    plt.title(title)\n",
    "    plt.show()"
   ]
  },
  {
   "cell_type": "code",
   "execution_count": 40,
   "metadata": {},
   "outputs": [
    {
     "data": {
      "image/png": "[encoded data removed]",
      "text/plain": [
       "<Figure size 432x288 with 1 Axes>"
      ]
     },
     "metadata": {
      "needs_background": "light"
     },
     "output_type": "display_data"
    }
   ],
   "source": [
    "# Gráfica 1\n",
    "\n",
    "xs = range(10)\n",
    "funs = [lambda x: 1, lambda x: x, lambda x: x + 25,\n",
    "        lambda x: x**2, lambda x: x**2 + x,\n",
    "        lambda x: x**3, lambda x: x**3 + x**2]\n",
    "legs = [\"$1$\", \"$x$\", \"$x+25$\",\n",
    "        \"$x^2$\", \"$x^2+x$\",\n",
    "        \"$x^3$\", \"$x^3+x^2$\"]\n",
    "colors = ['tab:brown', 'tab:blue', 'tab:blue',\n",
    "          'tab:orange', 'tab:orange',\n",
    "          'tab:green', 'tab:green']\n",
    "stys = ['-', '-', ':', '-', ':', '-', ':']\n",
    "\n",
    "plot_funs(xs, funs, legs, colors, stys)"
   ]
  },
  {
   "cell_type": "code",
   "execution_count": 41,
   "metadata": {},
   "outputs": [
    {
     "data": {
      "image/png": "[encoded data removed]",
      "text/plain": [
       "<Figure size 432x288 with 1 Axes>"
      ]
     },
     "metadata": {
      "needs_background": "light"
     },
     "output_type": "display_data"
    }
   ],
   "source": [
    "# Gráfica 2\n",
    "\n",
    "xs = range(25)\n",
    "funs = [lambda x: x**5, lambda x: 5**x, lambda x: factorial(x)]\n",
    "legs = [\"$x^5$\", \"$5^x$\", \"$x!$\"]\n",
    "colors = ['tab:blue', 'tab:orange', 'tab:green']\n",
    "stys = ['-', '-', '-']\n",
    "\n",
    "plot_funs(xs, funs, legs, colors, stys, ylog=True)"
   ]
  },
  {
   "cell_type": "markdown",
   "metadata": {},
   "source": [
    "2. En el código de ejemplo de la sección 4, que analizaba un conjunto de datos sobre la afectación de una pandemia, hemos añadido las dos funciones, que devuelven los valores máximos y mínimos encontrados en una columna del `dataframe` , especificada como parámetro:\n",
    "\n",
    "2.1. Escribid un caso de prueba para la función `get_min_value`, para las columnas `deaths` y `dateRep`.\n",
    "\n",
    "2.2. Escribid un caso de prueba para la función `get_max_value`, para las columnas `deaths` y `dateRep`.\n",
    "\n",
    "2.3. Cread una *suite* con los dos casos de prueba y ejecutadla.\n",
    "\n",
    "2.4. Si habéis detectado algún error, modificad las funciones `get_min_value` y `get_max_value` para controlarlo. Volved a ejecutar la *suite* y comprobad que, efectivamente, las modificaciones realizadas consiguen una correcta ejecución de las funciones."
   ]
  },
  {
   "cell_type": "code",
   "execution_count": 42,
   "metadata": {},
   "outputs": [],
   "source": [
    "def get_min_value(df, col):\n",
    "    \"\"\"\n",
    "    Return the minimum value found in column `col`\n",
    "        of the dataframe `df`.\n",
    "    \"\"\"\n",
    "    return min(df[col])\n",
    "\n",
    "\n",
    "def get_max_value(df, col):\n",
    "    \"\"\"\n",
    "    Return the maximum value found in column `col`\n",
    "        of the dataframe `df`.\n",
    "    \"\"\"\n",
    "    return max(df[col])"
   ]
  },
  {
   "cell_type": "code",
   "execution_count": 54,
   "metadata": {},
   "outputs": [],
   "source": [
    "# Respuesta\n",
    "# 2.1\n",
    "\n",
    "\n",
    "class TestMinValue(unittest.TestCase):\n",
    "\n",
    "    @classmethod\n",
    "    def setUpClass(cls):\n",
    "        print(\"Loading dataset\")\n",
    "        cls._df = pd.read_csv(\"data/COVID-19.csv\")\n",
    "\n",
    "    def test_deaths(self):\n",
    "        print(\"Starting test_deaths\")\n",
    "        # Min deaths can not be negative\n",
    "        self.assertTrue(get_min_value(self._df, \"deaths\") >= 0)\n",
    "\n",
    "    def test_dateRep(self):\n",
    "        print(\"Starting test_dateRep\")\n",
    "        # Min date should have year 2019 (start of the pandemic)\n",
    "        m = get_min_value(self._df, \"dateRep\")\n",
    "        y = m.split(\"/\")\n",
    "        self.assertTrue(y[2] == \"2019\")\n",
    "\n",
    "\n",
    "# 2.2\n",
    "class TestMaxValue(unittest.TestCase):\n",
    "\n",
    "    @classmethod\n",
    "    def setUpClass(cls):\n",
    "        print(\"Loading dataset\")\n",
    "        cls._df = pd.read_csv(\"data/COVID-19.csv\")\n",
    "\n",
    "    def test_deaths(self):\n",
    "        print(\"Starting test_deaths\")\n",
    "        # Max deaths can not be negative\n",
    "        self.assertTrue(get_max_value(self._df, \"deaths\") >= 0)\n",
    "        # Max deaths can not be higher than max cases\n",
    "        d = get_max_value(self._df, \"deaths\")\n",
    "        c = get_max_value(self._df, \"cases\")\n",
    "        self.assertTrue(d <= c)\n",
    "\n",
    "    def test_dateRep(self):\n",
    "        print(\"Starting test_dateRep\")\n",
    "        # Max date should have year 2020 (file contains data until mid-2020)\n",
    "        m = get_max_value(self._df, \"dateRep\")\n",
    "        y = m.split(\"/\")\n",
    "        self.assertTrue(y[2] == \"2020\")"
   ]
  },
  {
   "cell_type": "code",
   "execution_count": 55,
   "metadata": {},
   "outputs": [
    {
     "name": "stderr",
     "output_type": "stream",
     "text": [
      "test_dateRep (__main__.TestMinValue) ... ok\n",
      "test_deaths (__main__.TestMinValue) ... ok\n",
      "test_dateRep (__main__.TestMaxValue) ... ok\n",
      "test_deaths (__main__.TestMaxValue) ... ok\n",
      "\n",
      "----------------------------------------------------------------------\n",
      "Ran 4 tests in 0.105s\n",
      "\n",
      "OK\n"
     ]
    },
    {
     "data": {
      "text/plain": [
       "<unittest.runner.TextTestResult run=4 errors=0 failures=0>"
      ]
     },
     "execution_count": 55,
     "metadata": {},
     "output_type": "execute_result"
    }
   ],
   "source": [
    "# 2.3\n",
    "suite = unittest.TestSuite()\n",
    "suite.addTest(unittest.makeSuite(TestMinValue))\n",
    "suite.addTest(unittest.makeSuite(TestMaxValue))\n",
    "unittest.TextTestRunner(verbosity=2).run(suite)"
   ]
  },
  {
   "cell_type": "code",
   "execution_count": 56,
   "metadata": {},
   "outputs": [],
   "source": [
    "# Efectivamente, si observamos el resultado de estas funciones para\n",
    "# la columna \"dateRep\", podemos comprobar cómo devuelven valores erróneos\n",
    "print(\"Max is: {}\".format(get_max_value(df, \"dateRep\")))\n",
    "print(\"Min is: {}\".format(get_min_value(df, \"dateRep\")))"
   ]
  },
  {
   "cell_type": "code",
   "execution_count": 46,
   "metadata": {},
   "outputs": [
    {
     "data": {
      "text/plain": [
       "dateRep                     object\n",
       "day                          int64\n",
       "month                        int64\n",
       "year                         int64\n",
       "cases                        int64\n",
       "deaths                       int64\n",
       "countriesAndTerritories     object\n",
       "geoId                       object\n",
       "countryterritoryCode        object\n",
       "popData2018                float64\n",
       "continentExp                object\n",
       "dtype: object"
      ]
     },
     "execution_count": 46,
     "metadata": {},
     "output_type": "execute_result"
    }
   ],
   "source": [
    "# Analizando el tipo de datos de las columnas, podemos ver\n",
    "# cuál es el problema (se aplica min() sobre una cadena de\n",
    "# caracteres, por lo que se considera el orden lexicográfico)\n",
    "df.dtypes"
   ]
  },
  {
   "cell_type": "code",
   "execution_count": 47,
   "metadata": {},
   "outputs": [],
   "source": [
    "# 2.4\n",
    "\n",
    "from pandas.api.types import is_string_dtype\n",
    "import numpy as np\n",
    "\n",
    "\n",
    "def get_min_value(df, col):\n",
    "    \"\"\"\n",
    "    Return the minimum value found in column `col`\n",
    "        of the dataframe `df`.\n",
    "    \"\"\"\n",
    "    if is_string_dtype(df[col]):\n",
    "        # Si la columna es de tipo cadena de caracteres, la convertimos\n",
    "        # a datetime antes de calcular el mínimo\n",
    "        i = np.argmin(np.array(pd.to_datetime(df[col])))\n",
    "        return df[col][i]\n",
    "    else:\n",
    "        return min(df[col])\n",
    "\n",
    "\n",
    "def get_max_value(df, col):\n",
    "    \"\"\"\n",
    "    Return the maximum value found in column `col`\n",
    "        of the dataframe `df`.\n",
    "    \"\"\"\n",
    "    if is_string_dtype(df[col]):\n",
    "        # Si la columna es de tipo cadena de caracteres, la convertimos\n",
    "        # a datetime antes de calcular el máximo\n",
    "        i = np.argmax(np.array(pd.to_datetime(df[col])))\n",
    "        return df[col][i]\n",
    "    else:\n",
    "        return max(df[col])"
   ]
  },
  {
   "cell_type": "code",
   "execution_count": 48,
   "metadata": {},
   "outputs": [
    {
     "name": "stderr",
     "output_type": "stream",
     "text": [
      "test_dateRep (__main__.TestMinValue) ... ok\n",
      "test_deaths (__main__.TestMinValue) ... ok\n",
      "test_dateRep (__main__.TestMaxValue) ... ok\n",
      "test_deaths (__main__.TestMaxValue) ... ok\n",
      "\n",
      "----------------------------------------------------------------------\n",
      "Ran 4 tests in 0.075s\n",
      "\n",
      "OK\n"
     ]
    },
    {
     "data": {
      "text/plain": [
       "<unittest.runner.TextTestResult run=4 errors=0 failures=0>"
      ]
     },
     "execution_count": 48,
     "metadata": {},
     "output_type": "execute_result"
    }
   ],
   "source": [
    "# Volvemos a ejecutar la suite de tests\n",
    "suite = unittest.TestSuite()\n",
    "suite.addTest(unittest.makeSuite(TestMinValue))\n",
    "suite.addTest(unittest.makeSuite(TestMaxValue))\n",
    "unittest.TextTestRunner(verbosity=2).run(suite)"
   ]
  },
  {
   "cell_type": "markdown",
   "metadata": {},
   "source": [
    "3. Responded a las siguientes preguntas en relación al entorno de programación en Python que hay en la máquina virtual:\n",
    "\n",
    "3.1. ¿Qué versión de `numpy` hay instalada?"
   ]
  },
  {
   "cell_type": "markdown",
   "metadata": {},
   "source": [
    "**Respuesta:**\n",
    "\n",
    "Podemos comprobarlo ejecutando:\n",
    "\n",
    "```\n",
    "$ pip freeze | grep numpy\n",
    "```\n",
    "y obtendremos: `numpy==1.17.0`"
   ]
  },
  {
   "cell_type": "markdown",
   "metadata": {},
   "source": [
    "3.2. ¿En qué puerto se encuentra escuchando el servidor de `jupyter`?"
   ]
  },
  {
   "cell_type": "markdown",
   "metadata": {},
   "source": [
    "**Respuesta:**\n",
    "\n",
    "El servidor de `jupyter` se encuentra en el puerto `8888`, tal como se indica en la consola al lanzarlo:\n",
    "\n",
    "```\n",
    "The Jupyter Notebook is running at:\n",
    "http://localhost:8888/?token=****\n",
    "```"
   ]
  },
  {
   "cell_type": "markdown",
   "metadata": {},
   "source": [
    "3.3. ¿Cuál es el repositorio de `git` de donde se ha descargado este *notebook*?"
   ]
  },
  {
   "cell_type": "markdown",
   "metadata": {},
   "source": [
    "**Respuesta:**\n",
    "\n",
    "El *notebook* sobre el que trabajamos se encuentra en el repositorio:\n",
    "https://eimtgit.uoc.edu/prog_datasci_2/resources/unit_6\n",
    "\n",
    "tal y como podemos ver en el *script* `get_content.sh` que usamos para descargar el contenido de la asignatura, o bien ejecutando:\n",
    "\n",
    "```\n",
    "git config --get remote.origin.url\n",
    "```\n",
    "\n",
    "desde la copia en local del repositorio."
   ]
  },
  {
   "cell_type": "markdown",
   "metadata": {},
   "source": [
    "# 8.- Bibliografía\n",
    "\n",
    "\n",
    "## 8.1.- Bibliografía básica\n",
    "\n",
    "La bibliografía básica de esta unidad es el contenido explicado en el *notebook* (no es necesario consultar ningún enlace externo).\n"
   ]
  },
  {
   "cell_type": "markdown",
   "metadata": {},
   "source": [
    "## 8.2.- Bibliografía adicional - Ampliación de conocimientos\n",
    "\n",
    "Esta unidad presenta una recopilación de conceptos y herramientas relacionados con la programación en Python, y que van más allá del código en sí mismo. Cada uno de estas conceptos y herramientas es todo un mundo por sí mismo, del que aquí sólo hemos presentado una pequeña introducción.\n",
    "\n",
    "* **Organización y distribución de código**: Si estáis interesados en aprender detalles adicionales sobre la estructuración en paquetes de código Python, os recomendamos la lectura [del artículo siguiente](https://intermediate-and-advanced-software-carpentry.readthedocs.io/en/latest/structuring-python.html) del curso de programación en Python de T. Brown. Por otro lado, si deseáis conocer el proceso de preparar un paquete Python para su distribución, se recomienda la lectura de la [documentación oficial de `setuptools`](https://setuptools.readthedocs.io/en/latest/setuptools.html).\n",
    "\n",
    "* **Git**: Esta sección sólo incluye una muy breve introducción a git. Para acabar de entender los conceptos claves de git, se recomienda consultar estos tres vídeo-tutoriales ([1](https://www.youtube.com/watch?v=8oRjP8yj2Wo), [2](https://www.youtube.com/watch?v=uhtzxPU7Bz0), [3](https://www.youtube.com/watch?v=7w5Z7LmyLgI)) de las guías oficiales que explican más visualmente las ideas sobre las que se construye git. Por otro lado, si deseáis ir más allá de estos conceptos clave, os recomendamos la lectura de la [git pocket guide](https://www.oreilly.com/library/view/git-pocket-guide/9781449327507/ch01.html), y consultar la página [recursos de GitHub](https://try.github.io/), que contiene varios tutoriales interactivos.\n",
    "\n",
    "* **Testing**: Podéis revisar la [tabla de la documentación oficial](https://docs.python.org/3.8/library/unittest.html#unittest.TestCase.debug) para ver un resumen de todas las sentencias *assert* disponibles en el módulo.\n",
    "\n",
    "* **Programación orientada a objetos:** En uno de los ejemplos de `unittest`, se ha utilizado el decorador `@classmethod`. Investigad sobre qué son los decoradores en Python y, en concreto, por qué se utiliza `@classmethod`."
   ]
  }
 ],
 "metadata": {
  "kernelspec": {
   "display_name": "Python 3",
   "language": "python",
   "name": "python3"
  },
  "language_info": {
   "codemirror_mode": {
    "name": "ipython",
    "version": 3
   },
   "file_extension": ".py",
   "mimetype": "text/x-python",
   "name": "python",
   "nbconvert_exporter": "python",
   "pygments_lexer": "ipython3",
   "version": "3.6.8"
  }
 },
 "nbformat": 4,
 "nbformat_minor": 2
}
